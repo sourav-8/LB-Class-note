{
 "cells": [
  {
   "cell_type": "markdown",
   "metadata": {
    "id": "RUCf4KiUvvcl"
   },
   "source": [
    "## Text Preprocessing"
   ]
  },
  {
   "cell_type": "markdown",
   "metadata": {
    "id": "vGqMk4ChpFCL"
   },
   "source": [
    "In any machine learning task, cleaning or preprocessing the data is as important as model building if not more. And when it comes to unstructured data like text, this process is even more important.\n",
    "\n",
    "Objective of this code is to understand the various text preprocessing steps with examples.\n",
    "\n",
    "Some of the common text preprocessing / cleaning steps are:\n",
    "\n",
    "* Lower casing\n",
    "* Removal of Punctuations\n",
    "* Removal of Stopwords\n",
    "* Removal of Frequent words\n",
    "* Removal of Rare words\n",
    "* Stemming\n",
    "* Lemmatization\n",
    "* Removal of emojis\n",
    "* Removal of emoticons\n",
    "* Conversion of emoticons to words\n",
    "* Conversion of emojis to words\n",
    "* Removal of URLs\n",
    "* Removal of HTML tags\n",
    "* Chat words conversion\n",
    "* Spelling correction\n",
    "\n",
    "\n",
    "So these are the different types of text preprocessing steps which we can do on text data. But we need not do all of these all the times. We need to carefully choose the preprocessing steps based on our use case since that also play an important role.\n",
    "\n",
    "For example, in sentiment analysis use case, we need not remove the emojis or emoticons as it will convey some important information about the sentiment. Similarly we need to decide based on our use cases."
   ]
  },
  {
   "cell_type": "code",
   "execution_count": 1,
   "metadata": {
    "id": "c2J5Z7NVoQDK"
   },
   "outputs": [
    {
     "ename": "ModuleNotFoundError",
     "evalue": "No module named 'spacy'",
     "output_type": "error",
     "traceback": [
      "\u001b[1;31m---------------------------------------------------------------------------\u001b[0m",
      "\u001b[1;31mModuleNotFoundError\u001b[0m                       Traceback (most recent call last)",
      "\u001b[1;32m<ipython-input-1-dce25527ca34>\u001b[0m in \u001b[0;36m<module>\u001b[1;34m\u001b[0m\n\u001b[0;32m      2\u001b[0m \u001b[1;32mimport\u001b[0m \u001b[0mre\u001b[0m\u001b[1;33m\u001b[0m\u001b[1;33m\u001b[0m\u001b[0m\n\u001b[0;32m      3\u001b[0m \u001b[1;32mimport\u001b[0m \u001b[0mnltk\u001b[0m\u001b[1;33m\u001b[0m\u001b[1;33m\u001b[0m\u001b[0m\n\u001b[1;32m----> 4\u001b[1;33m \u001b[1;32mimport\u001b[0m \u001b[0mspacy\u001b[0m\u001b[1;33m\u001b[0m\u001b[1;33m\u001b[0m\u001b[0m\n\u001b[0m\u001b[0;32m      5\u001b[0m \u001b[1;32mimport\u001b[0m \u001b[0mstring\u001b[0m\u001b[1;33m\u001b[0m\u001b[1;33m\u001b[0m\u001b[0m\n",
      "\u001b[1;31mModuleNotFoundError\u001b[0m: No module named 'spacy'"
     ]
    }
   ],
   "source": [
    "import pandas as pd\n",
    "import re\n",
    "import nltk\n",
    "import spacy\n",
    "import string"
   ]
  },
  {
   "cell_type": "code",
   "execution_count": 2,
   "metadata": {},
   "outputs": [
    {
     "name": "stdout",
     "output_type": "stream",
     "text": [
      "Collecting spacy\n",
      "  Downloading spacy-2.3.2-cp37-cp37m-win_amd64.whl (9.3 MB)\n",
      "Collecting preshed<3.1.0,>=3.0.2\n",
      "  Downloading preshed-3.0.2-cp37-cp37m-win_amd64.whl (105 kB)\n",
      "Collecting wasabi<1.1.0,>=0.4.0\n",
      "  Downloading wasabi-0.8.0-py3-none-any.whl (23 kB)\n",
      "Collecting srsly<1.1.0,>=1.0.2\n",
      "  Downloading srsly-1.0.2-cp37-cp37m-win_amd64.whl (179 kB)\n",
      "Requirement already satisfied: tqdm<5.0.0,>=4.38.0 in c:\\users\\soura\\anaconda3\\lib\\site-packages (from spacy) (4.42.1)\n",
      "Requirement already satisfied: requests<3.0.0,>=2.13.0 in c:\\users\\soura\\anaconda3\\lib\\site-packages (from spacy) (2.22.0)\n",
      "Collecting catalogue<1.1.0,>=0.0.7\n",
      "  Downloading catalogue-1.0.0-py2.py3-none-any.whl (7.7 kB)\n",
      "Collecting thinc==7.4.1\n",
      "  Downloading thinc-7.4.1-cp37-cp37m-win_amd64.whl (2.0 MB)\n",
      "Collecting plac<1.2.0,>=0.9.6\n",
      "  Downloading plac-1.1.3-py2.py3-none-any.whl (20 kB)\n",
      "Collecting blis<0.5.0,>=0.4.0\n",
      "  Downloading blis-0.4.1-cp37-cp37m-win_amd64.whl (5.0 MB)\n",
      "Requirement already satisfied: setuptools in c:\\users\\soura\\anaconda3\\lib\\site-packages (from spacy) (45.2.0.post20200210)\n",
      "Collecting cymem<2.1.0,>=2.0.2\n",
      "  Downloading cymem-2.0.3-cp37-cp37m-win_amd64.whl (32 kB)\n",
      "Collecting murmurhash<1.1.0,>=0.28.0\n",
      "  Downloading murmurhash-1.0.2-cp37-cp37m-win_amd64.whl (20 kB)\n",
      "Requirement already satisfied: numpy>=1.15.0 in c:\\users\\soura\\anaconda3\\lib\\site-packages (from spacy) (1.18.1)\n",
      "Requirement already satisfied: chardet<3.1.0,>=3.0.2 in c:\\users\\soura\\anaconda3\\lib\\site-packages (from requests<3.0.0,>=2.13.0->spacy) (3.0.4)\n",
      "Requirement already satisfied: idna<2.9,>=2.5 in c:\\users\\soura\\anaconda3\\lib\\site-packages (from requests<3.0.0,>=2.13.0->spacy) (2.8)\n",
      "Requirement already satisfied: certifi>=2017.4.17 in c:\\users\\soura\\anaconda3\\lib\\site-packages (from requests<3.0.0,>=2.13.0->spacy) (2019.11.28)\n",
      "Requirement already satisfied: urllib3!=1.25.0,!=1.25.1,<1.26,>=1.21.1 in c:\\users\\soura\\anaconda3\\lib\\site-packages (from requests<3.0.0,>=2.13.0->spacy) (1.25.8)\n",
      "Requirement already satisfied: importlib-metadata>=0.20; python_version < \"3.8\" in c:\\users\\soura\\anaconda3\\lib\\site-packages (from catalogue<1.1.0,>=0.0.7->spacy) (1.5.0)\n",
      "Requirement already satisfied: zipp>=0.5 in c:\\users\\soura\\anaconda3\\lib\\site-packages (from importlib-metadata>=0.20; python_version < \"3.8\"->catalogue<1.1.0,>=0.0.7->spacy) (2.2.0)\n",
      "Installing collected packages: cymem, murmurhash, preshed, wasabi, srsly, catalogue, plac, blis, thinc, spacy\n",
      "Successfully installed blis-0.4.1 catalogue-1.0.0 cymem-2.0.3 murmurhash-1.0.2 plac-1.1.3 preshed-3.0.2 spacy-2.3.2 srsly-1.0.2 thinc-7.4.1 wasabi-0.8.0\n",
      "Note: you may need to restart the kernel to use updated packages.\n"
     ]
    }
   ],
   "source": [
    "pip install spacy"
   ]
  },
  {
   "cell_type": "code",
   "execution_count": null,
   "metadata": {
    "colab": {
     "base_uri": "https://localhost:8080/",
     "height": 54
    },
    "id": "kYfe6OodpiHe",
    "outputId": "561b28e6-b473-4246-cb35-0795c960974b"
   },
   "outputs": [
    {
     "name": "stdout",
     "output_type": "stream",
     "text": [
      "Drive already mounted at /content/drive; to attempt to forcibly remount, call drive.mount(\"/content/drive\", force_remount=True).\n"
     ]
    }
   ],
   "source": [
    "# from google.colab import drive\n",
    "# drive.mount('/content/drive')"
   ]
  },
  {
   "cell_type": "code",
   "execution_count": null,
   "metadata": {
    "colab": {
     "base_uri": "https://localhost:8080/",
     "height": 34
    },
    "id": "HZSsXrBepr5g",
    "outputId": "eedea145-6ac4-4eca-e622-48089c3ccfe4"
   },
   "outputs": [
    {
     "name": "stdout",
     "output_type": "stream",
     "text": [
      "creditcard.csv\tdataset  pubg  twcs.csv  uci-news-aggregator.csv\n"
     ]
    }
   ],
   "source": [
    "# ! ls \"/content/drive/My Drive/data\""
   ]
  },
  {
   "cell_type": "code",
   "execution_count": null,
   "metadata": {
    "colab": {
     "base_uri": "https://localhost:8080/",
     "height": 411
    },
    "id": "X0O40QtBqcAx",
    "outputId": "4789e1fd-5994-4981-d47b-c9e92a57854e"
   },
   "outputs": [
    {
     "name": "stderr",
     "output_type": "stream",
     "text": [
      "/usr/local/lib/python3.6/dist-packages/ipykernel_launcher.py:3: SettingWithCopyWarning: \n",
      "A value is trying to be set on a copy of a slice from a DataFrame.\n",
      "Try using .loc[row_indexer,col_indexer] = value instead\n",
      "\n",
      "See the caveats in the documentation: https://pandas.pydata.org/pandas-docs/stable/user_guide/indexing.html#returning-a-view-versus-a-copy\n",
      "  This is separate from the ipykernel package so we can avoid doing imports until\n"
     ]
    },
    {
     "data": {
      "text/html": [
       "<div>\n",
       "<style scoped>\n",
       "    .dataframe tbody tr th:only-of-type {\n",
       "        vertical-align: middle;\n",
       "    }\n",
       "\n",
       "    .dataframe tbody tr th {\n",
       "        vertical-align: top;\n",
       "    }\n",
       "\n",
       "    .dataframe thead th {\n",
       "        text-align: right;\n",
       "    }\n",
       "</style>\n",
       "<table border=\"1\" class=\"dataframe\">\n",
       "  <thead>\n",
       "    <tr style=\"text-align: right;\">\n",
       "      <th></th>\n",
       "      <th>tweet_id</th>\n",
       "      <th>author_id</th>\n",
       "      <th>inbound</th>\n",
       "      <th>created_at</th>\n",
       "      <th>text</th>\n",
       "      <th>response_tweet_id</th>\n",
       "      <th>in_response_to_tweet_id</th>\n",
       "    </tr>\n",
       "  </thead>\n",
       "  <tbody>\n",
       "    <tr>\n",
       "      <th>0</th>\n",
       "      <td>1</td>\n",
       "      <td>sprintcare</td>\n",
       "      <td>False</td>\n",
       "      <td>Tue Oct 31 22:10:47 +0000 2017</td>\n",
       "      <td>@115712 I understand. I would like to assist y...</td>\n",
       "      <td>2</td>\n",
       "      <td>3.0</td>\n",
       "    </tr>\n",
       "    <tr>\n",
       "      <th>1</th>\n",
       "      <td>2</td>\n",
       "      <td>115712</td>\n",
       "      <td>True</td>\n",
       "      <td>Tue Oct 31 22:11:45 +0000 2017</td>\n",
       "      <td>@sprintcare and how do you propose we do that</td>\n",
       "      <td>NaN</td>\n",
       "      <td>1.0</td>\n",
       "    </tr>\n",
       "    <tr>\n",
       "      <th>2</th>\n",
       "      <td>3</td>\n",
       "      <td>115712</td>\n",
       "      <td>True</td>\n",
       "      <td>Tue Oct 31 22:08:27 +0000 2017</td>\n",
       "      <td>@sprintcare I have sent several private messag...</td>\n",
       "      <td>1</td>\n",
       "      <td>4.0</td>\n",
       "    </tr>\n",
       "    <tr>\n",
       "      <th>3</th>\n",
       "      <td>4</td>\n",
       "      <td>sprintcare</td>\n",
       "      <td>False</td>\n",
       "      <td>Tue Oct 31 21:54:49 +0000 2017</td>\n",
       "      <td>@115712 Please send us a Private Message so th...</td>\n",
       "      <td>3</td>\n",
       "      <td>5.0</td>\n",
       "    </tr>\n",
       "    <tr>\n",
       "      <th>4</th>\n",
       "      <td>5</td>\n",
       "      <td>115712</td>\n",
       "      <td>True</td>\n",
       "      <td>Tue Oct 31 21:49:35 +0000 2017</td>\n",
       "      <td>@sprintcare I did.</td>\n",
       "      <td>4</td>\n",
       "      <td>6.0</td>\n",
       "    </tr>\n",
       "  </tbody>\n",
       "</table>\n",
       "</div>"
      ],
      "text/plain": [
       "   tweet_id   author_id  ...  response_tweet_id in_response_to_tweet_id\n",
       "0         1  sprintcare  ...                  2                     3.0\n",
       "1         2      115712  ...                NaN                     1.0\n",
       "2         3      115712  ...                  1                     4.0\n",
       "3         4  sprintcare  ...                  3                     5.0\n",
       "4         5      115712  ...                  4                     6.0\n",
       "\n",
       "[5 rows x 7 columns]"
      ]
     },
     "execution_count": 14,
     "metadata": {
      "tags": []
     },
     "output_type": "execute_result"
    }
   ],
   "source": [
    "full_df = pd.read_csv(\"C:\\Users\\soura\\Desktop\\DataFiles\\twcs.csv\", nrows=8000)\n",
    "df = full_df[[\"text\"]]\n",
    "df[\"text\"] = df[\"text\"].astype(str)\n",
    "full_df.head()"
   ]
  },
  {
   "cell_type": "markdown",
   "metadata": {
    "id": "G1pmhX9Tqj_t"
   },
   "source": [
    "1. Lower case conversion"
   ]
  },
  {
   "cell_type": "code",
   "execution_count": null,
   "metadata": {
    "colab": {
     "base_uri": "https://localhost:8080/",
     "height": 394
    },
    "id": "dWN8PEIlqmgS",
    "outputId": "7dc65e1d-1d96-4f40-c22b-b0b7280c20ac"
   },
   "outputs": [
    {
     "name": "stderr",
     "output_type": "stream",
     "text": [
      "/usr/local/lib/python3.6/dist-packages/ipykernel_launcher.py:1: SettingWithCopyWarning: \n",
      "A value is trying to be set on a copy of a slice from a DataFrame.\n",
      "Try using .loc[row_indexer,col_indexer] = value instead\n",
      "\n",
      "See the caveats in the documentation: https://pandas.pydata.org/pandas-docs/stable/user_guide/indexing.html#returning-a-view-versus-a-copy\n",
      "  \"\"\"Entry point for launching an IPython kernel.\n"
     ]
    },
    {
     "data": {
      "text/html": [
       "<div>\n",
       "<style scoped>\n",
       "    .dataframe tbody tr th:only-of-type {\n",
       "        vertical-align: middle;\n",
       "    }\n",
       "\n",
       "    .dataframe tbody tr th {\n",
       "        vertical-align: top;\n",
       "    }\n",
       "\n",
       "    .dataframe thead th {\n",
       "        text-align: right;\n",
       "    }\n",
       "</style>\n",
       "<table border=\"1\" class=\"dataframe\">\n",
       "  <thead>\n",
       "    <tr style=\"text-align: right;\">\n",
       "      <th></th>\n",
       "      <th>text</th>\n",
       "      <th>text_lower</th>\n",
       "      <th>text_wo_punct</th>\n",
       "      <th>text_wo_stop</th>\n",
       "      <th>text_stemmed</th>\n",
       "    </tr>\n",
       "  </thead>\n",
       "  <tbody>\n",
       "    <tr>\n",
       "      <th>0</th>\n",
       "      <td>@115712 I understand. I would like to assist y...</td>\n",
       "      <td>@115712 i understand. i would like to assist y...</td>\n",
       "      <td>115712 i understand i would like to assist you...</td>\n",
       "      <td>115712 understand would like assist would need...</td>\n",
       "      <td>@115712 i understand. i would like to assist y...</td>\n",
       "    </tr>\n",
       "    <tr>\n",
       "      <th>1</th>\n",
       "      <td>@sprintcare and how do you propose we do that</td>\n",
       "      <td>@sprintcare and how do you propose we do that</td>\n",
       "      <td>sprintcare and how do you propose we do that</td>\n",
       "      <td>sprintcare propose</td>\n",
       "      <td>@sprintcar and how do you propos we do that</td>\n",
       "    </tr>\n",
       "    <tr>\n",
       "      <th>2</th>\n",
       "      <td>@sprintcare I have sent several private messag...</td>\n",
       "      <td>@sprintcare i have sent several private messag...</td>\n",
       "      <td>sprintcare i have sent several private message...</td>\n",
       "      <td>sprintcare sent several private messages one r...</td>\n",
       "      <td>@sprintcar i have sent sever privat messag and...</td>\n",
       "    </tr>\n",
       "    <tr>\n",
       "      <th>3</th>\n",
       "      <td>@115712 Please send us a Private Message so th...</td>\n",
       "      <td>@115712 please send us a private message so th...</td>\n",
       "      <td>115712 please send us a private message so tha...</td>\n",
       "      <td>115712 please send us private message assist c...</td>\n",
       "      <td>@115712 pleas send us a privat messag so that ...</td>\n",
       "    </tr>\n",
       "    <tr>\n",
       "      <th>4</th>\n",
       "      <td>@sprintcare I did.</td>\n",
       "      <td>@sprintcare i did.</td>\n",
       "      <td>sprintcare i did</td>\n",
       "      <td>sprintcare</td>\n",
       "      <td>@sprintcar i did.</td>\n",
       "    </tr>\n",
       "  </tbody>\n",
       "</table>\n",
       "</div>"
      ],
      "text/plain": [
       "                                                text  ...                                       text_stemmed\n",
       "0  @115712 I understand. I would like to assist y...  ...  @115712 i understand. i would like to assist y...\n",
       "1      @sprintcare and how do you propose we do that  ...        @sprintcar and how do you propos we do that\n",
       "2  @sprintcare I have sent several private messag...  ...  @sprintcar i have sent sever privat messag and...\n",
       "3  @115712 Please send us a Private Message so th...  ...  @115712 pleas send us a privat messag so that ...\n",
       "4                                 @sprintcare I did.  ...                                  @sprintcar i did.\n",
       "\n",
       "[5 rows x 5 columns]"
      ]
     },
     "execution_count": 29,
     "metadata": {
      "tags": []
     },
     "output_type": "execute_result"
    }
   ],
   "source": [
    "df[\"text_lower\"] = df[\"text\"].str.lower()\n",
    "df.head()"
   ]
  },
  {
   "cell_type": "markdown",
   "metadata": {
    "id": "Vg43I6c3qsYi"
   },
   "source": [
    "2. Remove Punctuations"
   ]
  },
  {
   "cell_type": "code",
   "execution_count": null,
   "metadata": {
    "colab": {
     "base_uri": "https://localhost:8080/",
     "height": 411
    },
    "id": "diGEs71mqtPr",
    "outputId": "3859ae68-7dc0-424e-c840-858ccda78323"
   },
   "outputs": [
    {
     "name": "stdout",
     "output_type": "stream",
     "text": [
      "!\"#$%&'()*+,-./:;<=>?@[\\]^_`{|}~\n"
     ]
    },
    {
     "name": "stderr",
     "output_type": "stream",
     "text": [
      "/usr/local/lib/python3.6/dist-packages/ipykernel_launcher.py:10: SettingWithCopyWarning: \n",
      "A value is trying to be set on a copy of a slice from a DataFrame.\n",
      "Try using .loc[row_indexer,col_indexer] = value instead\n",
      "\n",
      "See the caveats in the documentation: https://pandas.pydata.org/pandas-docs/stable/user_guide/indexing.html#returning-a-view-versus-a-copy\n",
      "  # Remove the CWD from sys.path while we load stuff.\n"
     ]
    },
    {
     "data": {
      "text/html": [
       "<div>\n",
       "<style scoped>\n",
       "    .dataframe tbody tr th:only-of-type {\n",
       "        vertical-align: middle;\n",
       "    }\n",
       "\n",
       "    .dataframe tbody tr th {\n",
       "        vertical-align: top;\n",
       "    }\n",
       "\n",
       "    .dataframe thead th {\n",
       "        text-align: right;\n",
       "    }\n",
       "</style>\n",
       "<table border=\"1\" class=\"dataframe\">\n",
       "  <thead>\n",
       "    <tr style=\"text-align: right;\">\n",
       "      <th></th>\n",
       "      <th>text</th>\n",
       "      <th>text_lower</th>\n",
       "      <th>text_wo_punct</th>\n",
       "      <th>text_wo_stop</th>\n",
       "      <th>text_stemmed</th>\n",
       "    </tr>\n",
       "  </thead>\n",
       "  <tbody>\n",
       "    <tr>\n",
       "      <th>0</th>\n",
       "      <td>@115712 I understand. I would like to assist y...</td>\n",
       "      <td>@115712 i understand. i would like to assist y...</td>\n",
       "      <td>115712 i understand i would like to assist you...</td>\n",
       "      <td>115712 understand would like assist would need...</td>\n",
       "      <td>@115712 i understand. i would like to assist y...</td>\n",
       "    </tr>\n",
       "    <tr>\n",
       "      <th>1</th>\n",
       "      <td>@sprintcare and how do you propose we do that</td>\n",
       "      <td>@sprintcare and how do you propose we do that</td>\n",
       "      <td>sprintcare and how do you propose we do that</td>\n",
       "      <td>sprintcare propose</td>\n",
       "      <td>@sprintcar and how do you propos we do that</td>\n",
       "    </tr>\n",
       "    <tr>\n",
       "      <th>2</th>\n",
       "      <td>@sprintcare I have sent several private messag...</td>\n",
       "      <td>@sprintcare i have sent several private messag...</td>\n",
       "      <td>sprintcare i have sent several private message...</td>\n",
       "      <td>sprintcare sent several private messages one r...</td>\n",
       "      <td>@sprintcar i have sent sever privat messag and...</td>\n",
       "    </tr>\n",
       "    <tr>\n",
       "      <th>3</th>\n",
       "      <td>@115712 Please send us a Private Message so th...</td>\n",
       "      <td>@115712 please send us a private message so th...</td>\n",
       "      <td>115712 please send us a private message so tha...</td>\n",
       "      <td>115712 please send us private message assist c...</td>\n",
       "      <td>@115712 pleas send us a privat messag so that ...</td>\n",
       "    </tr>\n",
       "    <tr>\n",
       "      <th>4</th>\n",
       "      <td>@sprintcare I did.</td>\n",
       "      <td>@sprintcare i did.</td>\n",
       "      <td>sprintcare i did</td>\n",
       "      <td>sprintcare</td>\n",
       "      <td>@sprintcar i did.</td>\n",
       "    </tr>\n",
       "  </tbody>\n",
       "</table>\n",
       "</div>"
      ],
      "text/plain": [
       "                                                text  ...                                       text_stemmed\n",
       "0  @115712 I understand. I would like to assist y...  ...  @115712 i understand. i would like to assist y...\n",
       "1      @sprintcare and how do you propose we do that  ...        @sprintcar and how do you propos we do that\n",
       "2  @sprintcare I have sent several private messag...  ...  @sprintcar i have sent sever privat messag and...\n",
       "3  @115712 Please send us a Private Message so th...  ...  @115712 pleas send us a privat messag so that ...\n",
       "4                                 @sprintcare I did.  ...                                  @sprintcar i did.\n",
       "\n",
       "[5 rows x 5 columns]"
      ]
     },
     "execution_count": 30,
     "metadata": {
      "tags": []
     },
     "output_type": "execute_result"
    }
   ],
   "source": [
    "# drop the new column created in last cell\n",
    "# df.drop([\"text_lower\"], axis=1, inplace=True)\n",
    "\n",
    "PUNCT_TO_REMOVE = string.punctuation\n",
    "print (PUNCT_TO_REMOVE)\n",
    "def remove_punctuation(text):\n",
    "    \"\"\"custom function to remove the punctuation\"\"\"\n",
    "    return text.translate(str.maketrans('', '', PUNCT_TO_REMOVE))\n",
    "\n",
    "df[\"text_wo_punct\"] = df[\"text_lower\"].apply(lambda text: remove_punctuation(text))\n",
    "df.head()"
   ]
  },
  {
   "cell_type": "code",
   "execution_count": null,
   "metadata": {
    "colab": {
     "base_uri": "https://localhost:8080/",
     "height": 1000
    },
    "id": "X2QZshds-7hu",
    "outputId": "d9e37178-780e-4add-9753-6ac10b740826"
   },
   "outputs": [
    {
     "data": {
      "text/html": [
       "<div>\n",
       "<style scoped>\n",
       "    .dataframe tbody tr th:only-of-type {\n",
       "        vertical-align: middle;\n",
       "    }\n",
       "\n",
       "    .dataframe tbody tr th {\n",
       "        vertical-align: top;\n",
       "    }\n",
       "\n",
       "    .dataframe thead th {\n",
       "        text-align: right;\n",
       "    }\n",
       "</style>\n",
       "<table border=\"1\" class=\"dataframe\">\n",
       "  <thead>\n",
       "    <tr style=\"text-align: right;\">\n",
       "      <th></th>\n",
       "      <th>text</th>\n",
       "      <th>text_lower</th>\n",
       "      <th>text_wo_punct</th>\n",
       "      <th>text_wo_stop</th>\n",
       "      <th>text_stemmed</th>\n",
       "    </tr>\n",
       "  </thead>\n",
       "  <tbody>\n",
       "    <tr>\n",
       "      <th>0</th>\n",
       "      <td>@115712 I understand. I would like to assist y...</td>\n",
       "      <td>@115712 i understand. i would like to assist y...</td>\n",
       "      <td>115712 i understand i would like to assist you...</td>\n",
       "      <td>115712 understand would like assist would need...</td>\n",
       "      <td>@115712 i understand. i would like to assist y...</td>\n",
       "    </tr>\n",
       "    <tr>\n",
       "      <th>1</th>\n",
       "      <td>@sprintcare and how do you propose we do that</td>\n",
       "      <td>@sprintcare and how do you propose we do that</td>\n",
       "      <td>sprintcare and how do you propose we do that</td>\n",
       "      <td>sprintcare propose</td>\n",
       "      <td>@sprintcar and how do you propos we do that</td>\n",
       "    </tr>\n",
       "    <tr>\n",
       "      <th>2</th>\n",
       "      <td>@sprintcare I have sent several private messag...</td>\n",
       "      <td>@sprintcare i have sent several private messag...</td>\n",
       "      <td>sprintcare i have sent several private message...</td>\n",
       "      <td>sprintcare sent several private messages one r...</td>\n",
       "      <td>@sprintcar i have sent sever privat messag and...</td>\n",
       "    </tr>\n",
       "    <tr>\n",
       "      <th>3</th>\n",
       "      <td>@115712 Please send us a Private Message so th...</td>\n",
       "      <td>@115712 please send us a private message so th...</td>\n",
       "      <td>115712 please send us a private message so tha...</td>\n",
       "      <td>115712 please send us private message assist c...</td>\n",
       "      <td>@115712 pleas send us a privat messag so that ...</td>\n",
       "    </tr>\n",
       "    <tr>\n",
       "      <th>4</th>\n",
       "      <td>@sprintcare I did.</td>\n",
       "      <td>@sprintcare i did.</td>\n",
       "      <td>sprintcare i did</td>\n",
       "      <td>sprintcare</td>\n",
       "      <td>@sprintcar i did.</td>\n",
       "    </tr>\n",
       "    <tr>\n",
       "      <th>5</th>\n",
       "      <td>@115712 Can you please send us a private messa...</td>\n",
       "      <td>@115712 can you please send us a private messa...</td>\n",
       "      <td>115712 can you please send us a private messag...</td>\n",
       "      <td>115712 please send us private message gain det...</td>\n",
       "      <td>@115712 can you pleas send us a privat message...</td>\n",
       "    </tr>\n",
       "    <tr>\n",
       "      <th>6</th>\n",
       "      <td>@sprintcare is the worst customer service</td>\n",
       "      <td>@sprintcare is the worst customer service</td>\n",
       "      <td>sprintcare is the worst customer service</td>\n",
       "      <td>sprintcare worst customer service</td>\n",
       "      <td>@sprintcar is the worst custom servic</td>\n",
       "    </tr>\n",
       "    <tr>\n",
       "      <th>7</th>\n",
       "      <td>@115713 This is saddening to hear. Please shoo...</td>\n",
       "      <td>@115713 this is saddening to hear. please shoo...</td>\n",
       "      <td>115713 this is saddening to hear please shoot ...</td>\n",
       "      <td>115713 saddening hear please shoot us dm look kc</td>\n",
       "      <td>@115713 this is sadden to hear. pleas shoot us...</td>\n",
       "    </tr>\n",
       "    <tr>\n",
       "      <th>8</th>\n",
       "      <td>@sprintcare You gonna magically change your co...</td>\n",
       "      <td>@sprintcare you gonna magically change your co...</td>\n",
       "      <td>sprintcare you gonna magically change your con...</td>\n",
       "      <td>sprintcare gonna magically change connectivity...</td>\n",
       "      <td>@sprintcar you gonna magic chang your connect ...</td>\n",
       "    </tr>\n",
       "    <tr>\n",
       "      <th>9</th>\n",
       "      <td>@115713 We understand your concerns and we'd l...</td>\n",
       "      <td>@115713 we understand your concerns and we'd l...</td>\n",
       "      <td>115713 we understand your concerns and wed lik...</td>\n",
       "      <td>115713 understand concerns wed like please sen...</td>\n",
       "      <td>@115713 we understand your concern and we'd li...</td>\n",
       "    </tr>\n",
       "    <tr>\n",
       "      <th>10</th>\n",
       "      <td>@sprintcare Since I signed up with you....Sinc...</td>\n",
       "      <td>@sprintcare since i signed up with you....sinc...</td>\n",
       "      <td>sprintcare since i signed up with yousince day 1</td>\n",
       "      <td>sprintcare since signed yousince day 1</td>\n",
       "      <td>@sprintcar sinc i sign up with you....sinc day 1</td>\n",
       "    </tr>\n",
       "    <tr>\n",
       "      <th>11</th>\n",
       "      <td>@115713 H there! We'd definitely like to work ...</td>\n",
       "      <td>@115713 h there! we'd definitely like to work ...</td>\n",
       "      <td>115713 h there wed definitely like to work wit...</td>\n",
       "      <td>115713 h wed definitely like work long experie...</td>\n",
       "      <td>@115713 h there! we'd definit like to work wit...</td>\n",
       "    </tr>\n",
       "    <tr>\n",
       "      <th>12</th>\n",
       "      <td>@115714 y’all lie about your “great” connectio...</td>\n",
       "      <td>@115714 y’all lie about your “great” connectio...</td>\n",
       "      <td>115714 y’all lie about your “great” connection...</td>\n",
       "      <td>115714 y’all lie “great” connection 5 bars lte...</td>\n",
       "      <td>@115714 y'all lie about your “great” connectio...</td>\n",
       "    </tr>\n",
       "    <tr>\n",
       "      <th>13</th>\n",
       "      <td>@115715 Please send me a private message so th...</td>\n",
       "      <td>@115715 please send me a private message so th...</td>\n",
       "      <td>115715 please send me a private message so tha...</td>\n",
       "      <td>115715 please send private message send link a...</td>\n",
       "      <td>@115715 pleas send me a privat messag so that ...</td>\n",
       "    </tr>\n",
       "    <tr>\n",
       "      <th>14</th>\n",
       "      <td>@115714 whenever I contact customer support, t...</td>\n",
       "      <td>@115714 whenever i contact customer support, t...</td>\n",
       "      <td>115714 whenever i contact customer support the...</td>\n",
       "      <td>115714 whenever contact customer support tell ...</td>\n",
       "      <td>@115714 whenev i contact custom support, they ...</td>\n",
       "    </tr>\n",
       "    <tr>\n",
       "      <th>15</th>\n",
       "      <td>@115716 What information is incorrect? ^JK</td>\n",
       "      <td>@115716 what information is incorrect? ^jk</td>\n",
       "      <td>115716 what information is incorrect jk</td>\n",
       "      <td>115716 information incorrect jk</td>\n",
       "      <td>@115716 what inform is incorrect? ^jk</td>\n",
       "    </tr>\n",
       "    <tr>\n",
       "      <th>16</th>\n",
       "      <td>@Ask_Spectrum Would you like me to email you a...</td>\n",
       "      <td>@ask_spectrum would you like me to email you a...</td>\n",
       "      <td>askspectrum would you like me to email you a c...</td>\n",
       "      <td>askspectrum would like email copy one since sp...</td>\n",
       "      <td>@ask_spectrum would you like me to email you a...</td>\n",
       "    </tr>\n",
       "    <tr>\n",
       "      <th>17</th>\n",
       "      <td>@115716 Our department is part of the corporat...</td>\n",
       "      <td>@115716 our department is part of the corporat...</td>\n",
       "      <td>115716 our department is part of the corporate...</td>\n",
       "      <td>115716 department part corporate office youre ...</td>\n",
       "      <td>@115716 our depart is part of the corpor offic...</td>\n",
       "    </tr>\n",
       "    <tr>\n",
       "      <th>18</th>\n",
       "      <td>@Ask_Spectrum I received this from your corpor...</td>\n",
       "      <td>@ask_spectrum i received this from your corpor...</td>\n",
       "      <td>askspectrum i received this from your corporat...</td>\n",
       "      <td>askspectrum received corporate office would li...</td>\n",
       "      <td>@ask_spectrum i receiv this from your corpor o...</td>\n",
       "    </tr>\n",
       "    <tr>\n",
       "      <th>19</th>\n",
       "      <td>@115716 No thank you. ^JK</td>\n",
       "      <td>@115716 no thank you. ^jk</td>\n",
       "      <td>115716 no thank you jk</td>\n",
       "      <td>115716 thank jk</td>\n",
       "      <td>@115716 no thank you. ^jk</td>\n",
       "    </tr>\n",
       "    <tr>\n",
       "      <th>20</th>\n",
       "      <td>@Ask_Spectrum The correct way to do it is via ...</td>\n",
       "      <td>@ask_spectrum the correct way to do it is via ...</td>\n",
       "      <td>askspectrum the correct way to do it is via an...</td>\n",
       "      <td>askspectrum correct way via ocs account takeov...</td>\n",
       "      <td>@ask_spectrum the correct way to do it is via ...</td>\n",
       "    </tr>\n",
       "    <tr>\n",
       "      <th>21</th>\n",
       "      <td>@Ask_Spectrum That is INCORRECT information I ...</td>\n",
       "      <td>@ask_spectrum that is incorrect information i ...</td>\n",
       "      <td>askspectrum that is incorrect information i ha...</td>\n",
       "      <td>askspectrum incorrect information form front f...</td>\n",
       "      <td>@ask_spectrum that is incorrect inform i have ...</td>\n",
       "    </tr>\n",
       "    <tr>\n",
       "      <th>22</th>\n",
       "      <td>@115716 The information pertaining to the acco...</td>\n",
       "      <td>@115716 the information pertaining to the acco...</td>\n",
       "      <td>115716 the information pertaining to the accou...</td>\n",
       "      <td>115716 information pertaining account assumpti...</td>\n",
       "      <td>@115716 the inform pertain to the account assu...</td>\n",
       "    </tr>\n",
       "    <tr>\n",
       "      <th>23</th>\n",
       "      <td>actually that's a broken link you sent me and ...</td>\n",
       "      <td>actually that's a broken link you sent me and ...</td>\n",
       "      <td>actually thats a broken link you sent me and i...</td>\n",
       "      <td>actually thats broken link sent incorrect info...</td>\n",
       "      <td>actual that a broken link you sent me and inco...</td>\n",
       "    </tr>\n",
       "    <tr>\n",
       "      <th>24</th>\n",
       "      <td>@115717 Hello, My apologies for any frustratio...</td>\n",
       "      <td>@115717 hello, my apologies for any frustratio...</td>\n",
       "      <td>115717 hello my apologies for any frustrations...</td>\n",
       "      <td>115717 hello apologies frustrations inconvenie...</td>\n",
       "      <td>@115717 hello, my apolog for ani frustrat or i...</td>\n",
       "    </tr>\n",
       "  </tbody>\n",
       "</table>\n",
       "</div>"
      ],
      "text/plain": [
       "                                                 text  ...                                       text_stemmed\n",
       "0   @115712 I understand. I would like to assist y...  ...  @115712 i understand. i would like to assist y...\n",
       "1       @sprintcare and how do you propose we do that  ...        @sprintcar and how do you propos we do that\n",
       "2   @sprintcare I have sent several private messag...  ...  @sprintcar i have sent sever privat messag and...\n",
       "3   @115712 Please send us a Private Message so th...  ...  @115712 pleas send us a privat messag so that ...\n",
       "4                                  @sprintcare I did.  ...                                  @sprintcar i did.\n",
       "5   @115712 Can you please send us a private messa...  ...  @115712 can you pleas send us a privat message...\n",
       "6           @sprintcare is the worst customer service  ...              @sprintcar is the worst custom servic\n",
       "7   @115713 This is saddening to hear. Please shoo...  ...  @115713 this is sadden to hear. pleas shoot us...\n",
       "8   @sprintcare You gonna magically change your co...  ...  @sprintcar you gonna magic chang your connect ...\n",
       "9   @115713 We understand your concerns and we'd l...  ...  @115713 we understand your concern and we'd li...\n",
       "10  @sprintcare Since I signed up with you....Sinc...  ...   @sprintcar sinc i sign up with you....sinc day 1\n",
       "11  @115713 H there! We'd definitely like to work ...  ...  @115713 h there! we'd definit like to work wit...\n",
       "12  @115714 y’all lie about your “great” connectio...  ...  @115714 y'all lie about your “great” connectio...\n",
       "13  @115715 Please send me a private message so th...  ...  @115715 pleas send me a privat messag so that ...\n",
       "14  @115714 whenever I contact customer support, t...  ...  @115714 whenev i contact custom support, they ...\n",
       "15         @115716 What information is incorrect? ^JK  ...              @115716 what inform is incorrect? ^jk\n",
       "16  @Ask_Spectrum Would you like me to email you a...  ...  @ask_spectrum would you like me to email you a...\n",
       "17  @115716 Our department is part of the corporat...  ...  @115716 our depart is part of the corpor offic...\n",
       "18  @Ask_Spectrum I received this from your corpor...  ...  @ask_spectrum i receiv this from your corpor o...\n",
       "19                          @115716 No thank you. ^JK  ...                          @115716 no thank you. ^jk\n",
       "20  @Ask_Spectrum The correct way to do it is via ...  ...  @ask_spectrum the correct way to do it is via ...\n",
       "21  @Ask_Spectrum That is INCORRECT information I ...  ...  @ask_spectrum that is incorrect inform i have ...\n",
       "22  @115716 The information pertaining to the acco...  ...  @115716 the inform pertain to the account assu...\n",
       "23  actually that's a broken link you sent me and ...  ...  actual that a broken link you sent me and inco...\n",
       "24  @115717 Hello, My apologies for any frustratio...  ...  @115717 hello, my apolog for ani frustrat or i...\n",
       "\n",
       "[25 rows x 5 columns]"
      ]
     },
     "execution_count": 31,
     "metadata": {
      "tags": []
     },
     "output_type": "execute_result"
    }
   ],
   "source": [
    "df.head(25)"
   ]
  },
  {
   "cell_type": "markdown",
   "metadata": {
    "id": "3XKNc0Hlqyzw"
   },
   "source": [
    "3. Removal of Stopwords"
   ]
  },
  {
   "cell_type": "code",
   "execution_count": null,
   "metadata": {
    "colab": {
     "base_uri": "https://localhost:8080/",
     "height": 68
    },
    "id": "R7TlwS-xt5-6",
    "outputId": "52dcb607-adcb-41e5-a8ec-c70dff95ffe6"
   },
   "outputs": [
    {
     "name": "stdout",
     "output_type": "stream",
     "text": [
      "[nltk_data] Downloading package stopwords to /root/nltk_data...\n",
      "[nltk_data]   Package stopwords is already up-to-date!\n"
     ]
    },
    {
     "data": {
      "text/plain": [
       "True"
      ]
     },
     "execution_count": 17,
     "metadata": {
      "tags": []
     },
     "output_type": "execute_result"
    }
   ],
   "source": [
    "nltk.download('stopwords')"
   ]
  },
  {
   "cell_type": "code",
   "execution_count": null,
   "metadata": {
    "colab": {
     "base_uri": "https://localhost:8080/",
     "height": 155
    },
    "id": "24CFzvtTt2tw",
    "outputId": "9f2b6414-4f9a-4bfc-9254-b9bf94f0f48c"
   },
   "outputs": [
    {
     "data": {
      "application/vnd.google.colaboratory.intrinsic+json": {
       "type": "string"
      },
      "text/plain": [
       "\"i, me, my, myself, we, our, ours, ourselves, you, you're, you've, you'll, you'd, your, yours, yourself, yourselves, he, him, his, himself, she, she's, her, hers, herself, it, it's, its, itself, they, them, their, theirs, themselves, what, which, who, whom, this, that, that'll, these, those, am, is, are, was, were, be, been, being, have, has, had, having, do, does, did, doing, a, an, the, and, but, if, or, because, as, until, while, of, at, by, for, with, about, against, between, into, through, during, before, after, above, below, to, from, up, down, in, out, on, off, over, under, again, further, then, once, here, there, when, where, why, how, all, any, both, each, few, more, most, other, some, such, no, nor, not, only, own, same, so, than, too, very, s, t, can, will, just, don, don't, should, should've, now, d, ll, m, o, re, ve, y, ain, aren, aren't, couldn, couldn't, didn, didn't, doesn, doesn't, hadn, hadn't, hasn, hasn't, haven, haven't, isn, isn't, ma, mightn, mightn't, mustn, mustn't, needn, needn't, shan, shan't, shouldn, shouldn't, wasn, wasn't, weren, weren't, won, won't, wouldn, wouldn't\""
      ]
     },
     "execution_count": 18,
     "metadata": {
      "tags": []
     },
     "output_type": "execute_result"
    }
   ],
   "source": [
    "from nltk.corpus import stopwords\n",
    "\", \".join(stopwords.words('english'))"
   ]
  },
  {
   "cell_type": "code",
   "execution_count": null,
   "metadata": {
    "colab": {
     "base_uri": "https://localhost:8080/",
     "height": 394
    },
    "id": "gFOX3Vb4qydD",
    "outputId": "395e8a6e-f01e-4901-edb8-7819b55287a2"
   },
   "outputs": [
    {
     "name": "stderr",
     "output_type": "stream",
     "text": [
      "/usr/local/lib/python3.6/dist-packages/ipykernel_launcher.py:6: SettingWithCopyWarning: \n",
      "A value is trying to be set on a copy of a slice from a DataFrame.\n",
      "Try using .loc[row_indexer,col_indexer] = value instead\n",
      "\n",
      "See the caveats in the documentation: https://pandas.pydata.org/pandas-docs/stable/user_guide/indexing.html#returning-a-view-versus-a-copy\n",
      "  \n"
     ]
    },
    {
     "data": {
      "text/html": [
       "<div>\n",
       "<style scoped>\n",
       "    .dataframe tbody tr th:only-of-type {\n",
       "        vertical-align: middle;\n",
       "    }\n",
       "\n",
       "    .dataframe tbody tr th {\n",
       "        vertical-align: top;\n",
       "    }\n",
       "\n",
       "    .dataframe thead th {\n",
       "        text-align: right;\n",
       "    }\n",
       "</style>\n",
       "<table border=\"1\" class=\"dataframe\">\n",
       "  <thead>\n",
       "    <tr style=\"text-align: right;\">\n",
       "      <th></th>\n",
       "      <th>text</th>\n",
       "      <th>text_lower</th>\n",
       "      <th>text_wo_punct</th>\n",
       "      <th>text_wo_stop</th>\n",
       "      <th>text_stemmed</th>\n",
       "    </tr>\n",
       "  </thead>\n",
       "  <tbody>\n",
       "    <tr>\n",
       "      <th>0</th>\n",
       "      <td>@115712 I understand. I would like to assist y...</td>\n",
       "      <td>@115712 i understand. i would like to assist y...</td>\n",
       "      <td>115712 i understand i would like to assist you...</td>\n",
       "      <td>115712 understand would like assist would need...</td>\n",
       "      <td>@115712 i understand. i would like to assist y...</td>\n",
       "    </tr>\n",
       "    <tr>\n",
       "      <th>1</th>\n",
       "      <td>@sprintcare and how do you propose we do that</td>\n",
       "      <td>@sprintcare and how do you propose we do that</td>\n",
       "      <td>sprintcare and how do you propose we do that</td>\n",
       "      <td>sprintcare propose</td>\n",
       "      <td>@sprintcar and how do you propos we do that</td>\n",
       "    </tr>\n",
       "    <tr>\n",
       "      <th>2</th>\n",
       "      <td>@sprintcare I have sent several private messag...</td>\n",
       "      <td>@sprintcare i have sent several private messag...</td>\n",
       "      <td>sprintcare i have sent several private message...</td>\n",
       "      <td>sprintcare sent several private messages one r...</td>\n",
       "      <td>@sprintcar i have sent sever privat messag and...</td>\n",
       "    </tr>\n",
       "    <tr>\n",
       "      <th>3</th>\n",
       "      <td>@115712 Please send us a Private Message so th...</td>\n",
       "      <td>@115712 please send us a private message so th...</td>\n",
       "      <td>115712 please send us a private message so tha...</td>\n",
       "      <td>115712 please send us private message assist c...</td>\n",
       "      <td>@115712 pleas send us a privat messag so that ...</td>\n",
       "    </tr>\n",
       "    <tr>\n",
       "      <th>4</th>\n",
       "      <td>@sprintcare I did.</td>\n",
       "      <td>@sprintcare i did.</td>\n",
       "      <td>sprintcare i did</td>\n",
       "      <td>sprintcare</td>\n",
       "      <td>@sprintcar i did.</td>\n",
       "    </tr>\n",
       "  </tbody>\n",
       "</table>\n",
       "</div>"
      ],
      "text/plain": [
       "                                                text  ...                                       text_stemmed\n",
       "0  @115712 I understand. I would like to assist y...  ...  @115712 i understand. i would like to assist y...\n",
       "1      @sprintcare and how do you propose we do that  ...        @sprintcar and how do you propos we do that\n",
       "2  @sprintcare I have sent several private messag...  ...  @sprintcar i have sent sever privat messag and...\n",
       "3  @115712 Please send us a Private Message so th...  ...  @115712 pleas send us a privat messag so that ...\n",
       "4                                 @sprintcare I did.  ...                                  @sprintcar i did.\n",
       "\n",
       "[5 rows x 5 columns]"
      ]
     },
     "execution_count": 32,
     "metadata": {
      "tags": []
     },
     "output_type": "execute_result"
    }
   ],
   "source": [
    "STOPWORDS = set(stopwords.words('english'))\n",
    "def remove_stopwords(text):\n",
    "    \"\"\"function to remove the stopwords\"\"\"\n",
    "    return \" \".join([word for word in str(text).split() if word not in STOPWORDS])\n",
    "\n",
    "df[\"text_wo_stop\"] = df[\"text_wo_punct\"].apply(lambda text: remove_stopwords(text))\n",
    "df.head()"
   ]
  },
  {
   "cell_type": "markdown",
   "metadata": {
    "id": "x0pBrCQfq83o"
   },
   "source": [
    "4. Removal of Frequent words"
   ]
  },
  {
   "cell_type": "code",
   "execution_count": null,
   "metadata": {
    "colab": {
     "base_uri": "https://localhost:8080/",
     "height": 188
    },
    "id": "HwvNyoCCq9VL",
    "outputId": "0e3f759c-d8c6-4673-dbf4-5b7afdcef785"
   },
   "outputs": [
    {
     "data": {
      "text/plain": [
       "[('us', 1249),\n",
       " ('please', 1032),\n",
       " ('dm', 859),\n",
       " ('help', 784),\n",
       " ('thanks', 563),\n",
       " ('hi', 522),\n",
       " ('get', 500),\n",
       " ('sorry', 443),\n",
       " ('know', 394),\n",
       " ('im', 393)]"
      ]
     },
     "execution_count": 33,
     "metadata": {
      "tags": []
     },
     "output_type": "execute_result"
    }
   ],
   "source": [
    "from collections import Counter\n",
    "cnt = Counter()\n",
    "for text in df[\"text_wo_stop\"].values:\n",
    "    for word in text.split():\n",
    "        cnt[word] += 1\n",
    "        \n",
    "cnt.most_common(10)"
   ]
  },
  {
   "cell_type": "code",
   "execution_count": null,
   "metadata": {
    "colab": {
     "base_uri": "https://localhost:8080/",
     "height": 463
    },
    "id": "QDYqRzI2rFL7",
    "outputId": "a878996c-04f3-4cfa-9005-ec9235203ab9"
   },
   "outputs": [
    {
     "name": "stderr",
     "output_type": "stream",
     "text": [
      "/usr/local/lib/python3.6/dist-packages/ipykernel_launcher.py:6: SettingWithCopyWarning: \n",
      "A value is trying to be set on a copy of a slice from a DataFrame.\n",
      "Try using .loc[row_indexer,col_indexer] = value instead\n",
      "\n",
      "See the caveats in the documentation: https://pandas.pydata.org/pandas-docs/stable/user_guide/indexing.html#returning-a-view-versus-a-copy\n",
      "  \n"
     ]
    },
    {
     "data": {
      "text/html": [
       "<div>\n",
       "<style scoped>\n",
       "    .dataframe tbody tr th:only-of-type {\n",
       "        vertical-align: middle;\n",
       "    }\n",
       "\n",
       "    .dataframe tbody tr th {\n",
       "        vertical-align: top;\n",
       "    }\n",
       "\n",
       "    .dataframe thead th {\n",
       "        text-align: right;\n",
       "    }\n",
       "</style>\n",
       "<table border=\"1\" class=\"dataframe\">\n",
       "  <thead>\n",
       "    <tr style=\"text-align: right;\">\n",
       "      <th></th>\n",
       "      <th>text</th>\n",
       "      <th>text_lower</th>\n",
       "      <th>text_wo_punct</th>\n",
       "      <th>text_wo_stop</th>\n",
       "      <th>text_stemmed</th>\n",
       "      <th>text_wo_stopfreq</th>\n",
       "    </tr>\n",
       "  </thead>\n",
       "  <tbody>\n",
       "    <tr>\n",
       "      <th>0</th>\n",
       "      <td>@115712 I understand. I would like to assist y...</td>\n",
       "      <td>@115712 i understand. i would like to assist y...</td>\n",
       "      <td>115712 i understand i would like to assist you...</td>\n",
       "      <td>115712 understand would like assist would need...</td>\n",
       "      <td>@115712 i understand. i would like to assist y...</td>\n",
       "      <td>115712 understand would like assist would need...</td>\n",
       "    </tr>\n",
       "    <tr>\n",
       "      <th>1</th>\n",
       "      <td>@sprintcare and how do you propose we do that</td>\n",
       "      <td>@sprintcare and how do you propose we do that</td>\n",
       "      <td>sprintcare and how do you propose we do that</td>\n",
       "      <td>sprintcare propose</td>\n",
       "      <td>@sprintcar and how do you propos we do that</td>\n",
       "      <td>sprintcare propose</td>\n",
       "    </tr>\n",
       "    <tr>\n",
       "      <th>2</th>\n",
       "      <td>@sprintcare I have sent several private messag...</td>\n",
       "      <td>@sprintcare i have sent several private messag...</td>\n",
       "      <td>sprintcare i have sent several private message...</td>\n",
       "      <td>sprintcare sent several private messages one r...</td>\n",
       "      <td>@sprintcar i have sent sever privat messag and...</td>\n",
       "      <td>sprintcare sent several private messages one r...</td>\n",
       "    </tr>\n",
       "    <tr>\n",
       "      <th>3</th>\n",
       "      <td>@115712 Please send us a Private Message so th...</td>\n",
       "      <td>@115712 please send us a private message so th...</td>\n",
       "      <td>115712 please send us a private message so tha...</td>\n",
       "      <td>115712 please send us private message assist c...</td>\n",
       "      <td>@115712 pleas send us a privat messag so that ...</td>\n",
       "      <td>115712 send private message assist click ‘mess...</td>\n",
       "    </tr>\n",
       "    <tr>\n",
       "      <th>4</th>\n",
       "      <td>@sprintcare I did.</td>\n",
       "      <td>@sprintcare i did.</td>\n",
       "      <td>sprintcare i did</td>\n",
       "      <td>sprintcare</td>\n",
       "      <td>@sprintcar i did.</td>\n",
       "      <td>sprintcare</td>\n",
       "    </tr>\n",
       "  </tbody>\n",
       "</table>\n",
       "</div>"
      ],
      "text/plain": [
       "                                                text  ...                                   text_wo_stopfreq\n",
       "0  @115712 I understand. I would like to assist y...  ...  115712 understand would like assist would need...\n",
       "1      @sprintcare and how do you propose we do that  ...                                 sprintcare propose\n",
       "2  @sprintcare I have sent several private messag...  ...  sprintcare sent several private messages one r...\n",
       "3  @115712 Please send us a Private Message so th...  ...  115712 send private message assist click ‘mess...\n",
       "4                                 @sprintcare I did.  ...                                         sprintcare\n",
       "\n",
       "[5 rows x 6 columns]"
      ]
     },
     "execution_count": 34,
     "metadata": {
      "tags": []
     },
     "output_type": "execute_result"
    }
   ],
   "source": [
    "FREQWORDS = set([w for (w, wc) in cnt.most_common(10)])\n",
    "def remove_freqwords(text):\n",
    "    \"\"\"custom function to remove the frequent words\"\"\"\n",
    "    return \" \".join([word for word in str(text).split() if word not in FREQWORDS])\n",
    "\n",
    "df[\"text_wo_stopfreq\"] = df[\"text_wo_stop\"].apply(lambda text: remove_freqwords(text))\n",
    "df.head()"
   ]
  },
  {
   "cell_type": "markdown",
   "metadata": {
    "id": "bcLbadHAuSrh"
   },
   "source": [
    "5. Removal of Rare words"
   ]
  },
  {
   "cell_type": "code",
   "execution_count": null,
   "metadata": {
    "colab": {
     "base_uri": "https://localhost:8080/",
     "height": 391
    },
    "id": "oxBsoozNrORV",
    "outputId": "54ad30e1-4d91-4fcc-e48c-a636f1befd01"
   },
   "outputs": [
    {
     "data": {
      "text/html": [
       "<div>\n",
       "<style scoped>\n",
       "    .dataframe tbody tr th:only-of-type {\n",
       "        vertical-align: middle;\n",
       "    }\n",
       "\n",
       "    .dataframe tbody tr th {\n",
       "        vertical-align: top;\n",
       "    }\n",
       "\n",
       "    .dataframe thead th {\n",
       "        text-align: right;\n",
       "    }\n",
       "</style>\n",
       "<table border=\"1\" class=\"dataframe\">\n",
       "  <thead>\n",
       "    <tr style=\"text-align: right;\">\n",
       "      <th></th>\n",
       "      <th>text</th>\n",
       "      <th>text_lower</th>\n",
       "      <th>text_wo_punct</th>\n",
       "      <th>text_wo_stop</th>\n",
       "      <th>text_stemmed</th>\n",
       "      <th>text_wo_stopfreq</th>\n",
       "      <th>text_wo_stopfreqrare</th>\n",
       "    </tr>\n",
       "  </thead>\n",
       "  <tbody>\n",
       "    <tr>\n",
       "      <th>0</th>\n",
       "      <td>@115712 I understand. I would like to assist y...</td>\n",
       "      <td>@115712 i understand. i would like to assist y...</td>\n",
       "      <td>115712 i understand i would like to assist you...</td>\n",
       "      <td>115712 understand would like assist would need...</td>\n",
       "      <td>@115712 i understand. i would like to assist y...</td>\n",
       "      <td>115712 understand would like assist would need...</td>\n",
       "      <td>115712 understand would like assist would need...</td>\n",
       "    </tr>\n",
       "    <tr>\n",
       "      <th>1</th>\n",
       "      <td>@sprintcare and how do you propose we do that</td>\n",
       "      <td>@sprintcare and how do you propose we do that</td>\n",
       "      <td>sprintcare and how do you propose we do that</td>\n",
       "      <td>sprintcare propose</td>\n",
       "      <td>@sprintcar and how do you propos we do that</td>\n",
       "      <td>sprintcare propose</td>\n",
       "      <td>sprintcare propose</td>\n",
       "    </tr>\n",
       "    <tr>\n",
       "      <th>2</th>\n",
       "      <td>@sprintcare I have sent several private messag...</td>\n",
       "      <td>@sprintcare i have sent several private messag...</td>\n",
       "      <td>sprintcare i have sent several private message...</td>\n",
       "      <td>sprintcare sent several private messages one r...</td>\n",
       "      <td>@sprintcar i have sent sever privat messag and...</td>\n",
       "      <td>sprintcare sent several private messages one r...</td>\n",
       "      <td>sprintcare sent several private messages one r...</td>\n",
       "    </tr>\n",
       "    <tr>\n",
       "      <th>3</th>\n",
       "      <td>@115712 Please send us a Private Message so th...</td>\n",
       "      <td>@115712 please send us a private message so th...</td>\n",
       "      <td>115712 please send us a private message so tha...</td>\n",
       "      <td>115712 please send us private message assist c...</td>\n",
       "      <td>@115712 pleas send us a privat messag so that ...</td>\n",
       "      <td>115712 send private message assist click ‘mess...</td>\n",
       "      <td>115712 send private message assist click ‘mess...</td>\n",
       "    </tr>\n",
       "    <tr>\n",
       "      <th>4</th>\n",
       "      <td>@sprintcare I did.</td>\n",
       "      <td>@sprintcare i did.</td>\n",
       "      <td>sprintcare i did</td>\n",
       "      <td>sprintcare</td>\n",
       "      <td>@sprintcar i did.</td>\n",
       "      <td>sprintcare</td>\n",
       "      <td>sprintcare</td>\n",
       "    </tr>\n",
       "  </tbody>\n",
       "</table>\n",
       "</div>"
      ],
      "text/plain": [
       "                                                text  ...                               text_wo_stopfreqrare\n",
       "0  @115712 I understand. I would like to assist y...  ...  115712 understand would like assist would need...\n",
       "1      @sprintcare and how do you propose we do that  ...                                 sprintcare propose\n",
       "2  @sprintcare I have sent several private messag...  ...  sprintcare sent several private messages one r...\n",
       "3  @115712 Please send us a Private Message so th...  ...  115712 send private message assist click ‘mess...\n",
       "4                                 @sprintcare I did.  ...                                         sprintcare\n",
       "\n",
       "[5 rows x 7 columns]"
      ]
     },
     "execution_count": 35,
     "metadata": {
      "tags": []
     },
     "output_type": "execute_result"
    }
   ],
   "source": [
    "# Drop the two columns which are no more needed \n",
    "# df.drop([\"text_wo_punct\", \"text_wo_stop\"], axis=1, inplace=True)\n",
    "\n",
    "n_rare_words = 10\n",
    "RAREWORDS = set([w for (w, wc) in cnt.most_common()[:-n_rare_words-1:-1]])\n",
    "def remove_rarewords(text):\n",
    "    \"\"\"custom function to remove the rare words\"\"\"\n",
    "    return \" \".join([word for word in str(text).split() if word not in RAREWORDS])\n",
    "\n",
    "df[\"text_wo_stopfreqrare\"] = df[\"text_wo_stopfreq\"].apply(lambda text: remove_rarewords(text))\n",
    "df.head()"
   ]
  },
  {
   "cell_type": "markdown",
   "metadata": {
    "id": "r3fYocr8uWED"
   },
   "source": [
    "6. Stemming"
   ]
  },
  {
   "cell_type": "code",
   "execution_count": null,
   "metadata": {
    "colab": {
     "base_uri": "https://localhost:8080/",
     "height": 408
    },
    "id": "Of4NXNDLrSJz",
    "outputId": "ffa29ba4-3324-4ab2-bed7-20f844301cc7"
   },
   "outputs": [
    {
     "data": {
      "text/html": [
       "<div>\n",
       "<style scoped>\n",
       "    .dataframe tbody tr th:only-of-type {\n",
       "        vertical-align: middle;\n",
       "    }\n",
       "\n",
       "    .dataframe tbody tr th {\n",
       "        vertical-align: top;\n",
       "    }\n",
       "\n",
       "    .dataframe thead th {\n",
       "        text-align: right;\n",
       "    }\n",
       "</style>\n",
       "<table border=\"1\" class=\"dataframe\">\n",
       "  <thead>\n",
       "    <tr style=\"text-align: right;\">\n",
       "      <th></th>\n",
       "      <th>text</th>\n",
       "      <th>text_lower</th>\n",
       "      <th>text_wo_punct</th>\n",
       "      <th>text_wo_stop</th>\n",
       "      <th>text_stemmed</th>\n",
       "      <th>text_wo_stopfreq</th>\n",
       "      <th>text_wo_stopfreqrare</th>\n",
       "    </tr>\n",
       "  </thead>\n",
       "  <tbody>\n",
       "    <tr>\n",
       "      <th>0</th>\n",
       "      <td>@115712 I understand. I would like to assist y...</td>\n",
       "      <td>@115712 i understand. i would like to assist y...</td>\n",
       "      <td>115712 i understand i would like to assist you...</td>\n",
       "      <td>115712 understand would like assist would need...</td>\n",
       "      <td>115712 understand would like assist would need...</td>\n",
       "      <td>115712 understand would like assist would need...</td>\n",
       "      <td>115712 understand would like assist would need...</td>\n",
       "    </tr>\n",
       "    <tr>\n",
       "      <th>1</th>\n",
       "      <td>@sprintcare and how do you propose we do that</td>\n",
       "      <td>@sprintcare and how do you propose we do that</td>\n",
       "      <td>sprintcare and how do you propose we do that</td>\n",
       "      <td>sprintcare propose</td>\n",
       "      <td>sprintcar propos</td>\n",
       "      <td>sprintcare propose</td>\n",
       "      <td>sprintcare propose</td>\n",
       "    </tr>\n",
       "    <tr>\n",
       "      <th>2</th>\n",
       "      <td>@sprintcare I have sent several private messag...</td>\n",
       "      <td>@sprintcare i have sent several private messag...</td>\n",
       "      <td>sprintcare i have sent several private message...</td>\n",
       "      <td>sprintcare sent several private messages one r...</td>\n",
       "      <td>sprintcar sent sever privat messag one respond...</td>\n",
       "      <td>sprintcare sent several private messages one r...</td>\n",
       "      <td>sprintcare sent several private messages one r...</td>\n",
       "    </tr>\n",
       "    <tr>\n",
       "      <th>3</th>\n",
       "      <td>@115712 Please send us a Private Message so th...</td>\n",
       "      <td>@115712 please send us a private message so th...</td>\n",
       "      <td>115712 please send us a private message so tha...</td>\n",
       "      <td>115712 please send us private message assist c...</td>\n",
       "      <td>115712 send privat messag assist click messag ...</td>\n",
       "      <td>115712 send private message assist click ‘mess...</td>\n",
       "      <td>115712 send private message assist click ‘mess...</td>\n",
       "    </tr>\n",
       "    <tr>\n",
       "      <th>4</th>\n",
       "      <td>@sprintcare I did.</td>\n",
       "      <td>@sprintcare i did.</td>\n",
       "      <td>sprintcare i did</td>\n",
       "      <td>sprintcare</td>\n",
       "      <td>sprintcar</td>\n",
       "      <td>sprintcare</td>\n",
       "      <td>sprintcare</td>\n",
       "    </tr>\n",
       "  </tbody>\n",
       "</table>\n",
       "</div>"
      ],
      "text/plain": [
       "                                                text  ...                               text_wo_stopfreqrare\n",
       "0  @115712 I understand. I would like to assist y...  ...  115712 understand would like assist would need...\n",
       "1      @sprintcare and how do you propose we do that  ...                                 sprintcare propose\n",
       "2  @sprintcare I have sent several private messag...  ...  sprintcare sent several private messages one r...\n",
       "3  @115712 Please send us a Private Message so th...  ...  115712 send private message assist click ‘mess...\n",
       "4                                 @sprintcare I did.  ...                                         sprintcare\n",
       "\n",
       "[5 rows x 7 columns]"
      ]
     },
     "execution_count": 36,
     "metadata": {
      "tags": []
     },
     "output_type": "execute_result"
    }
   ],
   "source": [
    "from nltk.stem.snowball import SnowballStemmer\n",
    "\n",
    "# Drop the two columns \n",
    "# df.drop([\"text_wo_stopfreq\", \"text_wo_stopfreqrare\"], axis=1, inplace=True) \n",
    "\n",
    "stemmer = SnowballStemmer(\"english\")\n",
    "def stem_words(text):\n",
    "    return \" \".join([stemmer.stem(word) for word in text.split()])\n",
    "\n",
    "df[\"text_stemmed\"] = df[\"text_wo_stopfreq\"].apply(lambda text: stem_words(text))\n",
    "df.head()"
   ]
  },
  {
   "cell_type": "markdown",
   "metadata": {
    "id": "4gH9w9znukBp"
   },
   "source": [
    "7. Lemmatization"
   ]
  },
  {
   "cell_type": "code",
   "execution_count": null,
   "metadata": {
    "colab": {
     "base_uri": "https://localhost:8080/",
     "height": 68
    },
    "id": "-4BK0nv-u1EC",
    "outputId": "7d60266e-63bc-481e-e068-357251dc5ca3"
   },
   "outputs": [
    {
     "name": "stdout",
     "output_type": "stream",
     "text": [
      "[nltk_data] Downloading package wordnet to /root/nltk_data...\n",
      "[nltk_data]   Package wordnet is already up-to-date!\n"
     ]
    },
    {
     "data": {
      "text/plain": [
       "True"
      ]
     },
     "execution_count": 37,
     "metadata": {
      "tags": []
     },
     "output_type": "execute_result"
    }
   ],
   "source": [
    "nltk.download('wordnet')"
   ]
  },
  {
   "cell_type": "code",
   "execution_count": null,
   "metadata": {
    "colab": {
     "base_uri": "https://localhost:8080/",
     "height": 477
    },
    "id": "zlzM9fH7rYuo",
    "outputId": "93692c62-c0af-4fd0-9f6b-522f0fd975e3"
   },
   "outputs": [
    {
     "data": {
      "text/html": [
       "<div>\n",
       "<style scoped>\n",
       "    .dataframe tbody tr th:only-of-type {\n",
       "        vertical-align: middle;\n",
       "    }\n",
       "\n",
       "    .dataframe tbody tr th {\n",
       "        vertical-align: top;\n",
       "    }\n",
       "\n",
       "    .dataframe thead th {\n",
       "        text-align: right;\n",
       "    }\n",
       "</style>\n",
       "<table border=\"1\" class=\"dataframe\">\n",
       "  <thead>\n",
       "    <tr style=\"text-align: right;\">\n",
       "      <th></th>\n",
       "      <th>text</th>\n",
       "      <th>text_lower</th>\n",
       "      <th>text_wo_punct</th>\n",
       "      <th>text_wo_stop</th>\n",
       "      <th>text_stemmed</th>\n",
       "      <th>text_wo_stopfreq</th>\n",
       "      <th>text_wo_stopfreqrare</th>\n",
       "      <th>text_lemmatized</th>\n",
       "    </tr>\n",
       "  </thead>\n",
       "  <tbody>\n",
       "    <tr>\n",
       "      <th>0</th>\n",
       "      <td>@115712 I understand. I would like to assist y...</td>\n",
       "      <td>@115712 i understand. i would like to assist y...</td>\n",
       "      <td>115712 i understand i would like to assist you...</td>\n",
       "      <td>115712 understand would like assist would need...</td>\n",
       "      <td>115712 understand would like assist would need...</td>\n",
       "      <td>115712 understand would like assist would need...</td>\n",
       "      <td>115712 understand would like assist would need...</td>\n",
       "      <td>@115712 I understand. I would like to assist y...</td>\n",
       "    </tr>\n",
       "    <tr>\n",
       "      <th>1</th>\n",
       "      <td>@sprintcare and how do you propose we do that</td>\n",
       "      <td>@sprintcare and how do you propose we do that</td>\n",
       "      <td>sprintcare and how do you propose we do that</td>\n",
       "      <td>sprintcare propose</td>\n",
       "      <td>sprintcar propos</td>\n",
       "      <td>sprintcare propose</td>\n",
       "      <td>sprintcare propose</td>\n",
       "      <td>@sprintcare and how do you propose we do that</td>\n",
       "    </tr>\n",
       "    <tr>\n",
       "      <th>2</th>\n",
       "      <td>@sprintcare I have sent several private messag...</td>\n",
       "      <td>@sprintcare i have sent several private messag...</td>\n",
       "      <td>sprintcare i have sent several private message...</td>\n",
       "      <td>sprintcare sent several private messages one r...</td>\n",
       "      <td>sprintcar sent sever privat messag one respond...</td>\n",
       "      <td>sprintcare sent several private messages one r...</td>\n",
       "      <td>sprintcare sent several private messages one r...</td>\n",
       "      <td>@sprintcare I have sent several private messag...</td>\n",
       "    </tr>\n",
       "    <tr>\n",
       "      <th>3</th>\n",
       "      <td>@115712 Please send us a Private Message so th...</td>\n",
       "      <td>@115712 please send us a private message so th...</td>\n",
       "      <td>115712 please send us a private message so tha...</td>\n",
       "      <td>115712 please send us private message assist c...</td>\n",
       "      <td>115712 send privat messag assist click messag ...</td>\n",
       "      <td>115712 send private message assist click ‘mess...</td>\n",
       "      <td>115712 send private message assist click ‘mess...</td>\n",
       "      <td>@115712 Please send u a Private Message so tha...</td>\n",
       "    </tr>\n",
       "    <tr>\n",
       "      <th>4</th>\n",
       "      <td>@sprintcare I did.</td>\n",
       "      <td>@sprintcare i did.</td>\n",
       "      <td>sprintcare i did</td>\n",
       "      <td>sprintcare</td>\n",
       "      <td>sprintcar</td>\n",
       "      <td>sprintcare</td>\n",
       "      <td>sprintcare</td>\n",
       "      <td>@sprintcare I did.</td>\n",
       "    </tr>\n",
       "  </tbody>\n",
       "</table>\n",
       "</div>"
      ],
      "text/plain": [
       "                                                text  ...                                    text_lemmatized\n",
       "0  @115712 I understand. I would like to assist y...  ...  @115712 I understand. I would like to assist y...\n",
       "1      @sprintcare and how do you propose we do that  ...      @sprintcare and how do you propose we do that\n",
       "2  @sprintcare I have sent several private messag...  ...  @sprintcare I have sent several private messag...\n",
       "3  @115712 Please send us a Private Message so th...  ...  @115712 Please send u a Private Message so tha...\n",
       "4                                 @sprintcare I did.  ...                                 @sprintcare I did.\n",
       "\n",
       "[5 rows x 8 columns]"
      ]
     },
     "execution_count": 38,
     "metadata": {
      "tags": []
     },
     "output_type": "execute_result"
    }
   ],
   "source": [
    "from nltk.stem import WordNetLemmatizer\n",
    "\n",
    "lemmatizer = WordNetLemmatizer()\n",
    "def lemmatize_words(text):\n",
    "    return \" \".join([lemmatizer.lemmatize(word) for word in text.split()])\n",
    "\n",
    "df[\"text_lemmatized\"] = df[\"text\"].apply(lambda text: lemmatize_words(text))\n",
    "df.head()"
   ]
  },
  {
   "cell_type": "code",
   "execution_count": null,
   "metadata": {
    "colab": {
     "base_uri": "https://localhost:8080/",
     "height": 35
    },
    "id": "w9wGjf8trgP6",
    "outputId": "ea142a82-b0c9-431d-bcb4-5779a02938bb"
   },
   "outputs": [
    {
     "data": {
      "application/vnd.google.colaboratory.intrinsic+json": {
       "type": "string"
      },
      "text/plain": [
       "'running'"
      ]
     },
     "execution_count": 39,
     "metadata": {
      "tags": []
     },
     "output_type": "execute_result"
    }
   ],
   "source": [
    "lemmatizer.lemmatize(\"running\")"
   ]
  },
  {
   "cell_type": "code",
   "execution_count": null,
   "metadata": {
    "colab": {
     "base_uri": "https://localhost:8080/",
     "height": 35
    },
    "id": "1GAFHCDrrjBm",
    "outputId": "c1f60d57-b08d-48d6-d322-1ae718b47933"
   },
   "outputs": [
    {
     "data": {
      "application/vnd.google.colaboratory.intrinsic+json": {
       "type": "string"
      },
      "text/plain": [
       "'run'"
      ]
     },
     "execution_count": 40,
     "metadata": {
      "tags": []
     },
     "output_type": "execute_result"
    }
   ],
   "source": [
    "lemmatizer.lemmatize(\"running\", \"v\") # v for verb"
   ]
  },
  {
   "cell_type": "code",
   "execution_count": null,
   "metadata": {
    "colab": {
     "base_uri": "https://localhost:8080/",
     "height": 68
    },
    "id": "7fg3drLHrlN2",
    "outputId": "94286f70-ef11-4775-961b-fc7566eebb47"
   },
   "outputs": [
    {
     "name": "stdout",
     "output_type": "stream",
     "text": [
      "Word is : stripes\n",
      "Lemma result for verb :  strip\n",
      "Lemma result for noun :  stripe\n"
     ]
    }
   ],
   "source": [
    "print(\"Word is : stripes\")\n",
    "print(\"Lemma result for verb : \",lemmatizer.lemmatize(\"stripes\", 'v'))\n",
    "print(\"Lemma result for noun : \",lemmatizer.lemmatize(\"stripes\", 'n'))"
   ]
  },
  {
   "cell_type": "code",
   "execution_count": null,
   "metadata": {
    "colab": {
     "base_uri": "https://localhost:8080/",
     "height": 103
    },
    "id": "M8VACMDIvCDC",
    "outputId": "f8d44f9a-0a46-4e1b-8fe7-f47628fe8ba0"
   },
   "outputs": [
    {
     "name": "stdout",
     "output_type": "stream",
     "text": [
      "[nltk_data] Downloading package averaged_perceptron_tagger to\n",
      "[nltk_data]     /root/nltk_data...\n",
      "[nltk_data]   Package averaged_perceptron_tagger is already up-to-\n",
      "[nltk_data]       date!\n"
     ]
    },
    {
     "data": {
      "text/plain": [
       "True"
      ]
     },
     "execution_count": 42,
     "metadata": {
      "tags": []
     },
     "output_type": "execute_result"
    }
   ],
   "source": [
    "nltk.download('averaged_perceptron_tagger')"
   ]
  },
  {
   "cell_type": "code",
   "execution_count": null,
   "metadata": {
    "colab": {
     "base_uri": "https://localhost:8080/",
     "height": 477
    },
    "id": "QHjgMrsWrfnE",
    "outputId": "1d9490f2-ad57-48d3-895a-f8c5b1a14ff0"
   },
   "outputs": [
    {
     "data": {
      "text/html": [
       "<div>\n",
       "<style scoped>\n",
       "    .dataframe tbody tr th:only-of-type {\n",
       "        vertical-align: middle;\n",
       "    }\n",
       "\n",
       "    .dataframe tbody tr th {\n",
       "        vertical-align: top;\n",
       "    }\n",
       "\n",
       "    .dataframe thead th {\n",
       "        text-align: right;\n",
       "    }\n",
       "</style>\n",
       "<table border=\"1\" class=\"dataframe\">\n",
       "  <thead>\n",
       "    <tr style=\"text-align: right;\">\n",
       "      <th></th>\n",
       "      <th>text</th>\n",
       "      <th>text_lower</th>\n",
       "      <th>text_wo_punct</th>\n",
       "      <th>text_wo_stop</th>\n",
       "      <th>text_stemmed</th>\n",
       "      <th>text_wo_stopfreq</th>\n",
       "      <th>text_wo_stopfreqrare</th>\n",
       "      <th>text_lemmatized</th>\n",
       "    </tr>\n",
       "  </thead>\n",
       "  <tbody>\n",
       "    <tr>\n",
       "      <th>0</th>\n",
       "      <td>@115712 I understand. I would like to assist y...</td>\n",
       "      <td>@115712 i understand. i would like to assist y...</td>\n",
       "      <td>115712 i understand i would like to assist you...</td>\n",
       "      <td>115712 understand would like assist would need...</td>\n",
       "      <td>115712 understand would like assist would need...</td>\n",
       "      <td>115712 understand would like assist would need...</td>\n",
       "      <td>115712 understand would like assist would need...</td>\n",
       "      <td>@115712 I understand. I would like to assist y...</td>\n",
       "    </tr>\n",
       "    <tr>\n",
       "      <th>1</th>\n",
       "      <td>@sprintcare and how do you propose we do that</td>\n",
       "      <td>@sprintcare and how do you propose we do that</td>\n",
       "      <td>sprintcare and how do you propose we do that</td>\n",
       "      <td>sprintcare propose</td>\n",
       "      <td>sprintcar propos</td>\n",
       "      <td>sprintcare propose</td>\n",
       "      <td>sprintcare propose</td>\n",
       "      <td>@sprintcare and how do you propose we do that</td>\n",
       "    </tr>\n",
       "    <tr>\n",
       "      <th>2</th>\n",
       "      <td>@sprintcare I have sent several private messag...</td>\n",
       "      <td>@sprintcare i have sent several private messag...</td>\n",
       "      <td>sprintcare i have sent several private message...</td>\n",
       "      <td>sprintcare sent several private messages one r...</td>\n",
       "      <td>sprintcar sent sever privat messag one respond...</td>\n",
       "      <td>sprintcare sent several private messages one r...</td>\n",
       "      <td>sprintcare sent several private messages one r...</td>\n",
       "      <td>@sprintcare I have send several private messag...</td>\n",
       "    </tr>\n",
       "    <tr>\n",
       "      <th>3</th>\n",
       "      <td>@115712 Please send us a Private Message so th...</td>\n",
       "      <td>@115712 please send us a private message so th...</td>\n",
       "      <td>115712 please send us a private message so tha...</td>\n",
       "      <td>115712 please send us private message assist c...</td>\n",
       "      <td>115712 send privat messag assist click messag ...</td>\n",
       "      <td>115712 send private message assist click ‘mess...</td>\n",
       "      <td>115712 send private message assist click ‘mess...</td>\n",
       "      <td>@115712 Please send u a Private Message so tha...</td>\n",
       "    </tr>\n",
       "    <tr>\n",
       "      <th>4</th>\n",
       "      <td>@sprintcare I did.</td>\n",
       "      <td>@sprintcare i did.</td>\n",
       "      <td>sprintcare i did</td>\n",
       "      <td>sprintcare</td>\n",
       "      <td>sprintcar</td>\n",
       "      <td>sprintcare</td>\n",
       "      <td>sprintcare</td>\n",
       "      <td>@sprintcare I did.</td>\n",
       "    </tr>\n",
       "  </tbody>\n",
       "</table>\n",
       "</div>"
      ],
      "text/plain": [
       "                                                text  ...                                    text_lemmatized\n",
       "0  @115712 I understand. I would like to assist y...  ...  @115712 I understand. I would like to assist y...\n",
       "1      @sprintcare and how do you propose we do that  ...      @sprintcare and how do you propose we do that\n",
       "2  @sprintcare I have sent several private messag...  ...  @sprintcare I have send several private messag...\n",
       "3  @115712 Please send us a Private Message so th...  ...  @115712 Please send u a Private Message so tha...\n",
       "4                                 @sprintcare I did.  ...                                 @sprintcare I did.\n",
       "\n",
       "[5 rows x 8 columns]"
      ]
     },
     "execution_count": 43,
     "metadata": {
      "tags": []
     },
     "output_type": "execute_result"
    }
   ],
   "source": [
    "from nltk.corpus import wordnet\n",
    "from nltk.stem import WordNetLemmatizer\n",
    "\n",
    "lemmatizer = WordNetLemmatizer()\n",
    "wordnet_map = {\"N\":wordnet.NOUN, \"V\":wordnet.VERB, \"J\":wordnet.ADJ, \"R\":wordnet.ADV}\n",
    "def lemmatize_words(text):\n",
    "    pos_tagged_text = nltk.pos_tag(text.split())\n",
    "    return \" \".join([lemmatizer.lemmatize(word, wordnet_map.get(pos[0], wordnet.NOUN)) for word, pos in pos_tagged_text])\n",
    "\n",
    "df[\"text_lemmatized\"] = df[\"text\"].apply(lambda text: lemmatize_words(text))\n",
    "df.head()"
   ]
  },
  {
   "cell_type": "markdown",
   "metadata": {
    "id": "yI-NpHdhvHwA"
   },
   "source": [
    "8. Remove Emojis"
   ]
  },
  {
   "cell_type": "code",
   "execution_count": null,
   "metadata": {
    "colab": {
     "base_uri": "https://localhost:8080/",
     "height": 35
    },
    "id": "ahvSVAa0rssv",
    "outputId": "868591ac-9a31-4b64-9733-e3181f8e3236"
   },
   "outputs": [
    {
     "data": {
      "application/vnd.google.colaboratory.intrinsic+json": {
       "type": "string"
      },
      "text/plain": [
       "'game is on '"
      ]
     },
     "execution_count": 44,
     "metadata": {
      "tags": []
     },
     "output_type": "execute_result"
    }
   ],
   "source": [
    "def remove_emoji(string):\n",
    "    emoji_pattern = re.compile(\"[\"\n",
    "                           u\"\\U0001F600-\\U0001F64F\"  # emoticons\n",
    "                           u\"\\U0001F300-\\U0001F5FF\"  # symbols & pictographs\n",
    "                           u\"\\U0001F680-\\U0001F6FF\"  # transport & map symbols\n",
    "                           u\"\\U0001F1E0-\\U0001F1FF\"  # flags (iOS)\n",
    "                           u\"\\U00002702-\\U000027B0\"\n",
    "                           u\"\\U000024C2-\\U0001F251\"\n",
    "                           \"]+\", flags=re.UNICODE)\n",
    "    return emoji_pattern.sub(r'', string)\n",
    "\n",
    "remove_emoji(\"game is on 🔥🔥\")"
   ]
  },
  {
   "cell_type": "markdown",
   "metadata": {
    "id": "k3gB2pFAvYXo"
   },
   "source": [
    "10. Remove URLs"
   ]
  },
  {
   "cell_type": "code",
   "execution_count": null,
   "metadata": {
    "id": "FFkSuBPysA9C"
   },
   "outputs": [],
   "source": [
    "def remove_urls(text):\n",
    "    url_pattern = re.compile(r'https?://\\S+|www\\.\\S+')\n",
    "    return url_pattern.sub(r'', text)"
   ]
  },
  {
   "cell_type": "code",
   "execution_count": null,
   "metadata": {
    "colab": {
     "base_uri": "https://localhost:8080/",
     "height": 35
    },
    "id": "OZd5ua27sDAN",
    "outputId": "c7c36578-199e-4a8c-e255-bea50cb5edd9"
   },
   "outputs": [
    {
     "data": {
      "application/vnd.google.colaboratory.intrinsic+json": {
       "type": "string"
      },
      "text/plain": [
       "'Driverless AI NLP blog post on '"
      ]
     },
     "execution_count": 46,
     "metadata": {
      "tags": []
     },
     "output_type": "execute_result"
    }
   ],
   "source": [
    "text = \"Driverless AI NLP blog post on https://www.h2o.ai/blog/detecting-sarcasm-is-difficult-but-ai-may-have-an-answer/\"\n",
    "remove_urls(text)"
   ]
  },
  {
   "cell_type": "code",
   "execution_count": null,
   "metadata": {
    "colab": {
     "base_uri": "https://localhost:8080/",
     "height": 35
    },
    "id": "NHFuagMzsF14",
    "outputId": "ae50d08c-5c78-431b-c881-022f9e1ebae0"
   },
   "outputs": [
    {
     "data": {
      "application/vnd.google.colaboratory.intrinsic+json": {
       "type": "string"
      },
      "text/plain": [
       "'Want to know more. Checkout  for additional information'"
      ]
     },
     "execution_count": 47,
     "metadata": {
      "tags": []
     },
     "output_type": "execute_result"
    }
   ],
   "source": [
    "text = \"Want to know more. Checkout www.h2o.ai for additional information\"\n",
    "remove_urls(text)"
   ]
  },
  {
   "cell_type": "markdown",
   "metadata": {
    "id": "7skLpvHDvemf"
   },
   "source": [
    "11. Remove HTML tags"
   ]
  },
  {
   "cell_type": "code",
   "execution_count": null,
   "metadata": {
    "colab": {
     "base_uri": "https://localhost:8080/",
     "height": 103
    },
    "id": "aIqKZmxYsI23",
    "outputId": "baadd4b8-1728-4cdf-d043-0f7523d85b14"
   },
   "outputs": [
    {
     "name": "stdout",
     "output_type": "stream",
     "text": [
      "\n",
      " H2O\n",
      " AutoML\n",
      " Driverless AI\n",
      "\n"
     ]
    }
   ],
   "source": [
    "def remove_html(text):\n",
    "    html_pattern = re.compile('<.*?>')\n",
    "    return html_pattern.sub(r'', text)\n",
    "\n",
    "text = \"\"\"<div>\n",
    "<h1> H2O</h1>\n",
    "<p> AutoML</p>\n",
    "<a href=\"https://www.h2o.ai/products/h2o-driverless-ai/\"> Driverless AI</a>\n",
    "</div>\"\"\"\n",
    "\n",
    "print(remove_html(text))"
   ]
  },
  {
   "cell_type": "markdown",
   "metadata": {
    "id": "0A5vDcqsvkM8"
   },
   "source": [
    "You could also practise with any other datset of your choice and apply such practices "
   ]
  }
 ],
 "metadata": {
  "colab": {
   "collapsed_sections": [],
   "name": "Text Preprocessing on Twitter Customer Support Data.ipynb",
   "provenance": []
  },
  "kernelspec": {
   "display_name": "Python 3",
   "language": "python",
   "name": "python3"
  },
  "language_info": {
   "codemirror_mode": {
    "name": "ipython",
    "version": 3
   },
   "file_extension": ".py",
   "mimetype": "text/x-python",
   "name": "python",
   "nbconvert_exporter": "python",
   "pygments_lexer": "ipython3",
   "version": "3.7.6"
  }
 },
 "nbformat": 4,
 "nbformat_minor": 1
}
