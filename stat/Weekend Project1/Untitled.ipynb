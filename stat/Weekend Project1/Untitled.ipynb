{
 "cells": [
  {
   "cell_type": "code",
   "execution_count": null,
   "metadata": {},
   "outputs": [],
   "source": [
    "# pip uninstall sklearn"
   ]
  },
  {
   "cell_type": "code",
   "execution_count": 1,
   "metadata": {},
   "outputs": [
    {
     "name": "stdout",
     "output_type": "stream",
     "text": [
      "Collecting package metadata (current_repodata.json): ...working... done\n",
      "Solving environment: ...working... done\n",
      "\n",
      "## Package Plan ##\n",
      "\n",
      "  environment location: C:\\Users\\soura\\anaconda3\n",
      "\n",
      "  added / updated specs:\n",
      "    - pandas-profiling\n",
      "\n",
      "\n",
      "The following packages will be downloaded:\n",
      "\n",
      "    package                    |            build\n",
      "    ---------------------------|-----------------\n",
      "    conda-4.8.5                |   py38h9bdc248_3         3.1 MB  conda-forge\n",
      "    confuse-1.3.0              |     pyh9f0ad1d_0          20 KB  conda-forge\n",
      "    htmlmin-0.1.12             |             py_1          21 KB  conda-forge\n",
      "    imagehash-4.1.0            |     pyh9f0ad1d_0         288 KB  conda-forge\n",
      "    missingno-0.4.2            |             py_1          12 KB  conda-forge\n",
      "    pandas-profiling-2.9.0     |     pyh9f0ad1d_0         176 KB  conda-forge\n",
      "    phik-0.10.0                |             py_0         578 KB  conda-forge\n",
      "    python_abi-3.8             |           1_cp38           4 KB  conda-forge\n",
      "    seaborn-base-0.11.0        |             py_0         215 KB  conda-forge\n",
      "    tangled-up-in-unicode-0.0.6|     pyh9f0ad1d_0         2.0 MB  conda-forge\n",
      "    visions-0.5.0              |     pyh9f0ad1d_0          42 KB  conda-forge\n",
      "    ------------------------------------------------------------\n",
      "                                           Total:         6.3 MB\n",
      "\n",
      "The following NEW packages will be INSTALLED:\n",
      "\n",
      "  confuse            conda-forge/noarch::confuse-1.3.0-pyh9f0ad1d_0\n",
      "  htmlmin            conda-forge/noarch::htmlmin-0.1.12-py_1\n",
      "  imagehash          conda-forge/noarch::imagehash-4.1.0-pyh9f0ad1d_0\n",
      "  missingno          conda-forge/noarch::missingno-0.4.2-py_1\n",
      "  pandas-profiling   conda-forge/noarch::pandas-profiling-2.9.0-pyh9f0ad1d_0\n",
      "Note: you may need to restart the kernel to use updated packages.\n",
      "  phik               conda-forge/noarch::phik-0.10.0-py_0\n",
      "  python_abi         conda-forge/win-64::python_abi-3.8-1_cp38\n",
      "  seaborn-base       conda-forge/noarch::seaborn-base-0.11.0-py_0\n",
      "  tangled-up-in-uni~ conda-forge/noarch::tangled-up-in-unicode-0.0.6-pyh9f0ad1d_0\n",
      "  visions            conda-forge/noarch::visions-0.5.0-pyh9f0ad1d_0\n",
      "\n",
      "The following packages will be UPDATED:\n",
      "\n",
      "  conda                       pkgs/main::conda-4.8.3-py38_0 --> conda-forge::conda-4.8.5-py38h9bdc248_3\n",
      "\n",
      "\n",
      "\n",
      "Downloading and Extracting Packages\n",
      "\n",
      "conda-4.8.5          | 3.1 MB    |            |   0% \n",
      "conda-4.8.5          | 3.1 MB    |            |   1% \n",
      "conda-4.8.5          | 3.1 MB    | 8          |   8% \n",
      "conda-4.8.5          | 3.1 MB    | ##2        |  22% \n",
      "conda-4.8.5          | 3.1 MB    | ####       |  41% \n",
      "conda-4.8.5          | 3.1 MB    | ######3    |  64% \n",
      "conda-4.8.5          | 3.1 MB    | ########6  |  87% \n",
      "conda-4.8.5          | 3.1 MB    | ########## | 100% \n"
     ]
    },
    {
     "name": "stderr",
     "output_type": "stream",
     "text": [
      "\n",
      "\n",
      "==> WARNING: A newer version of conda exists. <==\n",
      "  current version: 4.8.3\n",
      "  latest version: 4.8.5\n",
      "\n",
      "Please update conda by running\n",
      "\n",
      "    $ conda update -n base -c defaults conda\n",
      "\n",
      "\n"
     ]
    },
    {
     "name": "stdout",
     "output_type": "stream",
     "text": [
      "\n",
      "\n",
      "confuse-1.3.0        | 20 KB     |            |   0% \n",
      "confuse-1.3.0        | 20 KB     | ########## | 100% \n",
      "\n",
      "htmlmin-0.1.12       | 21 KB     |            |   0% \n",
      "htmlmin-0.1.12       | 21 KB     | ########## | 100% \n",
      "\n",
      "imagehash-4.1.0      | 288 KB    |            |   0% \n",
      "imagehash-4.1.0      | 288 KB    | #########4 |  94% \n",
      "imagehash-4.1.0      | 288 KB    | ########## | 100% \n",
      "\n",
      "pandas-profiling-2.9 | 176 KB    |            |   0% \n",
      "pandas-profiling-2.9 | 176 KB    | ########## | 100% \n",
      "\n",
      "tangled-up-in-unicod | 2.0 MB    |            |   0% \n",
      "tangled-up-in-unicod | 2.0 MB    | #5         |  15% \n",
      "tangled-up-in-unicod | 2.0 MB    | #####3     |  54% \n",
      "tangled-up-in-unicod | 2.0 MB    | #########1 |  91% \n",
      "tangled-up-in-unicod | 2.0 MB    | ########## | 100% \n",
      "\n",
      "missingno-0.4.2      | 12 KB     |            |   0% \n",
      "missingno-0.4.2      | 12 KB     | ########## | 100% \n",
      "\n",
      "phik-0.10.0          | 578 KB    |            |   0% \n",
      "phik-0.10.0          | 578 KB    | ###8       |  39% \n",
      "phik-0.10.0          | 578 KB    | ########## | 100% \n",
      "\n",
      "python_abi-3.8       | 4 KB      |            |   0% \n",
      "python_abi-3.8       | 4 KB      | ########## | 100% \n",
      "\n",
      "seaborn-base-0.11.0  | 215 KB    |            |   0% \n",
      "seaborn-base-0.11.0  | 215 KB    | ########## | 100% \n",
      "\n",
      "visions-0.5.0        | 42 KB     |            |   0% \n",
      "visions-0.5.0        | 42 KB     | ########## | 100% \n",
      "Preparing transaction: ...working... done\n",
      "Verifying transaction: ...working... done\n",
      "Executing transaction: ...working... done\n"
     ]
    }
   ],
   "source": [
    "conda install -c conda-forge pandas-profiling"
   ]
  },
  {
   "cell_type": "code",
   "execution_count": null,
   "metadata": {},
   "outputs": [],
   "source": [
    "# pip uninstall scikit-learn"
   ]
  },
  {
   "cell_type": "code",
   "execution_count": 2,
   "metadata": {},
   "outputs": [],
   "source": [
    "# pip install sklearn"
   ]
  }
 ],
 "metadata": {
  "kernelspec": {
   "display_name": "Python 3",
   "language": "python",
   "name": "python3"
  },
  "language_info": {
   "codemirror_mode": {
    "name": "ipython",
    "version": 3
   },
   "file_extension": ".py",
   "mimetype": "text/x-python",
   "name": "python",
   "nbconvert_exporter": "python",
   "pygments_lexer": "ipython3",
   "version": "3.8.3"
  }
 },
 "nbformat": 4,
 "nbformat_minor": 4
}
