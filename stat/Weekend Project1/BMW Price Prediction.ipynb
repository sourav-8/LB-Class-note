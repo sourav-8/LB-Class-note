{
 "cells": [
  {
   "cell_type": "code",
   "execution_count": 1,
   "metadata": {},
   "outputs": [],
   "source": [
    "import pandas as pd\n",
    "import numpy as np\n",
    "import seaborn as sns\n",
    "import matplotlib.pyplot as plt\n",
    "import warnings\n",
    "from sklearn import metrics\n",
    "\n",
    "pd.set_option('display.max_columns', None)\n",
    "warnings.filterwarnings('ignore')"
   ]
  },
  {
   "cell_type": "code",
   "execution_count": 2,
   "metadata": {},
   "outputs": [
    {
     "data": {
      "text/plain": [
       "(4843, 18)"
      ]
     },
     "execution_count": 2,
     "metadata": {},
     "output_type": "execute_result"
    }
   ],
   "source": [
    "df = pd.read_csv('bmw_pricing_challenge.csv')\n",
    "df.shape"
   ]
  },
  {
   "cell_type": "code",
   "execution_count": 3,
   "metadata": {},
   "outputs": [
    {
     "data": {
      "text/html": [
       "<div>\n",
       "<style scoped>\n",
       "    .dataframe tbody tr th:only-of-type {\n",
       "        vertical-align: middle;\n",
       "    }\n",
       "\n",
       "    .dataframe tbody tr th {\n",
       "        vertical-align: top;\n",
       "    }\n",
       "\n",
       "    .dataframe thead th {\n",
       "        text-align: right;\n",
       "    }\n",
       "</style>\n",
       "<table border=\"1\" class=\"dataframe\">\n",
       "  <thead>\n",
       "    <tr style=\"text-align: right;\">\n",
       "      <th></th>\n",
       "      <th>maker_key</th>\n",
       "      <th>model_key</th>\n",
       "      <th>mileage</th>\n",
       "      <th>engine_power</th>\n",
       "      <th>registration_date</th>\n",
       "      <th>fuel</th>\n",
       "      <th>paint_color</th>\n",
       "      <th>car_type</th>\n",
       "      <th>feature_1</th>\n",
       "      <th>feature_2</th>\n",
       "      <th>feature_3</th>\n",
       "      <th>feature_4</th>\n",
       "      <th>feature_5</th>\n",
       "      <th>feature_6</th>\n",
       "      <th>feature_7</th>\n",
       "      <th>feature_8</th>\n",
       "      <th>price</th>\n",
       "      <th>sold_at</th>\n",
       "    </tr>\n",
       "  </thead>\n",
       "  <tbody>\n",
       "    <tr>\n",
       "      <th>0</th>\n",
       "      <td>BMW</td>\n",
       "      <td>118</td>\n",
       "      <td>140411</td>\n",
       "      <td>100</td>\n",
       "      <td>2012-02-01</td>\n",
       "      <td>diesel</td>\n",
       "      <td>black</td>\n",
       "      <td>convertible</td>\n",
       "      <td>True</td>\n",
       "      <td>True</td>\n",
       "      <td>False</td>\n",
       "      <td>False</td>\n",
       "      <td>True</td>\n",
       "      <td>True</td>\n",
       "      <td>True</td>\n",
       "      <td>False</td>\n",
       "      <td>11300</td>\n",
       "      <td>2018-01-01</td>\n",
       "    </tr>\n",
       "    <tr>\n",
       "      <th>1</th>\n",
       "      <td>BMW</td>\n",
       "      <td>M4</td>\n",
       "      <td>13929</td>\n",
       "      <td>317</td>\n",
       "      <td>2016-04-01</td>\n",
       "      <td>petrol</td>\n",
       "      <td>grey</td>\n",
       "      <td>convertible</td>\n",
       "      <td>True</td>\n",
       "      <td>True</td>\n",
       "      <td>False</td>\n",
       "      <td>False</td>\n",
       "      <td>False</td>\n",
       "      <td>True</td>\n",
       "      <td>True</td>\n",
       "      <td>True</td>\n",
       "      <td>69700</td>\n",
       "      <td>2018-02-01</td>\n",
       "    </tr>\n",
       "    <tr>\n",
       "      <th>2</th>\n",
       "      <td>BMW</td>\n",
       "      <td>320</td>\n",
       "      <td>183297</td>\n",
       "      <td>120</td>\n",
       "      <td>2012-04-01</td>\n",
       "      <td>diesel</td>\n",
       "      <td>white</td>\n",
       "      <td>convertible</td>\n",
       "      <td>False</td>\n",
       "      <td>False</td>\n",
       "      <td>False</td>\n",
       "      <td>False</td>\n",
       "      <td>True</td>\n",
       "      <td>False</td>\n",
       "      <td>True</td>\n",
       "      <td>False</td>\n",
       "      <td>10200</td>\n",
       "      <td>2018-02-01</td>\n",
       "    </tr>\n",
       "    <tr>\n",
       "      <th>3</th>\n",
       "      <td>BMW</td>\n",
       "      <td>420</td>\n",
       "      <td>128035</td>\n",
       "      <td>135</td>\n",
       "      <td>2014-07-01</td>\n",
       "      <td>diesel</td>\n",
       "      <td>red</td>\n",
       "      <td>convertible</td>\n",
       "      <td>True</td>\n",
       "      <td>True</td>\n",
       "      <td>False</td>\n",
       "      <td>False</td>\n",
       "      <td>True</td>\n",
       "      <td>True</td>\n",
       "      <td>True</td>\n",
       "      <td>True</td>\n",
       "      <td>25100</td>\n",
       "      <td>2018-02-01</td>\n",
       "    </tr>\n",
       "    <tr>\n",
       "      <th>4</th>\n",
       "      <td>BMW</td>\n",
       "      <td>425</td>\n",
       "      <td>97097</td>\n",
       "      <td>160</td>\n",
       "      <td>2014-12-01</td>\n",
       "      <td>diesel</td>\n",
       "      <td>silver</td>\n",
       "      <td>convertible</td>\n",
       "      <td>True</td>\n",
       "      <td>True</td>\n",
       "      <td>False</td>\n",
       "      <td>False</td>\n",
       "      <td>False</td>\n",
       "      <td>True</td>\n",
       "      <td>True</td>\n",
       "      <td>True</td>\n",
       "      <td>33400</td>\n",
       "      <td>2018-04-01</td>\n",
       "    </tr>\n",
       "  </tbody>\n",
       "</table>\n",
       "</div>"
      ],
      "text/plain": [
       "  maker_key model_key  mileage  engine_power registration_date    fuel  \\\n",
       "0       BMW       118   140411           100        2012-02-01  diesel   \n",
       "1       BMW        M4    13929           317        2016-04-01  petrol   \n",
       "2       BMW       320   183297           120        2012-04-01  diesel   \n",
       "3       BMW       420   128035           135        2014-07-01  diesel   \n",
       "4       BMW       425    97097           160        2014-12-01  diesel   \n",
       "\n",
       "  paint_color     car_type  feature_1  feature_2  feature_3  feature_4  \\\n",
       "0       black  convertible       True       True      False      False   \n",
       "1        grey  convertible       True       True      False      False   \n",
       "2       white  convertible      False      False      False      False   \n",
       "3         red  convertible       True       True      False      False   \n",
       "4      silver  convertible       True       True      False      False   \n",
       "\n",
       "   feature_5  feature_6  feature_7  feature_8  price     sold_at  \n",
       "0       True       True       True      False  11300  2018-01-01  \n",
       "1      False       True       True       True  69700  2018-02-01  \n",
       "2       True      False       True      False  10200  2018-02-01  \n",
       "3       True       True       True       True  25100  2018-02-01  \n",
       "4      False       True       True       True  33400  2018-04-01  "
      ]
     },
     "execution_count": 3,
     "metadata": {},
     "output_type": "execute_result"
    }
   ],
   "source": [
    "df.head()"
   ]
  },
  {
   "cell_type": "code",
   "execution_count": 4,
   "metadata": {},
   "outputs": [
    {
     "data": {
      "text/plain": [
       "Index(['maker_key', 'model_key', 'mileage', 'engine_power',\n",
       "       'registration_date', 'fuel', 'paint_color', 'car_type', 'feature_1',\n",
       "       'feature_2', 'feature_3', 'feature_4', 'feature_5', 'feature_6',\n",
       "       'feature_7', 'feature_8', 'price', 'sold_at'],\n",
       "      dtype='object')"
      ]
     },
     "execution_count": 4,
     "metadata": {},
     "output_type": "execute_result"
    }
   ],
   "source": [
    "df.columns"
   ]
  },
  {
   "cell_type": "code",
   "execution_count": 5,
   "metadata": {},
   "outputs": [
    {
     "name": "stdout",
     "output_type": "stream",
     "text": [
      "<class 'pandas.core.frame.DataFrame'>\n",
      "RangeIndex: 4843 entries, 0 to 4842\n",
      "Data columns (total 18 columns):\n",
      " #   Column             Non-Null Count  Dtype \n",
      "---  ------             --------------  ----- \n",
      " 0   maker_key          4843 non-null   object\n",
      " 1   model_key          4843 non-null   object\n",
      " 2   mileage            4843 non-null   int64 \n",
      " 3   engine_power       4843 non-null   int64 \n",
      " 4   registration_date  4843 non-null   object\n",
      " 5   fuel               4843 non-null   object\n",
      " 6   paint_color        4843 non-null   object\n",
      " 7   car_type           4843 non-null   object\n",
      " 8   feature_1          4843 non-null   bool  \n",
      " 9   feature_2          4843 non-null   bool  \n",
      " 10  feature_3          4843 non-null   bool  \n",
      " 11  feature_4          4843 non-null   bool  \n",
      " 12  feature_5          4843 non-null   bool  \n",
      " 13  feature_6          4843 non-null   bool  \n",
      " 14  feature_7          4843 non-null   bool  \n",
      " 15  feature_8          4843 non-null   bool  \n",
      " 16  price              4843 non-null   int64 \n",
      " 17  sold_at            4843 non-null   object\n",
      "dtypes: bool(8), int64(3), object(7)\n",
      "memory usage: 416.3+ KB\n"
     ]
    }
   ],
   "source": [
    "df.info()"
   ]
  },
  {
   "cell_type": "code",
   "execution_count": 6,
   "metadata": {},
   "outputs": [
    {
     "data": {
      "text/plain": [
       "maker_key            0\n",
       "model_key            0\n",
       "mileage              0\n",
       "engine_power         0\n",
       "registration_date    0\n",
       "fuel                 0\n",
       "paint_color          0\n",
       "car_type             0\n",
       "feature_1            0\n",
       "feature_2            0\n",
       "feature_3            0\n",
       "feature_4            0\n",
       "feature_5            0\n",
       "feature_6            0\n",
       "feature_7            0\n",
       "feature_8            0\n",
       "price                0\n",
       "sold_at              0\n",
       "dtype: int64"
      ]
     },
     "execution_count": 6,
     "metadata": {},
     "output_type": "execute_result"
    }
   ],
   "source": [
    "### missing values handling \n",
    "df.isnull().sum()"
   ]
  },
  {
   "cell_type": "code",
   "execution_count": 7,
   "metadata": {},
   "outputs": [
    {
     "data": {
      "text/html": [
       "<div>\n",
       "<style scoped>\n",
       "    .dataframe tbody tr th:only-of-type {\n",
       "        vertical-align: middle;\n",
       "    }\n",
       "\n",
       "    .dataframe tbody tr th {\n",
       "        vertical-align: top;\n",
       "    }\n",
       "\n",
       "    .dataframe thead th {\n",
       "        text-align: right;\n",
       "    }\n",
       "</style>\n",
       "<table border=\"1\" class=\"dataframe\">\n",
       "  <thead>\n",
       "    <tr style=\"text-align: right;\">\n",
       "      <th></th>\n",
       "      <th>maker_key</th>\n",
       "      <th>model_key</th>\n",
       "      <th>registration_date</th>\n",
       "      <th>fuel</th>\n",
       "      <th>paint_color</th>\n",
       "      <th>car_type</th>\n",
       "      <th>sold_at</th>\n",
       "    </tr>\n",
       "  </thead>\n",
       "  <tbody>\n",
       "    <tr>\n",
       "      <th>0</th>\n",
       "      <td>BMW</td>\n",
       "      <td>118</td>\n",
       "      <td>2012-02-01</td>\n",
       "      <td>diesel</td>\n",
       "      <td>black</td>\n",
       "      <td>convertible</td>\n",
       "      <td>2018-01-01</td>\n",
       "    </tr>\n",
       "    <tr>\n",
       "      <th>1</th>\n",
       "      <td>BMW</td>\n",
       "      <td>M4</td>\n",
       "      <td>2016-04-01</td>\n",
       "      <td>petrol</td>\n",
       "      <td>grey</td>\n",
       "      <td>convertible</td>\n",
       "      <td>2018-02-01</td>\n",
       "    </tr>\n",
       "    <tr>\n",
       "      <th>2</th>\n",
       "      <td>BMW</td>\n",
       "      <td>320</td>\n",
       "      <td>2012-04-01</td>\n",
       "      <td>diesel</td>\n",
       "      <td>white</td>\n",
       "      <td>convertible</td>\n",
       "      <td>2018-02-01</td>\n",
       "    </tr>\n",
       "    <tr>\n",
       "      <th>3</th>\n",
       "      <td>BMW</td>\n",
       "      <td>420</td>\n",
       "      <td>2014-07-01</td>\n",
       "      <td>diesel</td>\n",
       "      <td>red</td>\n",
       "      <td>convertible</td>\n",
       "      <td>2018-02-01</td>\n",
       "    </tr>\n",
       "    <tr>\n",
       "      <th>4</th>\n",
       "      <td>BMW</td>\n",
       "      <td>425</td>\n",
       "      <td>2014-12-01</td>\n",
       "      <td>diesel</td>\n",
       "      <td>silver</td>\n",
       "      <td>convertible</td>\n",
       "      <td>2018-04-01</td>\n",
       "    </tr>\n",
       "  </tbody>\n",
       "</table>\n",
       "</div>"
      ],
      "text/plain": [
       "  maker_key model_key registration_date    fuel paint_color     car_type  \\\n",
       "0       BMW       118        2012-02-01  diesel       black  convertible   \n",
       "1       BMW        M4        2016-04-01  petrol        grey  convertible   \n",
       "2       BMW       320        2012-04-01  diesel       white  convertible   \n",
       "3       BMW       420        2014-07-01  diesel         red  convertible   \n",
       "4       BMW       425        2014-12-01  diesel      silver  convertible   \n",
       "\n",
       "      sold_at  \n",
       "0  2018-01-01  \n",
       "1  2018-02-01  \n",
       "2  2018-02-01  \n",
       "3  2018-02-01  \n",
       "4  2018-04-01  "
      ]
     },
     "execution_count": 7,
     "metadata": {},
     "output_type": "execute_result"
    }
   ],
   "source": [
    "### Encoding - label encoding and OHE\n",
    "categorical_f = df.select_dtypes('object').columns\n",
    "df[categorical_f].head()"
   ]
  },
  {
   "cell_type": "code",
   "execution_count": 8,
   "metadata": {},
   "outputs": [
    {
     "name": "stdout",
     "output_type": "stream",
     "text": [
      "maker_key => ['BMW'] 1\n",
      "model_key => ['118' 'M4' '320' '420' '425' '335' '325' 'Z4' '120' '220' '650' '135'\n",
      " '218' '318' '430' 'M3' '330' '225' 'M235' '316' '435' '640'\n",
      " '640 Gran Coupé' '435 Gran Coupé' 'i8' '630' '430 Gran Coupé' '635' '520'\n",
      " '525' '530' '535' '320 Gran Turismo' '518' '116' '328' '523' 'X3' 'M550'\n",
      " '528' '325 Gran Turismo' '125' '318 Gran Turismo' '420 Gran Coupé' 'i3'\n",
      " '114' '520 Gran Turismo' '530 Gran Turismo' 'M135' '418 Gran Coupé'\n",
      " '330 Gran Turismo' '335 Gran Turismo' '730' '123' '535 Gran Turismo'\n",
      " '740' '750' 'ActiveHybrid 5' '735' 'M5' 'X5' 'X1' 'X4' 'X6' 'X6 M' 'X5 M'\n",
      " 'X5 M50' '218 Active Tourer' '218 Gran Tourer' '216' '220 Active Tourer'\n",
      " '216 Gran Tourer' '216 Active Tourer' '225 Active Tourer'\n",
      " '214 Gran Tourer'] 75\n",
      "fuel => ['diesel' 'petrol' 'hybrid_petrol' 'electro'] 4\n",
      "paint_color => ['black' 'grey' 'white' 'red' 'silver' 'blue' 'orange' 'beige' 'brown'\n",
      " 'green'] 10\n",
      "car_type => ['convertible' 'coupe' 'estate' 'hatchback' 'sedan' 'subcompact' 'suv'\n",
      " 'van'] 8\n"
     ]
    }
   ],
   "source": [
    "for each in ['maker_key', 'model_key', 'fuel', 'paint_color',\n",
    "       'car_type']:\n",
    "     print(each, \"=>\",df[each].unique(), df[each].nunique())"
   ]
  },
  {
   "cell_type": "code",
   "execution_count": 9,
   "metadata": {},
   "outputs": [
    {
     "data": {
      "text/plain": [
       "<matplotlib.axes._subplots.AxesSubplot at 0x1a035bb67c0>"
      ]
     },
     "execution_count": 9,
     "metadata": {},
     "output_type": "execute_result"
    },
    {
     "data": {
      "image/png": "[encoded data removed]",
      "text/plain": [
       "<Figure size 432x288 with 1 Axes>"
      ]
     },
     "metadata": {
      "needs_background": "light"
     },
     "output_type": "display_data"
    }
   ],
   "source": [
    "# working with paint colour\n",
    "\n",
    "sns.countplot(df.paint_color)"
   ]
  },
  {
   "cell_type": "code",
   "execution_count": 10,
   "metadata": {},
   "outputs": [
    {
     "data": {
      "text/html": [
       "<div>\n",
       "<style scoped>\n",
       "    .dataframe tbody tr th:only-of-type {\n",
       "        vertical-align: middle;\n",
       "    }\n",
       "\n",
       "    .dataframe tbody tr th {\n",
       "        vertical-align: top;\n",
       "    }\n",
       "\n",
       "    .dataframe thead th {\n",
       "        text-align: right;\n",
       "    }\n",
       "</style>\n",
       "<table border=\"1\" class=\"dataframe\">\n",
       "  <thead>\n",
       "    <tr style=\"text-align: right;\">\n",
       "      <th></th>\n",
       "      <th>paint_color</th>\n",
       "      <th>mileage</th>\n",
       "      <th>price</th>\n",
       "    </tr>\n",
       "  </thead>\n",
       "  <tbody>\n",
       "    <tr>\n",
       "      <th>6</th>\n",
       "      <td>orange</td>\n",
       "      <td>88756.333333</td>\n",
       "      <td>18866.666667</td>\n",
       "    </tr>\n",
       "    <tr>\n",
       "      <th>7</th>\n",
       "      <td>red</td>\n",
       "      <td>125155.615385</td>\n",
       "      <td>16500.000000</td>\n",
       "    </tr>\n",
       "    <tr>\n",
       "      <th>0</th>\n",
       "      <td>beige</td>\n",
       "      <td>128870.707317</td>\n",
       "      <td>15817.073171</td>\n",
       "    </tr>\n",
       "    <tr>\n",
       "      <th>9</th>\n",
       "      <td>white</td>\n",
       "      <td>129582.401487</td>\n",
       "      <td>17328.438662</td>\n",
       "    </tr>\n",
       "    <tr>\n",
       "      <th>3</th>\n",
       "      <td>brown</td>\n",
       "      <td>135704.771261</td>\n",
       "      <td>15367.741935</td>\n",
       "    </tr>\n",
       "    <tr>\n",
       "      <th>2</th>\n",
       "      <td>blue</td>\n",
       "      <td>138387.687324</td>\n",
       "      <td>15114.929577</td>\n",
       "    </tr>\n",
       "    <tr>\n",
       "      <th>5</th>\n",
       "      <td>grey</td>\n",
       "      <td>143757.417872</td>\n",
       "      <td>15595.744681</td>\n",
       "    </tr>\n",
       "    <tr>\n",
       "      <th>1</th>\n",
       "      <td>black</td>\n",
       "      <td>144289.800367</td>\n",
       "      <td>16173.851806</td>\n",
       "    </tr>\n",
       "    <tr>\n",
       "      <th>8</th>\n",
       "      <td>silver</td>\n",
       "      <td>146053.112462</td>\n",
       "      <td>14816.109422</td>\n",
       "    </tr>\n",
       "    <tr>\n",
       "      <th>4</th>\n",
       "      <td>green</td>\n",
       "      <td>195606.000000</td>\n",
       "      <td>7200.000000</td>\n",
       "    </tr>\n",
       "  </tbody>\n",
       "</table>\n",
       "</div>"
      ],
      "text/plain": [
       "  paint_color        mileage         price\n",
       "6      orange   88756.333333  18866.666667\n",
       "7         red  125155.615385  16500.000000\n",
       "0       beige  128870.707317  15817.073171\n",
       "9       white  129582.401487  17328.438662\n",
       "3       brown  135704.771261  15367.741935\n",
       "2        blue  138387.687324  15114.929577\n",
       "5        grey  143757.417872  15595.744681\n",
       "1       black  144289.800367  16173.851806\n",
       "8      silver  146053.112462  14816.109422\n",
       "4       green  195606.000000   7200.000000"
      ]
     },
     "execution_count": 10,
     "metadata": {},
     "output_type": "execute_result"
    }
   ],
   "source": [
    "df.groupby('paint_color')['mileage','price'].mean().reset_index().sort_values('mileage')\n",
    "## try to find out if any relationship between color of the car and mileage in real world?"
   ]
  },
  {
   "cell_type": "code",
   "execution_count": 11,
   "metadata": {},
   "outputs": [
    {
     "name": "stdout",
     "output_type": "stream",
     "text": [
      "black             mileage  engine_power         price\n",
      "count  1.633000e+03   1633.000000   1633.000000\n",
      "mean   1.442898e+05    131.008573  16173.851806\n",
      "std    6.310074e+04     38.979223   8874.971468\n",
      "min   -6.400000e+01     25.000000    100.000000\n",
      "25%    1.064040e+05    105.000000  10900.000000\n",
      "50%    1.454710e+05    120.000000  14500.000000\n",
      "75%    1.776710e+05    140.000000  19300.000000\n",
      "max    1.000376e+06    317.000000  75000.000000\n",
      "grey              mileage  engine_power          price\n",
      "count    1175.000000   1175.000000    1175.000000\n",
      "mean   143757.417872    129.268936   15595.744681\n",
      "std     60480.526550     38.198944    9622.369714\n",
      "min      5578.000000     70.000000     100.000000\n",
      "25%    104144.500000    100.000000   10800.000000\n",
      "50%    140631.000000    120.000000   14000.000000\n",
      "75%    179102.500000    135.000000   17900.000000\n",
      "max    477571.000000    317.000000  142800.000000\n",
      "white              mileage  engine_power         price\n",
      "count     538.000000    538.000000    538.000000\n",
      "mean   129582.401487    129.866171  17328.438662\n",
      "std     54075.025044     41.165297   9276.029348\n",
      "min      2399.000000      0.000000    100.000000\n",
      "25%     93148.250000    105.000000  12000.000000\n",
      "50%    132538.500000    132.500000  14900.000000\n",
      "75%    164923.250000    135.000000  20000.000000\n",
      "max    375686.000000    412.000000  66600.000000\n",
      "red              mileage  engine_power         price\n",
      "count      52.000000     52.000000     52.000000\n",
      "mean   125155.615385    126.711538  16500.000000\n",
      "std     53481.297890     53.016585  11956.670138\n",
      "min      2970.000000     70.000000   2400.000000\n",
      "25%     95761.000000    100.000000  11175.000000\n",
      "50%    128047.000000    120.000000  13200.000000\n",
      "75%    162061.750000    135.000000  17500.000000\n",
      "max    208638.000000    423.000000  82400.000000\n",
      "silver              mileage  engine_power         price\n",
      "count     329.000000    329.000000    329.000000\n",
      "mean   146053.112462    130.790274  14816.109422\n",
      "std     61714.883339     40.163785   8547.447312\n",
      "min      4530.000000     66.000000    100.000000\n",
      "25%    105764.000000    105.000000  10100.000000\n",
      "50%    145215.000000    120.000000  14400.000000\n",
      "75%    184507.000000    135.000000  18800.000000\n",
      "max    439060.000000    309.000000  73100.000000\n",
      "blue              mileage  engine_power          price\n",
      "count     710.000000    710.000000     710.000000\n",
      "mean   138387.687324    127.573239   15114.929577\n",
      "std     61792.656132     39.663139   10282.722836\n",
      "min       476.000000     70.000000     100.000000\n",
      "25%     96489.750000    100.000000   10100.000000\n",
      "50%    137580.500000    120.000000   13250.000000\n",
      "75%    172167.000000    135.000000   17600.000000\n",
      "max    484615.000000    317.000000  178500.000000\n",
      "orange              mileage  engine_power         price\n",
      "count       6.000000      6.000000      6.000000\n",
      "mean    88756.333333    141.666667  18866.666667\n",
      "std     60408.694820     38.815804   6261.203292\n",
      "min     34767.000000     85.000000  13100.000000\n",
      "25%     44487.250000    123.750000  13775.000000\n",
      "50%     63191.500000    137.500000  17400.000000\n",
      "75%    135601.000000    170.000000  22675.000000\n",
      "max    173398.000000    190.000000  28300.000000\n",
      "beige              mileage  engine_power         price\n",
      "count      41.000000     41.000000     41.000000\n",
      "mean   128870.707317    123.658537  15817.073171\n",
      "std     53792.861753     33.745822   5818.500771\n",
      "min     24175.000000     85.000000   7700.000000\n",
      "25%     95874.000000    100.000000  12400.000000\n",
      "50%    125505.000000    120.000000  13700.000000\n",
      "75%    163601.000000    135.000000  17000.000000\n",
      "max    273532.000000    230.000000  32100.000000\n",
      "brown              mileage  engine_power         price\n",
      "count     341.000000    341.000000    341.000000\n",
      "mean   135704.771261    119.381232  15367.741935\n",
      "std     43571.678767     32.182405   6909.661855\n",
      "min     12541.000000     70.000000    800.000000\n",
      "25%    105304.000000    100.000000  11200.000000\n",
      "50%    141775.000000    120.000000  13900.000000\n",
      "75%    166676.000000    135.000000  17400.000000\n",
      "max    299054.000000    230.000000  46500.000000\n",
      "green              mileage  engine_power        price\n",
      "count      18.000000     18.000000     18.00000\n",
      "mean   195606.000000    120.500000   7200.00000\n",
      "std     73746.916106     35.660573   5546.16985\n",
      "min     63008.000000     77.000000    700.00000\n",
      "25%    153881.750000    100.000000   2625.00000\n",
      "50%    186939.000000    110.000000   6950.00000\n",
      "75%    240504.500000    127.500000   8850.00000\n",
      "max    359648.000000    210.000000  20500.00000\n"
     ]
    }
   ],
   "source": [
    "for each in df.paint_color.unique():\n",
    "    print(each, df[df.paint_color==each].describe())\n",
    "\n",
    "# note: orange color  has hghes minimum price but frequency is least. Try to look for relationship between car color and per unit car price  "
   ]
  },
  {
   "cell_type": "code",
   "execution_count": 12,
   "metadata": {},
   "outputs": [
    {
     "data": {
      "text/html": [
       "<div>\n",
       "<style scoped>\n",
       "    .dataframe tbody tr th:only-of-type {\n",
       "        vertical-align: middle;\n",
       "    }\n",
       "\n",
       "    .dataframe tbody tr th {\n",
       "        vertical-align: top;\n",
       "    }\n",
       "\n",
       "    .dataframe thead th {\n",
       "        text-align: right;\n",
       "    }\n",
       "</style>\n",
       "<table border=\"1\" class=\"dataframe\">\n",
       "  <thead>\n",
       "    <tr style=\"text-align: right;\">\n",
       "      <th></th>\n",
       "      <th>feature_1</th>\n",
       "      <th>feature_2</th>\n",
       "      <th>feature_3</th>\n",
       "      <th>feature_4</th>\n",
       "      <th>feature_5</th>\n",
       "      <th>feature_6</th>\n",
       "      <th>feature_7</th>\n",
       "      <th>feature_8</th>\n",
       "    </tr>\n",
       "  </thead>\n",
       "  <tbody>\n",
       "    <tr>\n",
       "      <th>0</th>\n",
       "      <td>True</td>\n",
       "      <td>True</td>\n",
       "      <td>False</td>\n",
       "      <td>False</td>\n",
       "      <td>True</td>\n",
       "      <td>True</td>\n",
       "      <td>True</td>\n",
       "      <td>False</td>\n",
       "    </tr>\n",
       "    <tr>\n",
       "      <th>1</th>\n",
       "      <td>True</td>\n",
       "      <td>True</td>\n",
       "      <td>False</td>\n",
       "      <td>False</td>\n",
       "      <td>False</td>\n",
       "      <td>True</td>\n",
       "      <td>True</td>\n",
       "      <td>True</td>\n",
       "    </tr>\n",
       "    <tr>\n",
       "      <th>2</th>\n",
       "      <td>False</td>\n",
       "      <td>False</td>\n",
       "      <td>False</td>\n",
       "      <td>False</td>\n",
       "      <td>True</td>\n",
       "      <td>False</td>\n",
       "      <td>True</td>\n",
       "      <td>False</td>\n",
       "    </tr>\n",
       "    <tr>\n",
       "      <th>3</th>\n",
       "      <td>True</td>\n",
       "      <td>True</td>\n",
       "      <td>False</td>\n",
       "      <td>False</td>\n",
       "      <td>True</td>\n",
       "      <td>True</td>\n",
       "      <td>True</td>\n",
       "      <td>True</td>\n",
       "    </tr>\n",
       "    <tr>\n",
       "      <th>4</th>\n",
       "      <td>True</td>\n",
       "      <td>True</td>\n",
       "      <td>False</td>\n",
       "      <td>False</td>\n",
       "      <td>False</td>\n",
       "      <td>True</td>\n",
       "      <td>True</td>\n",
       "      <td>True</td>\n",
       "    </tr>\n",
       "  </tbody>\n",
       "</table>\n",
       "</div>"
      ],
      "text/plain": [
       "   feature_1  feature_2  feature_3  feature_4  feature_5  feature_6  \\\n",
       "0       True       True      False      False       True       True   \n",
       "1       True       True      False      False      False       True   \n",
       "2      False      False      False      False       True      False   \n",
       "3       True       True      False      False       True       True   \n",
       "4       True       True      False      False      False       True   \n",
       "\n",
       "   feature_7  feature_8  \n",
       "0       True      False  \n",
       "1       True       True  \n",
       "2       True      False  \n",
       "3       True       True  \n",
       "4       True       True  "
      ]
     },
     "execution_count": 12,
     "metadata": {},
     "output_type": "execute_result"
    }
   ],
   "source": [
    "## converting boolean features into binary  \n",
    "boolean_f = df.select_dtypes('boolean').columns\n",
    "df[boolean_f].head()"
   ]
  },
  {
   "cell_type": "code",
   "execution_count": 13,
   "metadata": {},
   "outputs": [
    {
     "name": "stdout",
     "output_type": "stream",
     "text": [
      "feature_1 [ True False]\n",
      "feature_2 [ True False]\n",
      "feature_3 [False  True]\n",
      "feature_4 [False  True]\n",
      "feature_5 [ True False]\n",
      "feature_6 [ True False]\n",
      "feature_7 [ True False]\n",
      "feature_8 [False  True]\n"
     ]
    }
   ],
   "source": [
    "for each in boolean_f:\n",
    "     print(each, df[each].unique())"
   ]
  },
  {
   "cell_type": "code",
   "execution_count": 14,
   "metadata": {},
   "outputs": [],
   "source": [
    "for col in boolean_f:\n",
    "    df[col] = df[col].apply(lambda x: 1 if x== True else 0)"
   ]
  },
  {
   "cell_type": "code",
   "execution_count": 15,
   "metadata": {},
   "outputs": [
    {
     "data": {
      "text/html": [
       "<div>\n",
       "<style scoped>\n",
       "    .dataframe tbody tr th:only-of-type {\n",
       "        vertical-align: middle;\n",
       "    }\n",
       "\n",
       "    .dataframe tbody tr th {\n",
       "        vertical-align: top;\n",
       "    }\n",
       "\n",
       "    .dataframe thead th {\n",
       "        text-align: right;\n",
       "    }\n",
       "</style>\n",
       "<table border=\"1\" class=\"dataframe\">\n",
       "  <thead>\n",
       "    <tr style=\"text-align: right;\">\n",
       "      <th></th>\n",
       "      <th>feature_1</th>\n",
       "      <th>feature_2</th>\n",
       "      <th>feature_3</th>\n",
       "      <th>feature_4</th>\n",
       "      <th>feature_5</th>\n",
       "      <th>feature_6</th>\n",
       "      <th>feature_7</th>\n",
       "      <th>feature_8</th>\n",
       "    </tr>\n",
       "  </thead>\n",
       "  <tbody>\n",
       "    <tr>\n",
       "      <th>0</th>\n",
       "      <td>1</td>\n",
       "      <td>1</td>\n",
       "      <td>0</td>\n",
       "      <td>0</td>\n",
       "      <td>1</td>\n",
       "      <td>1</td>\n",
       "      <td>1</td>\n",
       "      <td>0</td>\n",
       "    </tr>\n",
       "    <tr>\n",
       "      <th>1</th>\n",
       "      <td>1</td>\n",
       "      <td>1</td>\n",
       "      <td>0</td>\n",
       "      <td>0</td>\n",
       "      <td>0</td>\n",
       "      <td>1</td>\n",
       "      <td>1</td>\n",
       "      <td>1</td>\n",
       "    </tr>\n",
       "    <tr>\n",
       "      <th>2</th>\n",
       "      <td>0</td>\n",
       "      <td>0</td>\n",
       "      <td>0</td>\n",
       "      <td>0</td>\n",
       "      <td>1</td>\n",
       "      <td>0</td>\n",
       "      <td>1</td>\n",
       "      <td>0</td>\n",
       "    </tr>\n",
       "    <tr>\n",
       "      <th>3</th>\n",
       "      <td>1</td>\n",
       "      <td>1</td>\n",
       "      <td>0</td>\n",
       "      <td>0</td>\n",
       "      <td>1</td>\n",
       "      <td>1</td>\n",
       "      <td>1</td>\n",
       "      <td>1</td>\n",
       "    </tr>\n",
       "    <tr>\n",
       "      <th>4</th>\n",
       "      <td>1</td>\n",
       "      <td>1</td>\n",
       "      <td>0</td>\n",
       "      <td>0</td>\n",
       "      <td>0</td>\n",
       "      <td>1</td>\n",
       "      <td>1</td>\n",
       "      <td>1</td>\n",
       "    </tr>\n",
       "  </tbody>\n",
       "</table>\n",
       "</div>"
      ],
      "text/plain": [
       "   feature_1  feature_2  feature_3  feature_4  feature_5  feature_6  \\\n",
       "0          1          1          0          0          1          1   \n",
       "1          1          1          0          0          0          1   \n",
       "2          0          0          0          0          1          0   \n",
       "3          1          1          0          0          1          1   \n",
       "4          1          1          0          0          0          1   \n",
       "\n",
       "   feature_7  feature_8  \n",
       "0          1          0  \n",
       "1          1          1  \n",
       "2          1          0  \n",
       "3          1          1  \n",
       "4          1          1  "
      ]
     },
     "execution_count": 15,
     "metadata": {},
     "output_type": "execute_result"
    }
   ],
   "source": [
    "df[boolean_f].head()"
   ]
  },
  {
   "cell_type": "code",
   "execution_count": 16,
   "metadata": {},
   "outputs": [],
   "source": [
    "## converting time columns as time type\n",
    "df.registration_date = pd.to_datetime(df.registration_date)\n",
    "df.sold_at = pd.to_datetime(df.sold_at)"
   ]
  },
  {
   "cell_type": "code",
   "execution_count": 17,
   "metadata": {},
   "outputs": [],
   "source": [
    "###  Exacting time components from time columns\n",
    "df['reg_year'] = df.registration_date.dt.year\n",
    "df['reg_month'] = df.registration_date.dt.month\n",
    "df['reg_weekday'] = df.registration_date.dt.weekday\n",
    "df['reg_weekday_yr'] = df.registration_date.dt.weekofyear\n",
    "\n",
    "df['sold_year'] = df.sold_at.dt.year\n",
    "df['sold_month'] = df.sold_at.dt.month\n",
    "df['sold_weekday'] = df.sold_at.dt.weekday\n",
    "df['sold_weekday_yr'] = df.sold_at.dt.weekofyear\n",
    "\n",
    "df['diff_reg_sold'] = df.sold_at - df.registration_date\n",
    "df.diff_reg_sold = df.diff_reg_sold.apply(lambda x: str(x).split()[0])\n",
    "\n",
    "# year difference between sold year and registration year\n",
    "df['year_diff']  = df.sold_year - df.reg_year "
   ]
  },
  {
   "cell_type": "code",
   "execution_count": 18,
   "metadata": {},
   "outputs": [
    {
     "data": {
      "text/plain": [
       "Text(0, 0.5, 'Price')"
      ]
     },
     "execution_count": 18,
     "metadata": {},
     "output_type": "execute_result"
    },
    {
     "data": {
      "image/png": "[encoded data removed]",
      "text/plain": [
       "<Figure size 432x288 with 1 Axes>"
      ]
     },
     "metadata": {
      "needs_background": "light"
     },
     "output_type": "display_data"
    }
   ],
   "source": [
    "plt.scatter(df.engine_power, df.price)\n",
    "plt.xlabel('Mileage')\n",
    "plt.ylabel('Price')\n",
    "# note: as mileage increasing price range is also increasing"
   ]
  },
  {
   "cell_type": "code",
   "execution_count": 19,
   "metadata": {},
   "outputs": [
    {
     "data": {
      "image/png": "[encoded data removed]",
      "text/plain": [
       "<Figure size 1440x504 with 2 Axes>"
      ]
     },
     "metadata": {
      "needs_background": "light"
     },
     "output_type": "display_data"
    }
   ],
   "source": [
    "fig, ax = plt.subplots(1,2, figsize = (20,7))\n",
    "ax[0].scatter(df['year_diff'] .astype('object'), df.price)\n",
    "# hypothesis: as the car grows older, actual worth will decrease\n",
    "plt.xlabel('Year difference between sold and registration year')\n",
    "plt.ylabel('Price of the car')\n",
    "\n",
    "x = df.groupby('year_diff')['price'].mean().reset_index()\n",
    "ax[1].plot(x['year_diff'], x.price)\n",
    "# hypothesis: as the car grows older, actual worth will decrease\n",
    "plt.xlabel('Year difference between sold and registration year')\n",
    "plt.ylabel('Price of the car')\n",
    "plt.show()\n",
    "# validate the hypothesis"
   ]
  },
  {
   "cell_type": "code",
   "execution_count": 20,
   "metadata": {},
   "outputs": [
    {
     "data": {
      "text/plain": [
       "Text(0, 0.5, 'Price of the car')"
      ]
     },
     "execution_count": 20,
     "metadata": {},
     "output_type": "execute_result"
    },
    {
     "data": {
      "image/png": "[encoded data removed]",
      "text/plain": [
       "<Figure size 1440x504 with 2 Axes>"
      ]
     },
     "metadata": {
      "needs_background": "light"
     },
     "output_type": "display_data"
    }
   ],
   "source": [
    "fig, ax = plt.subplots(1,2, figsize = (20,7))\n",
    "ax[0].scatter(df['diff_reg_sold'] .astype('object'), df.price)\n",
    "# hypothesis: as the car grows older, actual worth will decrease\n",
    "plt.xlabel('Days difference between sold and registration year')\n",
    "plt.ylabel('Price of the car')\n",
    "\n",
    "x = df.groupby('diff_reg_sold')['price'].mean().reset_index()\n",
    "ax[1].plot(x['diff_reg_sold'], x.price)\n",
    "# hypothesis: as the car grows older, actual worth will decrease\n",
    "plt.xlabel('Days difference between sold and registration year')\n",
    "plt.ylabel('Price of the car')\n",
    "# validate the hypothesis"
   ]
  },
  {
   "cell_type": "code",
   "execution_count": 21,
   "metadata": {},
   "outputs": [
    {
     "data": {
      "text/plain": [
       "Text(0, 0.5, 'Price of the car')"
      ]
     },
     "execution_count": 21,
     "metadata": {},
     "output_type": "execute_result"
    },
    {
     "data": {
      "image/png": "[encoded data removed]",
      "text/plain": [
       "<Figure size 1440x720 with 4 Axes>"
      ]
     },
     "metadata": {
      "needs_background": "light"
     },
     "output_type": "display_data"
    }
   ],
   "source": [
    "fig, ax = plt.subplots(2,2, figsize = (20,10))\n",
    "sns.scatterplot(df.reg_month, df.price, ax = ax[0,0])\n",
    "plt.xlabel('Registration Month')\n",
    "plt.ylabel('Price of the car')\n",
    "\n",
    "\n",
    "sns.scatterplot(df.reg_weekday, df.price, ax = ax[1,0], color = 'green')\n",
    "plt.xlabel('Registration Weekdays')\n",
    "plt.ylabel('Price of the car')\n",
    "\n",
    "\n",
    "sns.scatterplot(df.sold_weekday, df.price, ax = ax[0,1], color = 'c')\n",
    "plt.xlabel('Sold Weekdays')\n",
    "plt.ylabel('Price of the car')\n",
    "\n",
    "sns.scatterplot(df.sold_month, df.price, ax = ax[1,1], color = 'm')\n",
    "plt.xlabel('Sold Months')\n",
    "plt.ylabel('Price of the car')\n",
    "# note: looking for seasonality impact on price, however, second hand cars price do not seems to have seasonality impact"
   ]
  },
  {
   "cell_type": "code",
   "execution_count": 22,
   "metadata": {},
   "outputs": [
    {
     "data": {
      "text/plain": [
       "Text(0, 0.5, 'Price of the car')"
      ]
     },
     "execution_count": 22,
     "metadata": {},
     "output_type": "execute_result"
    },
    {
     "data": {
      "image/png": "[encoded data removed]",
      "text/plain": [
       "<Figure size 1440x720 with 4 Axes>"
      ]
     },
     "metadata": {
      "needs_background": "light"
     },
     "output_type": "display_data"
    }
   ],
   "source": [
    "fig, ax = plt.subplots(2,2, figsize = (20,10))\n",
    "x = df.groupby('reg_month')['price'].mean().reset_index()\n",
    "ax[0,0].plot(x.reg_month, x.price)\n",
    "ax[0,0].set_xlabel('Registration Month')\n",
    "ax[0,0].set_ylabel('Price of the car')\n",
    "\n",
    "x = df.groupby('reg_weekday')['price'].mean().reset_index()\n",
    "ax[1,0].plot(x.reg_weekday, x.price, color = 'green')\n",
    "ax[1,0].set_xlabel('Registration Weekdays')\n",
    "ax[1,0].set_ylabel('Price of the car')\n",
    "\n",
    "x = df.groupby('sold_weekday')['price'].mean().reset_index()\n",
    "ax[0,1].plot(x.sold_weekday, x.price, color = 'c')\n",
    "ax[0,1].set_xlabel('Sold Weekdays')\n",
    "ax[0,1].set_ylabel('Price of the car')\n",
    "\n",
    "x = df.groupby('sold_month')['price'].mean().reset_index()\n",
    "ax[1,1].plot(x.sold_month, x.price,color = 'm')\n",
    "ax[1,1].set_xlabel('Sold Months')\n",
    "ax[1,1].set_ylabel('Price of the car')\n",
    "# note: looking for seasonality impact on price, however, second hand cars price do not seems to have seasonality impact"
   ]
  },
  {
   "cell_type": "code",
   "execution_count": 23,
   "metadata": {},
   "outputs": [],
   "source": [
    "#droping columns reg_month reg_weekday sold_weekday sold_month as it is not adding any value:\n",
    "\n",
    "\n",
    "df = df.drop(columns = ['reg_month','reg_weekday','sold_weekday','sold_month'], axis = 1)"
   ]
  },
  {
   "cell_type": "code",
   "execution_count": 24,
   "metadata": {},
   "outputs": [
    {
     "data": {
      "text/html": [
       "<div>\n",
       "<style scoped>\n",
       "    .dataframe tbody tr th:only-of-type {\n",
       "        vertical-align: middle;\n",
       "    }\n",
       "\n",
       "    .dataframe tbody tr th {\n",
       "        vertical-align: top;\n",
       "    }\n",
       "\n",
       "    .dataframe thead th {\n",
       "        text-align: right;\n",
       "    }\n",
       "</style>\n",
       "<table border=\"1\" class=\"dataframe\">\n",
       "  <thead>\n",
       "    <tr style=\"text-align: right;\">\n",
       "      <th></th>\n",
       "      <th>maker_key</th>\n",
       "      <th>model_key</th>\n",
       "      <th>mileage</th>\n",
       "      <th>engine_power</th>\n",
       "      <th>registration_date</th>\n",
       "      <th>fuel</th>\n",
       "      <th>paint_color</th>\n",
       "      <th>car_type</th>\n",
       "      <th>feature_1</th>\n",
       "      <th>feature_2</th>\n",
       "      <th>feature_3</th>\n",
       "      <th>feature_4</th>\n",
       "      <th>feature_5</th>\n",
       "      <th>feature_6</th>\n",
       "      <th>feature_7</th>\n",
       "      <th>feature_8</th>\n",
       "      <th>price</th>\n",
       "      <th>sold_at</th>\n",
       "      <th>reg_year</th>\n",
       "      <th>reg_weekday_yr</th>\n",
       "      <th>sold_year</th>\n",
       "      <th>sold_weekday_yr</th>\n",
       "      <th>diff_reg_sold</th>\n",
       "      <th>year_diff</th>\n",
       "    </tr>\n",
       "  </thead>\n",
       "  <tbody>\n",
       "    <tr>\n",
       "      <th>0</th>\n",
       "      <td>BMW</td>\n",
       "      <td>118</td>\n",
       "      <td>140411</td>\n",
       "      <td>100</td>\n",
       "      <td>2012-02-01</td>\n",
       "      <td>diesel</td>\n",
       "      <td>black</td>\n",
       "      <td>convertible</td>\n",
       "      <td>1</td>\n",
       "      <td>1</td>\n",
       "      <td>0</td>\n",
       "      <td>0</td>\n",
       "      <td>1</td>\n",
       "      <td>1</td>\n",
       "      <td>1</td>\n",
       "      <td>0</td>\n",
       "      <td>11300</td>\n",
       "      <td>2018-01-01</td>\n",
       "      <td>2012</td>\n",
       "      <td>5</td>\n",
       "      <td>2018</td>\n",
       "      <td>1</td>\n",
       "      <td>2161</td>\n",
       "      <td>6</td>\n",
       "    </tr>\n",
       "    <tr>\n",
       "      <th>1</th>\n",
       "      <td>BMW</td>\n",
       "      <td>M4</td>\n",
       "      <td>13929</td>\n",
       "      <td>317</td>\n",
       "      <td>2016-04-01</td>\n",
       "      <td>petrol</td>\n",
       "      <td>grey</td>\n",
       "      <td>convertible</td>\n",
       "      <td>1</td>\n",
       "      <td>1</td>\n",
       "      <td>0</td>\n",
       "      <td>0</td>\n",
       "      <td>0</td>\n",
       "      <td>1</td>\n",
       "      <td>1</td>\n",
       "      <td>1</td>\n",
       "      <td>69700</td>\n",
       "      <td>2018-02-01</td>\n",
       "      <td>2016</td>\n",
       "      <td>13</td>\n",
       "      <td>2018</td>\n",
       "      <td>5</td>\n",
       "      <td>671</td>\n",
       "      <td>2</td>\n",
       "    </tr>\n",
       "    <tr>\n",
       "      <th>2</th>\n",
       "      <td>BMW</td>\n",
       "      <td>320</td>\n",
       "      <td>183297</td>\n",
       "      <td>120</td>\n",
       "      <td>2012-04-01</td>\n",
       "      <td>diesel</td>\n",
       "      <td>white</td>\n",
       "      <td>convertible</td>\n",
       "      <td>0</td>\n",
       "      <td>0</td>\n",
       "      <td>0</td>\n",
       "      <td>0</td>\n",
       "      <td>1</td>\n",
       "      <td>0</td>\n",
       "      <td>1</td>\n",
       "      <td>0</td>\n",
       "      <td>10200</td>\n",
       "      <td>2018-02-01</td>\n",
       "      <td>2012</td>\n",
       "      <td>13</td>\n",
       "      <td>2018</td>\n",
       "      <td>5</td>\n",
       "      <td>2132</td>\n",
       "      <td>6</td>\n",
       "    </tr>\n",
       "    <tr>\n",
       "      <th>3</th>\n",
       "      <td>BMW</td>\n",
       "      <td>420</td>\n",
       "      <td>128035</td>\n",
       "      <td>135</td>\n",
       "      <td>2014-07-01</td>\n",
       "      <td>diesel</td>\n",
       "      <td>red</td>\n",
       "      <td>convertible</td>\n",
       "      <td>1</td>\n",
       "      <td>1</td>\n",
       "      <td>0</td>\n",
       "      <td>0</td>\n",
       "      <td>1</td>\n",
       "      <td>1</td>\n",
       "      <td>1</td>\n",
       "      <td>1</td>\n",
       "      <td>25100</td>\n",
       "      <td>2018-02-01</td>\n",
       "      <td>2014</td>\n",
       "      <td>27</td>\n",
       "      <td>2018</td>\n",
       "      <td>5</td>\n",
       "      <td>1311</td>\n",
       "      <td>4</td>\n",
       "    </tr>\n",
       "    <tr>\n",
       "      <th>4</th>\n",
       "      <td>BMW</td>\n",
       "      <td>425</td>\n",
       "      <td>97097</td>\n",
       "      <td>160</td>\n",
       "      <td>2014-12-01</td>\n",
       "      <td>diesel</td>\n",
       "      <td>silver</td>\n",
       "      <td>convertible</td>\n",
       "      <td>1</td>\n",
       "      <td>1</td>\n",
       "      <td>0</td>\n",
       "      <td>0</td>\n",
       "      <td>0</td>\n",
       "      <td>1</td>\n",
       "      <td>1</td>\n",
       "      <td>1</td>\n",
       "      <td>33400</td>\n",
       "      <td>2018-04-01</td>\n",
       "      <td>2014</td>\n",
       "      <td>49</td>\n",
       "      <td>2018</td>\n",
       "      <td>13</td>\n",
       "      <td>1217</td>\n",
       "      <td>4</td>\n",
       "    </tr>\n",
       "  </tbody>\n",
       "</table>\n",
       "</div>"
      ],
      "text/plain": [
       "  maker_key model_key  mileage  engine_power registration_date    fuel  \\\n",
       "0       BMW       118   140411           100        2012-02-01  diesel   \n",
       "1       BMW        M4    13929           317        2016-04-01  petrol   \n",
       "2       BMW       320   183297           120        2012-04-01  diesel   \n",
       "3       BMW       420   128035           135        2014-07-01  diesel   \n",
       "4       BMW       425    97097           160        2014-12-01  diesel   \n",
       "\n",
       "  paint_color     car_type  feature_1  feature_2  feature_3  feature_4  \\\n",
       "0       black  convertible          1          1          0          0   \n",
       "1        grey  convertible          1          1          0          0   \n",
       "2       white  convertible          0          0          0          0   \n",
       "3         red  convertible          1          1          0          0   \n",
       "4      silver  convertible          1          1          0          0   \n",
       "\n",
       "   feature_5  feature_6  feature_7  feature_8  price    sold_at  reg_year  \\\n",
       "0          1          1          1          0  11300 2018-01-01      2012   \n",
       "1          0          1          1          1  69700 2018-02-01      2016   \n",
       "2          1          0          1          0  10200 2018-02-01      2012   \n",
       "3          1          1          1          1  25100 2018-02-01      2014   \n",
       "4          0          1          1          1  33400 2018-04-01      2014   \n",
       "\n",
       "   reg_weekday_yr  sold_year  sold_weekday_yr diff_reg_sold  year_diff  \n",
       "0               5       2018                1          2161          6  \n",
       "1              13       2018                5           671          2  \n",
       "2              13       2018                5          2132          6  \n",
       "3              27       2018                5          1311          4  \n",
       "4              49       2018               13          1217          4  "
      ]
     },
     "execution_count": 24,
     "metadata": {},
     "output_type": "execute_result"
    }
   ],
   "source": [
    "df.head()"
   ]
  },
  {
   "cell_type": "code",
   "execution_count": 25,
   "metadata": {},
   "outputs": [
    {
     "data": {
      "text/html": [
       "<div>\n",
       "<style scoped>\n",
       "    .dataframe tbody tr th:only-of-type {\n",
       "        vertical-align: middle;\n",
       "    }\n",
       "\n",
       "    .dataframe tbody tr th {\n",
       "        vertical-align: top;\n",
       "    }\n",
       "\n",
       "    .dataframe thead th {\n",
       "        text-align: right;\n",
       "    }\n",
       "</style>\n",
       "<table border=\"1\" class=\"dataframe\">\n",
       "  <thead>\n",
       "    <tr style=\"text-align: right;\">\n",
       "      <th></th>\n",
       "      <th>fuel</th>\n",
       "      <th>price</th>\n",
       "    </tr>\n",
       "  </thead>\n",
       "  <tbody>\n",
       "    <tr>\n",
       "      <th>2</th>\n",
       "      <td>hybrid_petrol</td>\n",
       "      <td>37575.000000</td>\n",
       "    </tr>\n",
       "    <tr>\n",
       "      <th>1</th>\n",
       "      <td>electro</td>\n",
       "      <td>20966.666667</td>\n",
       "    </tr>\n",
       "    <tr>\n",
       "      <th>0</th>\n",
       "      <td>diesel</td>\n",
       "      <td>15846.110752</td>\n",
       "    </tr>\n",
       "    <tr>\n",
       "      <th>3</th>\n",
       "      <td>petrol</td>\n",
       "      <td>14398.429319</td>\n",
       "    </tr>\n",
       "  </tbody>\n",
       "</table>\n",
       "</div>"
      ],
      "text/plain": [
       "            fuel         price\n",
       "2  hybrid_petrol  37575.000000\n",
       "1        electro  20966.666667\n",
       "0         diesel  15846.110752\n",
       "3         petrol  14398.429319"
      ]
     },
     "execution_count": 25,
     "metadata": {},
     "output_type": "execute_result"
    }
   ],
   "source": [
    "# Working with fuel \n",
    "df1 = df.groupby('fuel')['price'].mean().reset_index().sort_values(by='price', ascending = False)\n",
    "df1\n",
    "# sns.countplot(df.fuel)"
   ]
  },
  {
   "cell_type": "code",
   "execution_count": 26,
   "metadata": {},
   "outputs": [
    {
     "data": {
      "text/html": [
       "<div>\n",
       "<style scoped>\n",
       "    .dataframe tbody tr th:only-of-type {\n",
       "        vertical-align: middle;\n",
       "    }\n",
       "\n",
       "    .dataframe tbody tr th {\n",
       "        vertical-align: top;\n",
       "    }\n",
       "\n",
       "    .dataframe thead th {\n",
       "        text-align: right;\n",
       "    }\n",
       "</style>\n",
       "<table border=\"1\" class=\"dataframe\">\n",
       "  <thead>\n",
       "    <tr style=\"text-align: right;\">\n",
       "      <th></th>\n",
       "      <th>maker_key</th>\n",
       "      <th>model_key</th>\n",
       "      <th>mileage</th>\n",
       "      <th>engine_power</th>\n",
       "      <th>registration_date</th>\n",
       "      <th>fuel</th>\n",
       "      <th>paint_color</th>\n",
       "      <th>car_type</th>\n",
       "      <th>feature_1</th>\n",
       "      <th>feature_2</th>\n",
       "      <th>feature_3</th>\n",
       "      <th>feature_4</th>\n",
       "      <th>feature_5</th>\n",
       "      <th>feature_6</th>\n",
       "      <th>feature_7</th>\n",
       "      <th>feature_8</th>\n",
       "      <th>price</th>\n",
       "      <th>sold_at</th>\n",
       "      <th>reg_year</th>\n",
       "      <th>reg_weekday_yr</th>\n",
       "      <th>sold_year</th>\n",
       "      <th>sold_weekday_yr</th>\n",
       "      <th>diff_reg_sold</th>\n",
       "      <th>year_diff</th>\n",
       "      <th>map_fuel</th>\n",
       "    </tr>\n",
       "  </thead>\n",
       "  <tbody>\n",
       "    <tr>\n",
       "      <th>0</th>\n",
       "      <td>BMW</td>\n",
       "      <td>118</td>\n",
       "      <td>140411</td>\n",
       "      <td>100</td>\n",
       "      <td>2012-02-01</td>\n",
       "      <td>diesel</td>\n",
       "      <td>black</td>\n",
       "      <td>convertible</td>\n",
       "      <td>1</td>\n",
       "      <td>1</td>\n",
       "      <td>0</td>\n",
       "      <td>0</td>\n",
       "      <td>1</td>\n",
       "      <td>1</td>\n",
       "      <td>1</td>\n",
       "      <td>0</td>\n",
       "      <td>11300</td>\n",
       "      <td>2018-01-01</td>\n",
       "      <td>2012</td>\n",
       "      <td>5</td>\n",
       "      <td>2018</td>\n",
       "      <td>1</td>\n",
       "      <td>2161</td>\n",
       "      <td>6</td>\n",
       "      <td>4</td>\n",
       "    </tr>\n",
       "    <tr>\n",
       "      <th>1</th>\n",
       "      <td>BMW</td>\n",
       "      <td>M4</td>\n",
       "      <td>13929</td>\n",
       "      <td>317</td>\n",
       "      <td>2016-04-01</td>\n",
       "      <td>petrol</td>\n",
       "      <td>grey</td>\n",
       "      <td>convertible</td>\n",
       "      <td>1</td>\n",
       "      <td>1</td>\n",
       "      <td>0</td>\n",
       "      <td>0</td>\n",
       "      <td>0</td>\n",
       "      <td>1</td>\n",
       "      <td>1</td>\n",
       "      <td>1</td>\n",
       "      <td>69700</td>\n",
       "      <td>2018-02-01</td>\n",
       "      <td>2016</td>\n",
       "      <td>13</td>\n",
       "      <td>2018</td>\n",
       "      <td>5</td>\n",
       "      <td>671</td>\n",
       "      <td>2</td>\n",
       "      <td>3</td>\n",
       "    </tr>\n",
       "    <tr>\n",
       "      <th>2</th>\n",
       "      <td>BMW</td>\n",
       "      <td>320</td>\n",
       "      <td>183297</td>\n",
       "      <td>120</td>\n",
       "      <td>2012-04-01</td>\n",
       "      <td>diesel</td>\n",
       "      <td>white</td>\n",
       "      <td>convertible</td>\n",
       "      <td>0</td>\n",
       "      <td>0</td>\n",
       "      <td>0</td>\n",
       "      <td>0</td>\n",
       "      <td>1</td>\n",
       "      <td>0</td>\n",
       "      <td>1</td>\n",
       "      <td>0</td>\n",
       "      <td>10200</td>\n",
       "      <td>2018-02-01</td>\n",
       "      <td>2012</td>\n",
       "      <td>13</td>\n",
       "      <td>2018</td>\n",
       "      <td>5</td>\n",
       "      <td>2132</td>\n",
       "      <td>6</td>\n",
       "      <td>4</td>\n",
       "    </tr>\n",
       "    <tr>\n",
       "      <th>3</th>\n",
       "      <td>BMW</td>\n",
       "      <td>420</td>\n",
       "      <td>128035</td>\n",
       "      <td>135</td>\n",
       "      <td>2014-07-01</td>\n",
       "      <td>diesel</td>\n",
       "      <td>red</td>\n",
       "      <td>convertible</td>\n",
       "      <td>1</td>\n",
       "      <td>1</td>\n",
       "      <td>0</td>\n",
       "      <td>0</td>\n",
       "      <td>1</td>\n",
       "      <td>1</td>\n",
       "      <td>1</td>\n",
       "      <td>1</td>\n",
       "      <td>25100</td>\n",
       "      <td>2018-02-01</td>\n",
       "      <td>2014</td>\n",
       "      <td>27</td>\n",
       "      <td>2018</td>\n",
       "      <td>5</td>\n",
       "      <td>1311</td>\n",
       "      <td>4</td>\n",
       "      <td>4</td>\n",
       "    </tr>\n",
       "    <tr>\n",
       "      <th>4</th>\n",
       "      <td>BMW</td>\n",
       "      <td>425</td>\n",
       "      <td>97097</td>\n",
       "      <td>160</td>\n",
       "      <td>2014-12-01</td>\n",
       "      <td>diesel</td>\n",
       "      <td>silver</td>\n",
       "      <td>convertible</td>\n",
       "      <td>1</td>\n",
       "      <td>1</td>\n",
       "      <td>0</td>\n",
       "      <td>0</td>\n",
       "      <td>0</td>\n",
       "      <td>1</td>\n",
       "      <td>1</td>\n",
       "      <td>1</td>\n",
       "      <td>33400</td>\n",
       "      <td>2018-04-01</td>\n",
       "      <td>2014</td>\n",
       "      <td>49</td>\n",
       "      <td>2018</td>\n",
       "      <td>13</td>\n",
       "      <td>1217</td>\n",
       "      <td>4</td>\n",
       "      <td>4</td>\n",
       "    </tr>\n",
       "  </tbody>\n",
       "</table>\n",
       "</div>"
      ],
      "text/plain": [
       "  maker_key model_key  mileage  engine_power registration_date    fuel  \\\n",
       "0       BMW       118   140411           100        2012-02-01  diesel   \n",
       "1       BMW        M4    13929           317        2016-04-01  petrol   \n",
       "2       BMW       320   183297           120        2012-04-01  diesel   \n",
       "3       BMW       420   128035           135        2014-07-01  diesel   \n",
       "4       BMW       425    97097           160        2014-12-01  diesel   \n",
       "\n",
       "  paint_color     car_type  feature_1  feature_2  feature_3  feature_4  \\\n",
       "0       black  convertible          1          1          0          0   \n",
       "1        grey  convertible          1          1          0          0   \n",
       "2       white  convertible          0          0          0          0   \n",
       "3         red  convertible          1          1          0          0   \n",
       "4      silver  convertible          1          1          0          0   \n",
       "\n",
       "   feature_5  feature_6  feature_7  feature_8  price    sold_at  reg_year  \\\n",
       "0          1          1          1          0  11300 2018-01-01      2012   \n",
       "1          0          1          1          1  69700 2018-02-01      2016   \n",
       "2          1          0          1          0  10200 2018-02-01      2012   \n",
       "3          1          1          1          1  25100 2018-02-01      2014   \n",
       "4          0          1          1          1  33400 2018-04-01      2014   \n",
       "\n",
       "   reg_weekday_yr  sold_year  sold_weekday_yr diff_reg_sold  year_diff  \\\n",
       "0               5       2018                1          2161          6   \n",
       "1              13       2018                5           671          2   \n",
       "2              13       2018                5          2132          6   \n",
       "3              27       2018                5          1311          4   \n",
       "4              49       2018               13          1217          4   \n",
       "\n",
       "   map_fuel  \n",
       "0         4  \n",
       "1         3  \n",
       "2         4  \n",
       "3         4  \n",
       "4         4  "
      ]
     },
     "execution_count": 26,
     "metadata": {},
     "output_type": "execute_result"
    }
   ],
   "source": [
    "map_fuel = {'hybrid_petrol':1,'electro':2,'diesel':4,'petrol':3}\n",
    "df['map_fuel'] = df.fuel.map(map_fuel)\n",
    "df.head()"
   ]
  },
  {
   "cell_type": "code",
   "execution_count": 27,
   "metadata": {},
   "outputs": [
    {
     "data": {
      "text/plain": [
       "<matplotlib.axes._subplots.AxesSubplot at 0x1a035cc8370>"
      ]
     },
     "execution_count": 27,
     "metadata": {},
     "output_type": "execute_result"
    },
    {
     "data": {
      "image/png": "[encoded data removed]",
      "text/plain": [
       "<Figure size 432x288 with 1 Axes>"
      ]
     },
     "metadata": {
      "needs_background": "light"
     },
     "output_type": "display_data"
    }
   ],
   "source": [
    "df_modelkey = df.groupby('model_key')['price'].mean().reset_index().sort_values(by='price', ascending = False)\n",
    "sns.scatterplot(df_modelkey.model_key, df_modelkey.price )"
   ]
  },
  {
   "cell_type": "code",
   "execution_count": 28,
   "metadata": {},
   "outputs": [
    {
     "data": {
      "text/html": [
       "<div>\n",
       "<style scoped>\n",
       "    .dataframe tbody tr th:only-of-type {\n",
       "        vertical-align: middle;\n",
       "    }\n",
       "\n",
       "    .dataframe tbody tr th {\n",
       "        vertical-align: top;\n",
       "    }\n",
       "\n",
       "    .dataframe thead th {\n",
       "        text-align: right;\n",
       "    }\n",
       "</style>\n",
       "<table border=\"1\" class=\"dataframe\">\n",
       "  <thead>\n",
       "    <tr style=\"text-align: right;\">\n",
       "      <th></th>\n",
       "      <th>model_key</th>\n",
       "      <th>price</th>\n",
       "    </tr>\n",
       "  </thead>\n",
       "  <tbody>\n",
       "    <tr>\n",
       "      <th>35</th>\n",
       "      <td>430 Gran Coupé</td>\n",
       "      <td>27325.0</td>\n",
       "    </tr>\n",
       "  </tbody>\n",
       "</table>\n",
       "</div>"
      ],
      "text/plain": [
       "         model_key    price\n",
       "35  430 Gran Coupé  27325.0"
      ]
     },
     "execution_count": 28,
     "metadata": {},
     "output_type": "execute_result"
    }
   ],
   "source": [
    "df_modelkey[df_modelkey.price ==27325 ]"
   ]
  },
  {
   "cell_type": "code",
   "execution_count": 29,
   "metadata": {},
   "outputs": [],
   "source": [
    "df_modelkey.to_csv('df_modelkey.csv')"
   ]
  },
  {
   "cell_type": "code",
   "execution_count": 30,
   "metadata": {},
   "outputs": [],
   "source": [
    "bin_modelkey ={'116': 'bellow10000','118':'bellow10000','Z4':'bellow10000','123':'bellow10000','650':'bellow10000',\n",
    "               '523':'bellow10000','216':'bellow10000','735':'bellow10000' ,\n",
    "               '318 Gran Turismo':'bellow15000','325':'bellow15000','216 Active Tourer':'bellow15000','X1':'bellow15000',\n",
    "               '125':'bellow15000','120':'bellow15000','320':'bellow15000','220 Active Tourer':'bellow15000',\n",
    "               '114':'bellow15000','318':'bellow15000','630':'bellow15000','316':'bellow15000',\n",
    "               '530':'bellow20000','635':'bellow20000','225 Active Tourer': 'bellow20000','225':'bellow20000',\n",
    "               'X3':'bellow20000','214 Gran Tourer':'bellow20000','320 Gran Turismo':'bellow20000','218':'bellow20000',\n",
    "               '216 Gran Tourer':'bellow20000','330':'bellow20000','328':'bellow20000','518':'bellow20000',\n",
    "               '218 Gran Tourer':'bellow20000','520':'bellow20000','218 Active Tourer':'bellow20000','525':'bellow20000',\n",
    "               '430':'bellow30000','M235':'bellow30000','430 Gran Coupé':'bellow30000','M135':'bellow30000',\n",
    "               '330 Gran Turismo':'bellow30000','535 Gran Turismo':'bellow30000','335 Gran Turismo':'bellow30000',\n",
    "               '420 Gran Coupé':'bellow30000','420':'bellow30000','220':'bellow30000','730':'bellow30000','535':'bellow30000',\n",
    "               '135':'bellow30000','335':'bellow30000','i3':'bellow30000','ActiveHybrid 5':'bellow30000',\n",
    "               '530 Gran Turismo':'bellow30000','418 Gran Coupé':'bellow30000','325 Gran Turismo':'bellow30000',\n",
    "               '528':'bellow30000','520 Gran Turismo':'bellow30000',\n",
    "               '640 Gran Coupé':'bellow40000','X5 M':'bellow40000','740':'bellow40000','750':'bellow40000','M3':'bellow40000',\n",
    "               'M550':'bellow40000','X6':'bellow40000','640':'bellow40000','435 Gran Coupé':'bellow40000',\n",
    "               'X4':'bellow40000','435':'bellow40000','425':'bellow40000','X5':'bellow40000',\n",
    "               'i8':'above40000','M4':'above40000','X6 M':'above40000','X5 M50':'above40000','M5':'above40000'  }"
   ]
  },
  {
   "cell_type": "code",
   "execution_count": 31,
   "metadata": {},
   "outputs": [],
   "source": [
    "df['bin_model_key']=df.model_key.map(bin_modelkey)"
   ]
  },
  {
   "cell_type": "code",
   "execution_count": 32,
   "metadata": {},
   "outputs": [
    {
     "data": {
      "text/plain": [
       "bin_model_key\n",
       "above40000       15\n",
       "bellow10000     517\n",
       "bellow15000    2008\n",
       "bellow20000    1633\n",
       "bellow30000     254\n",
       "bellow40000     416\n",
       "Name: model_key, dtype: int64"
      ]
     },
     "execution_count": 32,
     "metadata": {},
     "output_type": "execute_result"
    }
   ],
   "source": [
    "df.groupby('bin_model_key')['model_key'].count()"
   ]
  },
  {
   "cell_type": "code",
   "execution_count": 33,
   "metadata": {},
   "outputs": [
    {
     "data": {
      "text/plain": [
       "<bound method Series.unique of Series([], Name: model_key, dtype: object)>"
      ]
     },
     "execution_count": 33,
     "metadata": {},
     "output_type": "execute_result"
    }
   ],
   "source": [
    "df['model_key'][df.bin_model_key.isnull()].unique"
   ]
  },
  {
   "cell_type": "code",
   "execution_count": 34,
   "metadata": {},
   "outputs": [
    {
     "data": {
      "text/html": [
       "<div>\n",
       "<style scoped>\n",
       "    .dataframe tbody tr th:only-of-type {\n",
       "        vertical-align: middle;\n",
       "    }\n",
       "\n",
       "    .dataframe tbody tr th {\n",
       "        vertical-align: top;\n",
       "    }\n",
       "\n",
       "    .dataframe thead th {\n",
       "        text-align: right;\n",
       "    }\n",
       "</style>\n",
       "<table border=\"1\" class=\"dataframe\">\n",
       "  <thead>\n",
       "    <tr style=\"text-align: right;\">\n",
       "      <th></th>\n",
       "      <th>bin_model_key</th>\n",
       "      <th>price</th>\n",
       "    </tr>\n",
       "  </thead>\n",
       "  <tbody>\n",
       "    <tr>\n",
       "      <th>0</th>\n",
       "      <td>above40000</td>\n",
       "      <td>54473.333333</td>\n",
       "    </tr>\n",
       "    <tr>\n",
       "      <th>5</th>\n",
       "      <td>bellow40000</td>\n",
       "      <td>32731.490385</td>\n",
       "    </tr>\n",
       "    <tr>\n",
       "      <th>4</th>\n",
       "      <td>bellow30000</td>\n",
       "      <td>23190.944882</td>\n",
       "    </tr>\n",
       "    <tr>\n",
       "      <th>3</th>\n",
       "      <td>bellow20000</td>\n",
       "      <td>16897.428047</td>\n",
       "    </tr>\n",
       "    <tr>\n",
       "      <th>2</th>\n",
       "      <td>bellow15000</td>\n",
       "      <td>11840.089641</td>\n",
       "    </tr>\n",
       "    <tr>\n",
       "      <th>1</th>\n",
       "      <td>bellow10000</td>\n",
       "      <td>9599.806576</td>\n",
       "    </tr>\n",
       "  </tbody>\n",
       "</table>\n",
       "</div>"
      ],
      "text/plain": [
       "  bin_model_key         price\n",
       "0    above40000  54473.333333\n",
       "5   bellow40000  32731.490385\n",
       "4   bellow30000  23190.944882\n",
       "3   bellow20000  16897.428047\n",
       "2   bellow15000  11840.089641\n",
       "1   bellow10000   9599.806576"
      ]
     },
     "execution_count": 34,
     "metadata": {},
     "output_type": "execute_result"
    }
   ],
   "source": [
    "df.groupby('bin_model_key')['price'].mean().reset_index().sort_values(by='price', ascending = False)"
   ]
  },
  {
   "cell_type": "code",
   "execution_count": 35,
   "metadata": {},
   "outputs": [],
   "source": [
    "map_model_key = {'above40000':6,'bellow40000':5,'bellow30000':4,'bellow20000':3,'bellow15000':2,'bellow10000':1}\n",
    "\n",
    "df['bin_model_key'] = df.bin_model_key.map(map_model_key)"
   ]
  },
  {
   "cell_type": "code",
   "execution_count": 36,
   "metadata": {},
   "outputs": [
    {
     "data": {
      "text/html": [
       "<div>\n",
       "<style scoped>\n",
       "    .dataframe tbody tr th:only-of-type {\n",
       "        vertical-align: middle;\n",
       "    }\n",
       "\n",
       "    .dataframe tbody tr th {\n",
       "        vertical-align: top;\n",
       "    }\n",
       "\n",
       "    .dataframe thead th {\n",
       "        text-align: right;\n",
       "    }\n",
       "</style>\n",
       "<table border=\"1\" class=\"dataframe\">\n",
       "  <thead>\n",
       "    <tr style=\"text-align: right;\">\n",
       "      <th></th>\n",
       "      <th>bin_model_key</th>\n",
       "      <th>price</th>\n",
       "    </tr>\n",
       "  </thead>\n",
       "  <tbody>\n",
       "    <tr>\n",
       "      <th>5</th>\n",
       "      <td>6</td>\n",
       "      <td>54473.333333</td>\n",
       "    </tr>\n",
       "    <tr>\n",
       "      <th>4</th>\n",
       "      <td>5</td>\n",
       "      <td>32731.490385</td>\n",
       "    </tr>\n",
       "    <tr>\n",
       "      <th>3</th>\n",
       "      <td>4</td>\n",
       "      <td>23190.944882</td>\n",
       "    </tr>\n",
       "    <tr>\n",
       "      <th>2</th>\n",
       "      <td>3</td>\n",
       "      <td>16897.428047</td>\n",
       "    </tr>\n",
       "    <tr>\n",
       "      <th>1</th>\n",
       "      <td>2</td>\n",
       "      <td>11840.089641</td>\n",
       "    </tr>\n",
       "    <tr>\n",
       "      <th>0</th>\n",
       "      <td>1</td>\n",
       "      <td>9599.806576</td>\n",
       "    </tr>\n",
       "  </tbody>\n",
       "</table>\n",
       "</div>"
      ],
      "text/plain": [
       "   bin_model_key         price\n",
       "5              6  54473.333333\n",
       "4              5  32731.490385\n",
       "3              4  23190.944882\n",
       "2              3  16897.428047\n",
       "1              2  11840.089641\n",
       "0              1   9599.806576"
      ]
     },
     "execution_count": 36,
     "metadata": {},
     "output_type": "execute_result"
    }
   ],
   "source": [
    "df.groupby('bin_model_key')['price'].mean().reset_index().sort_values(by='price', ascending = False)"
   ]
  },
  {
   "cell_type": "code",
   "execution_count": 37,
   "metadata": {},
   "outputs": [
    {
     "data": {
      "text/html": [
       "<div>\n",
       "<style scoped>\n",
       "    .dataframe tbody tr th:only-of-type {\n",
       "        vertical-align: middle;\n",
       "    }\n",
       "\n",
       "    .dataframe tbody tr th {\n",
       "        vertical-align: top;\n",
       "    }\n",
       "\n",
       "    .dataframe thead th {\n",
       "        text-align: right;\n",
       "    }\n",
       "</style>\n",
       "<table border=\"1\" class=\"dataframe\">\n",
       "  <thead>\n",
       "    <tr style=\"text-align: right;\">\n",
       "      <th></th>\n",
       "      <th>paint_color</th>\n",
       "      <th>price</th>\n",
       "    </tr>\n",
       "  </thead>\n",
       "  <tbody>\n",
       "    <tr>\n",
       "      <th>6</th>\n",
       "      <td>orange</td>\n",
       "      <td>18866.666667</td>\n",
       "    </tr>\n",
       "    <tr>\n",
       "      <th>9</th>\n",
       "      <td>white</td>\n",
       "      <td>17328.438662</td>\n",
       "    </tr>\n",
       "    <tr>\n",
       "      <th>7</th>\n",
       "      <td>red</td>\n",
       "      <td>16500.000000</td>\n",
       "    </tr>\n",
       "    <tr>\n",
       "      <th>1</th>\n",
       "      <td>black</td>\n",
       "      <td>16173.851806</td>\n",
       "    </tr>\n",
       "    <tr>\n",
       "      <th>0</th>\n",
       "      <td>beige</td>\n",
       "      <td>15817.073171</td>\n",
       "    </tr>\n",
       "    <tr>\n",
       "      <th>5</th>\n",
       "      <td>grey</td>\n",
       "      <td>15595.744681</td>\n",
       "    </tr>\n",
       "    <tr>\n",
       "      <th>3</th>\n",
       "      <td>brown</td>\n",
       "      <td>15367.741935</td>\n",
       "    </tr>\n",
       "    <tr>\n",
       "      <th>2</th>\n",
       "      <td>blue</td>\n",
       "      <td>15114.929577</td>\n",
       "    </tr>\n",
       "    <tr>\n",
       "      <th>8</th>\n",
       "      <td>silver</td>\n",
       "      <td>14816.109422</td>\n",
       "    </tr>\n",
       "    <tr>\n",
       "      <th>4</th>\n",
       "      <td>green</td>\n",
       "      <td>7200.000000</td>\n",
       "    </tr>\n",
       "  </tbody>\n",
       "</table>\n",
       "</div>"
      ],
      "text/plain": [
       "  paint_color         price\n",
       "6      orange  18866.666667\n",
       "9       white  17328.438662\n",
       "7         red  16500.000000\n",
       "1       black  16173.851806\n",
       "0       beige  15817.073171\n",
       "5        grey  15595.744681\n",
       "3       brown  15367.741935\n",
       "2        blue  15114.929577\n",
       "8      silver  14816.109422\n",
       "4       green   7200.000000"
      ]
     },
     "execution_count": 37,
     "metadata": {},
     "output_type": "execute_result"
    }
   ],
   "source": [
    "df.groupby('paint_color')['price'].mean().reset_index().sort_values(by='price', ascending =False)"
   ]
  },
  {
   "cell_type": "code",
   "execution_count": 38,
   "metadata": {},
   "outputs": [],
   "source": [
    "map_colour ={'orange':10,'white':9,'red':8,'black':7,'beige':6,'grey':5,'brown':4,'blue':3,'silver':2,'green':1}\n",
    "\n",
    "df['paint_color'] = df.paint_color.map(map_colour)"
   ]
  },
  {
   "cell_type": "code",
   "execution_count": 39,
   "metadata": {},
   "outputs": [
    {
     "data": {
      "text/html": [
       "<div>\n",
       "<style scoped>\n",
       "    .dataframe tbody tr th:only-of-type {\n",
       "        vertical-align: middle;\n",
       "    }\n",
       "\n",
       "    .dataframe tbody tr th {\n",
       "        vertical-align: top;\n",
       "    }\n",
       "\n",
       "    .dataframe thead th {\n",
       "        text-align: right;\n",
       "    }\n",
       "</style>\n",
       "<table border=\"1\" class=\"dataframe\">\n",
       "  <thead>\n",
       "    <tr style=\"text-align: right;\">\n",
       "      <th></th>\n",
       "      <th>car_type</th>\n",
       "      <th>price</th>\n",
       "    </tr>\n",
       "  </thead>\n",
       "  <tbody>\n",
       "    <tr>\n",
       "      <th>1</th>\n",
       "      <td>coupe</td>\n",
       "      <td>22172.115385</td>\n",
       "    </tr>\n",
       "    <tr>\n",
       "      <th>6</th>\n",
       "      <td>suv</td>\n",
       "      <td>21496.124764</td>\n",
       "    </tr>\n",
       "    <tr>\n",
       "      <th>0</th>\n",
       "      <td>convertible</td>\n",
       "      <td>17136.170213</td>\n",
       "    </tr>\n",
       "    <tr>\n",
       "      <th>4</th>\n",
       "      <td>sedan</td>\n",
       "      <td>16017.465753</td>\n",
       "    </tr>\n",
       "    <tr>\n",
       "      <th>7</th>\n",
       "      <td>van</td>\n",
       "      <td>14350.000000</td>\n",
       "    </tr>\n",
       "    <tr>\n",
       "      <th>3</th>\n",
       "      <td>hatchback</td>\n",
       "      <td>13289.413448</td>\n",
       "    </tr>\n",
       "    <tr>\n",
       "      <th>2</th>\n",
       "      <td>estate</td>\n",
       "      <td>13112.141968</td>\n",
       "    </tr>\n",
       "    <tr>\n",
       "      <th>5</th>\n",
       "      <td>subcompact</td>\n",
       "      <td>9521.367521</td>\n",
       "    </tr>\n",
       "  </tbody>\n",
       "</table>\n",
       "</div>"
      ],
      "text/plain": [
       "      car_type         price\n",
       "1        coupe  22172.115385\n",
       "6          suv  21496.124764\n",
       "0  convertible  17136.170213\n",
       "4        sedan  16017.465753\n",
       "7          van  14350.000000\n",
       "3    hatchback  13289.413448\n",
       "2       estate  13112.141968\n",
       "5   subcompact   9521.367521"
      ]
     },
     "execution_count": 39,
     "metadata": {},
     "output_type": "execute_result"
    }
   ],
   "source": [
    "df.groupby('car_type')['price'].mean().reset_index().sort_values(by='price', ascending =False)"
   ]
  },
  {
   "cell_type": "code",
   "execution_count": 40,
   "metadata": {},
   "outputs": [],
   "source": [
    "map_car_type ={'coupe':8,'suv':7,'convertible':6,'sedan':5,'van':4,'hatchback':3,'estate':2,'subcompact':1}\n",
    "\n",
    "df['car_type'] = df.car_type.map(map_car_type)"
   ]
  },
  {
   "cell_type": "code",
   "execution_count": 41,
   "metadata": {},
   "outputs": [
    {
     "data": {
      "text/html": [
       "<div>\n",
       "<style scoped>\n",
       "    .dataframe tbody tr th:only-of-type {\n",
       "        vertical-align: middle;\n",
       "    }\n",
       "\n",
       "    .dataframe tbody tr th {\n",
       "        vertical-align: top;\n",
       "    }\n",
       "\n",
       "    .dataframe thead th {\n",
       "        text-align: right;\n",
       "    }\n",
       "</style>\n",
       "<table border=\"1\" class=\"dataframe\">\n",
       "  <thead>\n",
       "    <tr style=\"text-align: right;\">\n",
       "      <th></th>\n",
       "      <th>maker_key</th>\n",
       "      <th>model_key</th>\n",
       "      <th>mileage</th>\n",
       "      <th>engine_power</th>\n",
       "      <th>registration_date</th>\n",
       "      <th>fuel</th>\n",
       "      <th>paint_color</th>\n",
       "      <th>car_type</th>\n",
       "      <th>feature_1</th>\n",
       "      <th>feature_2</th>\n",
       "      <th>feature_3</th>\n",
       "      <th>feature_4</th>\n",
       "      <th>feature_5</th>\n",
       "      <th>feature_6</th>\n",
       "      <th>feature_7</th>\n",
       "      <th>feature_8</th>\n",
       "      <th>price</th>\n",
       "      <th>sold_at</th>\n",
       "      <th>reg_year</th>\n",
       "      <th>reg_weekday_yr</th>\n",
       "      <th>sold_year</th>\n",
       "      <th>sold_weekday_yr</th>\n",
       "      <th>diff_reg_sold</th>\n",
       "      <th>year_diff</th>\n",
       "      <th>map_fuel</th>\n",
       "      <th>bin_model_key</th>\n",
       "    </tr>\n",
       "  </thead>\n",
       "  <tbody>\n",
       "    <tr>\n",
       "      <th>0</th>\n",
       "      <td>BMW</td>\n",
       "      <td>118</td>\n",
       "      <td>140411</td>\n",
       "      <td>100</td>\n",
       "      <td>2012-02-01</td>\n",
       "      <td>diesel</td>\n",
       "      <td>7</td>\n",
       "      <td>6</td>\n",
       "      <td>1</td>\n",
       "      <td>1</td>\n",
       "      <td>0</td>\n",
       "      <td>0</td>\n",
       "      <td>1</td>\n",
       "      <td>1</td>\n",
       "      <td>1</td>\n",
       "      <td>0</td>\n",
       "      <td>11300</td>\n",
       "      <td>2018-01-01</td>\n",
       "      <td>2012</td>\n",
       "      <td>5</td>\n",
       "      <td>2018</td>\n",
       "      <td>1</td>\n",
       "      <td>2161</td>\n",
       "      <td>6</td>\n",
       "      <td>4</td>\n",
       "      <td>1</td>\n",
       "    </tr>\n",
       "    <tr>\n",
       "      <th>1</th>\n",
       "      <td>BMW</td>\n",
       "      <td>M4</td>\n",
       "      <td>13929</td>\n",
       "      <td>317</td>\n",
       "      <td>2016-04-01</td>\n",
       "      <td>petrol</td>\n",
       "      <td>5</td>\n",
       "      <td>6</td>\n",
       "      <td>1</td>\n",
       "      <td>1</td>\n",
       "      <td>0</td>\n",
       "      <td>0</td>\n",
       "      <td>0</td>\n",
       "      <td>1</td>\n",
       "      <td>1</td>\n",
       "      <td>1</td>\n",
       "      <td>69700</td>\n",
       "      <td>2018-02-01</td>\n",
       "      <td>2016</td>\n",
       "      <td>13</td>\n",
       "      <td>2018</td>\n",
       "      <td>5</td>\n",
       "      <td>671</td>\n",
       "      <td>2</td>\n",
       "      <td>3</td>\n",
       "      <td>6</td>\n",
       "    </tr>\n",
       "    <tr>\n",
       "      <th>2</th>\n",
       "      <td>BMW</td>\n",
       "      <td>320</td>\n",
       "      <td>183297</td>\n",
       "      <td>120</td>\n",
       "      <td>2012-04-01</td>\n",
       "      <td>diesel</td>\n",
       "      <td>9</td>\n",
       "      <td>6</td>\n",
       "      <td>0</td>\n",
       "      <td>0</td>\n",
       "      <td>0</td>\n",
       "      <td>0</td>\n",
       "      <td>1</td>\n",
       "      <td>0</td>\n",
       "      <td>1</td>\n",
       "      <td>0</td>\n",
       "      <td>10200</td>\n",
       "      <td>2018-02-01</td>\n",
       "      <td>2012</td>\n",
       "      <td>13</td>\n",
       "      <td>2018</td>\n",
       "      <td>5</td>\n",
       "      <td>2132</td>\n",
       "      <td>6</td>\n",
       "      <td>4</td>\n",
       "      <td>2</td>\n",
       "    </tr>\n",
       "    <tr>\n",
       "      <th>3</th>\n",
       "      <td>BMW</td>\n",
       "      <td>420</td>\n",
       "      <td>128035</td>\n",
       "      <td>135</td>\n",
       "      <td>2014-07-01</td>\n",
       "      <td>diesel</td>\n",
       "      <td>8</td>\n",
       "      <td>6</td>\n",
       "      <td>1</td>\n",
       "      <td>1</td>\n",
       "      <td>0</td>\n",
       "      <td>0</td>\n",
       "      <td>1</td>\n",
       "      <td>1</td>\n",
       "      <td>1</td>\n",
       "      <td>1</td>\n",
       "      <td>25100</td>\n",
       "      <td>2018-02-01</td>\n",
       "      <td>2014</td>\n",
       "      <td>27</td>\n",
       "      <td>2018</td>\n",
       "      <td>5</td>\n",
       "      <td>1311</td>\n",
       "      <td>4</td>\n",
       "      <td>4</td>\n",
       "      <td>4</td>\n",
       "    </tr>\n",
       "    <tr>\n",
       "      <th>4</th>\n",
       "      <td>BMW</td>\n",
       "      <td>425</td>\n",
       "      <td>97097</td>\n",
       "      <td>160</td>\n",
       "      <td>2014-12-01</td>\n",
       "      <td>diesel</td>\n",
       "      <td>2</td>\n",
       "      <td>6</td>\n",
       "      <td>1</td>\n",
       "      <td>1</td>\n",
       "      <td>0</td>\n",
       "      <td>0</td>\n",
       "      <td>0</td>\n",
       "      <td>1</td>\n",
       "      <td>1</td>\n",
       "      <td>1</td>\n",
       "      <td>33400</td>\n",
       "      <td>2018-04-01</td>\n",
       "      <td>2014</td>\n",
       "      <td>49</td>\n",
       "      <td>2018</td>\n",
       "      <td>13</td>\n",
       "      <td>1217</td>\n",
       "      <td>4</td>\n",
       "      <td>4</td>\n",
       "      <td>5</td>\n",
       "    </tr>\n",
       "  </tbody>\n",
       "</table>\n",
       "</div>"
      ],
      "text/plain": [
       "  maker_key model_key  mileage  engine_power registration_date    fuel  \\\n",
       "0       BMW       118   140411           100        2012-02-01  diesel   \n",
       "1       BMW        M4    13929           317        2016-04-01  petrol   \n",
       "2       BMW       320   183297           120        2012-04-01  diesel   \n",
       "3       BMW       420   128035           135        2014-07-01  diesel   \n",
       "4       BMW       425    97097           160        2014-12-01  diesel   \n",
       "\n",
       "   paint_color  car_type  feature_1  feature_2  feature_3  feature_4  \\\n",
       "0            7         6          1          1          0          0   \n",
       "1            5         6          1          1          0          0   \n",
       "2            9         6          0          0          0          0   \n",
       "3            8         6          1          1          0          0   \n",
       "4            2         6          1          1          0          0   \n",
       "\n",
       "   feature_5  feature_6  feature_7  feature_8  price    sold_at  reg_year  \\\n",
       "0          1          1          1          0  11300 2018-01-01      2012   \n",
       "1          0          1          1          1  69700 2018-02-01      2016   \n",
       "2          1          0          1          0  10200 2018-02-01      2012   \n",
       "3          1          1          1          1  25100 2018-02-01      2014   \n",
       "4          0          1          1          1  33400 2018-04-01      2014   \n",
       "\n",
       "   reg_weekday_yr  sold_year  sold_weekday_yr diff_reg_sold  year_diff  \\\n",
       "0               5       2018                1          2161          6   \n",
       "1              13       2018                5           671          2   \n",
       "2              13       2018                5          2132          6   \n",
       "3              27       2018                5          1311          4   \n",
       "4              49       2018               13          1217          4   \n",
       "\n",
       "   map_fuel  bin_model_key  \n",
       "0         4              1  \n",
       "1         3              6  \n",
       "2         4              2  \n",
       "3         4              4  \n",
       "4         4              5  "
      ]
     },
     "execution_count": 41,
     "metadata": {},
     "output_type": "execute_result"
    }
   ],
   "source": [
    "df.head()"
   ]
  },
  {
   "cell_type": "code",
   "execution_count": 42,
   "metadata": {},
   "outputs": [
    {
     "data": {
      "text/plain": [
       "<matplotlib.axes._subplots.AxesSubplot at 0x1a0375b62b0>"
      ]
     },
     "execution_count": 42,
     "metadata": {},
     "output_type": "execute_result"
    },
    {
     "data": {
      "image/png": "[encoded data removed]",
      "text/plain": [
       "<Figure size 1440x720 with 1 Axes>"
      ]
     },
     "metadata": {
      "needs_background": "light"
     },
     "output_type": "display_data"
    }
   ],
   "source": [
    "figure = plt.subplots(figsize = (20,10))\n",
    "sns.distplot(df.engine_power)"
   ]
  },
  {
   "cell_type": "code",
   "execution_count": 43,
   "metadata": {},
   "outputs": [
    {
     "data": {
      "text/plain": [
       "<matplotlib.axes._subplots.AxesSubplot at 0x1a03760f6d0>"
      ]
     },
     "execution_count": 43,
     "metadata": {},
     "output_type": "execute_result"
    },
    {
     "data": {
      "image/png": "[encoded data removed]",
      "text/plain": [
       "<Figure size 432x288 with 1 Axes>"
      ]
     },
     "metadata": {
      "needs_background": "light"
     },
     "output_type": "display_data"
    }
   ],
   "source": [
    "df_eng=df.groupby('engine_power')['price'].mean().reset_index()\n",
    "sns.lineplot(df_eng.engine_power,df_eng.price)"
   ]
  },
  {
   "cell_type": "code",
   "execution_count": 44,
   "metadata": {},
   "outputs": [
    {
     "data": {
      "text/plain": [
       "array([  0,  25,  66,  70,  75,  77,  80,  85,  87,  90,  95, 100, 101,\n",
       "       105, 107, 110, 112, 119, 120, 121, 122, 125, 127, 130, 135, 137,\n",
       "       140, 141, 142, 145, 150, 155, 160, 170, 173, 180, 183, 189, 190,\n",
       "       192, 195, 200, 210, 220, 224, 225, 230, 233, 235, 236, 239, 240,\n",
       "       250, 261, 270, 280, 300, 309, 317, 412, 423], dtype=int64)"
      ]
     },
     "execution_count": 44,
     "metadata": {},
     "output_type": "execute_result"
    }
   ],
   "source": [
    "df.engine_power.sort_values().unique()"
   ]
  },
  {
   "cell_type": "code",
   "execution_count": 45,
   "metadata": {},
   "outputs": [],
   "source": [
    "Engine_bin = {0:'bellow100',25:'bellow100',66:'bellow100',70:'bellow100',75:'bellow100',77:'bellow100',80:'bellow100',\n",
    "              85:'bellow100',87:'bellow100',90:'bellow100',95:'bellow100',100:'bellow150',101:'bellow150',105:'bellow150',\n",
    "              107:'bellow150',110:'bellow150',112:'bellow150',119:'bellow150',120:'bellow150',121:'bellow150',122:'bellow150',\n",
    "              125:'bellow150',127:'bellow150',130:'bellow150',135:'bellow150',137:'bellow150',140:'bellow150',141:'bellow150',\n",
    "              142:'bellow150',145:'bellow150',150:'bellow200',155:'bellow200',160:'bellow200',170:'bellow200',173:'bellow200',\n",
    "              180:'bellow200',183:'bellow200',189:'bellow200',190:'bellow200',192:'bellow200',195:'bellow200',200:'bellow300',\n",
    "              210:'bellow300',220:'bellow300',224:'bellow300',225:'bellow300',230:'bellow300',233:'bellow300',235:'bellow300',\n",
    "              236:'bellow300',239:'bellow300',240:'bellow300',250:'bellow300',261:'bellow300',270:'bellow300',280:'bellow300',\n",
    "              300:'bellow400',309:'bellow400',317:'bellow300',412:'bellow300',423:'bellow300'\n",
    "             }"
   ]
  },
  {
   "cell_type": "code",
   "execution_count": 46,
   "metadata": {},
   "outputs": [],
   "source": [
    "df['engine_power_bin'] = df.engine_power.map(Engine_bin)"
   ]
  },
  {
   "cell_type": "code",
   "execution_count": 47,
   "metadata": {},
   "outputs": [
    {
     "data": {
      "text/html": [
       "<div>\n",
       "<style scoped>\n",
       "    .dataframe tbody tr th:only-of-type {\n",
       "        vertical-align: middle;\n",
       "    }\n",
       "\n",
       "    .dataframe tbody tr th {\n",
       "        vertical-align: top;\n",
       "    }\n",
       "\n",
       "    .dataframe thead th {\n",
       "        text-align: right;\n",
       "    }\n",
       "</style>\n",
       "<table border=\"1\" class=\"dataframe\">\n",
       "  <thead>\n",
       "    <tr style=\"text-align: right;\">\n",
       "      <th></th>\n",
       "      <th>engine_power_bin</th>\n",
       "      <th>price</th>\n",
       "    </tr>\n",
       "  </thead>\n",
       "  <tbody>\n",
       "    <tr>\n",
       "      <th>4</th>\n",
       "      <td>bellow400</td>\n",
       "      <td>32260.000000</td>\n",
       "    </tr>\n",
       "    <tr>\n",
       "      <th>3</th>\n",
       "      <td>bellow300</td>\n",
       "      <td>31851.361868</td>\n",
       "    </tr>\n",
       "    <tr>\n",
       "      <th>2</th>\n",
       "      <td>bellow200</td>\n",
       "      <td>22533.977901</td>\n",
       "    </tr>\n",
       "    <tr>\n",
       "      <th>1</th>\n",
       "      <td>bellow150</td>\n",
       "      <td>14336.883943</td>\n",
       "    </tr>\n",
       "    <tr>\n",
       "      <th>0</th>\n",
       "      <td>bellow100</td>\n",
       "      <td>9696.910112</td>\n",
       "    </tr>\n",
       "  </tbody>\n",
       "</table>\n",
       "</div>"
      ],
      "text/plain": [
       "  engine_power_bin         price\n",
       "4        bellow400  32260.000000\n",
       "3        bellow300  31851.361868\n",
       "2        bellow200  22533.977901\n",
       "1        bellow150  14336.883943\n",
       "0        bellow100   9696.910112"
      ]
     },
     "execution_count": 47,
     "metadata": {},
     "output_type": "execute_result"
    }
   ],
   "source": [
    "df.groupby('engine_power_bin')['price'].mean().reset_index().sort_values(by='price',ascending=False)"
   ]
  },
  {
   "cell_type": "code",
   "execution_count": 48,
   "metadata": {},
   "outputs": [
    {
     "data": {
      "text/plain": [
       "array(['bellow150', 'bellow300', 'bellow200', 'bellow100', 'bellow400'],\n",
       "      dtype=object)"
      ]
     },
     "execution_count": 48,
     "metadata": {},
     "output_type": "execute_result"
    }
   ],
   "source": [
    "df.engine_power_bin.unique()"
   ]
  },
  {
   "cell_type": "code",
   "execution_count": 49,
   "metadata": {},
   "outputs": [],
   "source": [
    "engine_map={'bellow400':5,'bellow300':4,'bellow200':3,'bellow150':2,'bellow100':1}"
   ]
  },
  {
   "cell_type": "code",
   "execution_count": 50,
   "metadata": {},
   "outputs": [],
   "source": [
    "df['engine_power_bin'] = df.engine_power_bin.map(engine_map)"
   ]
  },
  {
   "cell_type": "code",
   "execution_count": 51,
   "metadata": {},
   "outputs": [
    {
     "data": {
      "text/html": [
       "<div>\n",
       "<style scoped>\n",
       "    .dataframe tbody tr th:only-of-type {\n",
       "        vertical-align: middle;\n",
       "    }\n",
       "\n",
       "    .dataframe tbody tr th {\n",
       "        vertical-align: top;\n",
       "    }\n",
       "\n",
       "    .dataframe thead th {\n",
       "        text-align: right;\n",
       "    }\n",
       "</style>\n",
       "<table border=\"1\" class=\"dataframe\">\n",
       "  <thead>\n",
       "    <tr style=\"text-align: right;\">\n",
       "      <th></th>\n",
       "      <th>maker_key</th>\n",
       "      <th>model_key</th>\n",
       "      <th>mileage</th>\n",
       "      <th>engine_power</th>\n",
       "      <th>registration_date</th>\n",
       "      <th>fuel</th>\n",
       "      <th>paint_color</th>\n",
       "      <th>car_type</th>\n",
       "      <th>feature_1</th>\n",
       "      <th>feature_2</th>\n",
       "      <th>feature_3</th>\n",
       "      <th>feature_4</th>\n",
       "      <th>feature_5</th>\n",
       "      <th>feature_6</th>\n",
       "      <th>feature_7</th>\n",
       "      <th>feature_8</th>\n",
       "      <th>price</th>\n",
       "      <th>sold_at</th>\n",
       "      <th>reg_year</th>\n",
       "      <th>reg_weekday_yr</th>\n",
       "      <th>sold_year</th>\n",
       "      <th>sold_weekday_yr</th>\n",
       "      <th>diff_reg_sold</th>\n",
       "      <th>year_diff</th>\n",
       "      <th>map_fuel</th>\n",
       "      <th>bin_model_key</th>\n",
       "      <th>engine_power_bin</th>\n",
       "    </tr>\n",
       "  </thead>\n",
       "  <tbody>\n",
       "    <tr>\n",
       "      <th>0</th>\n",
       "      <td>BMW</td>\n",
       "      <td>118</td>\n",
       "      <td>140411</td>\n",
       "      <td>100</td>\n",
       "      <td>2012-02-01</td>\n",
       "      <td>diesel</td>\n",
       "      <td>7</td>\n",
       "      <td>6</td>\n",
       "      <td>1</td>\n",
       "      <td>1</td>\n",
       "      <td>0</td>\n",
       "      <td>0</td>\n",
       "      <td>1</td>\n",
       "      <td>1</td>\n",
       "      <td>1</td>\n",
       "      <td>0</td>\n",
       "      <td>11300</td>\n",
       "      <td>2018-01-01</td>\n",
       "      <td>2012</td>\n",
       "      <td>5</td>\n",
       "      <td>2018</td>\n",
       "      <td>1</td>\n",
       "      <td>2161</td>\n",
       "      <td>6</td>\n",
       "      <td>4</td>\n",
       "      <td>1</td>\n",
       "      <td>2</td>\n",
       "    </tr>\n",
       "    <tr>\n",
       "      <th>1</th>\n",
       "      <td>BMW</td>\n",
       "      <td>M4</td>\n",
       "      <td>13929</td>\n",
       "      <td>317</td>\n",
       "      <td>2016-04-01</td>\n",
       "      <td>petrol</td>\n",
       "      <td>5</td>\n",
       "      <td>6</td>\n",
       "      <td>1</td>\n",
       "      <td>1</td>\n",
       "      <td>0</td>\n",
       "      <td>0</td>\n",
       "      <td>0</td>\n",
       "      <td>1</td>\n",
       "      <td>1</td>\n",
       "      <td>1</td>\n",
       "      <td>69700</td>\n",
       "      <td>2018-02-01</td>\n",
       "      <td>2016</td>\n",
       "      <td>13</td>\n",
       "      <td>2018</td>\n",
       "      <td>5</td>\n",
       "      <td>671</td>\n",
       "      <td>2</td>\n",
       "      <td>3</td>\n",
       "      <td>6</td>\n",
       "      <td>4</td>\n",
       "    </tr>\n",
       "    <tr>\n",
       "      <th>2</th>\n",
       "      <td>BMW</td>\n",
       "      <td>320</td>\n",
       "      <td>183297</td>\n",
       "      <td>120</td>\n",
       "      <td>2012-04-01</td>\n",
       "      <td>diesel</td>\n",
       "      <td>9</td>\n",
       "      <td>6</td>\n",
       "      <td>0</td>\n",
       "      <td>0</td>\n",
       "      <td>0</td>\n",
       "      <td>0</td>\n",
       "      <td>1</td>\n",
       "      <td>0</td>\n",
       "      <td>1</td>\n",
       "      <td>0</td>\n",
       "      <td>10200</td>\n",
       "      <td>2018-02-01</td>\n",
       "      <td>2012</td>\n",
       "      <td>13</td>\n",
       "      <td>2018</td>\n",
       "      <td>5</td>\n",
       "      <td>2132</td>\n",
       "      <td>6</td>\n",
       "      <td>4</td>\n",
       "      <td>2</td>\n",
       "      <td>2</td>\n",
       "    </tr>\n",
       "    <tr>\n",
       "      <th>3</th>\n",
       "      <td>BMW</td>\n",
       "      <td>420</td>\n",
       "      <td>128035</td>\n",
       "      <td>135</td>\n",
       "      <td>2014-07-01</td>\n",
       "      <td>diesel</td>\n",
       "      <td>8</td>\n",
       "      <td>6</td>\n",
       "      <td>1</td>\n",
       "      <td>1</td>\n",
       "      <td>0</td>\n",
       "      <td>0</td>\n",
       "      <td>1</td>\n",
       "      <td>1</td>\n",
       "      <td>1</td>\n",
       "      <td>1</td>\n",
       "      <td>25100</td>\n",
       "      <td>2018-02-01</td>\n",
       "      <td>2014</td>\n",
       "      <td>27</td>\n",
       "      <td>2018</td>\n",
       "      <td>5</td>\n",
       "      <td>1311</td>\n",
       "      <td>4</td>\n",
       "      <td>4</td>\n",
       "      <td>4</td>\n",
       "      <td>2</td>\n",
       "    </tr>\n",
       "    <tr>\n",
       "      <th>4</th>\n",
       "      <td>BMW</td>\n",
       "      <td>425</td>\n",
       "      <td>97097</td>\n",
       "      <td>160</td>\n",
       "      <td>2014-12-01</td>\n",
       "      <td>diesel</td>\n",
       "      <td>2</td>\n",
       "      <td>6</td>\n",
       "      <td>1</td>\n",
       "      <td>1</td>\n",
       "      <td>0</td>\n",
       "      <td>0</td>\n",
       "      <td>0</td>\n",
       "      <td>1</td>\n",
       "      <td>1</td>\n",
       "      <td>1</td>\n",
       "      <td>33400</td>\n",
       "      <td>2018-04-01</td>\n",
       "      <td>2014</td>\n",
       "      <td>49</td>\n",
       "      <td>2018</td>\n",
       "      <td>13</td>\n",
       "      <td>1217</td>\n",
       "      <td>4</td>\n",
       "      <td>4</td>\n",
       "      <td>5</td>\n",
       "      <td>3</td>\n",
       "    </tr>\n",
       "  </tbody>\n",
       "</table>\n",
       "</div>"
      ],
      "text/plain": [
       "  maker_key model_key  mileage  engine_power registration_date    fuel  \\\n",
       "0       BMW       118   140411           100        2012-02-01  diesel   \n",
       "1       BMW        M4    13929           317        2016-04-01  petrol   \n",
       "2       BMW       320   183297           120        2012-04-01  diesel   \n",
       "3       BMW       420   128035           135        2014-07-01  diesel   \n",
       "4       BMW       425    97097           160        2014-12-01  diesel   \n",
       "\n",
       "   paint_color  car_type  feature_1  feature_2  feature_3  feature_4  \\\n",
       "0            7         6          1          1          0          0   \n",
       "1            5         6          1          1          0          0   \n",
       "2            9         6          0          0          0          0   \n",
       "3            8         6          1          1          0          0   \n",
       "4            2         6          1          1          0          0   \n",
       "\n",
       "   feature_5  feature_6  feature_7  feature_8  price    sold_at  reg_year  \\\n",
       "0          1          1          1          0  11300 2018-01-01      2012   \n",
       "1          0          1          1          1  69700 2018-02-01      2016   \n",
       "2          1          0          1          0  10200 2018-02-01      2012   \n",
       "3          1          1          1          1  25100 2018-02-01      2014   \n",
       "4          0          1          1          1  33400 2018-04-01      2014   \n",
       "\n",
       "   reg_weekday_yr  sold_year  sold_weekday_yr diff_reg_sold  year_diff  \\\n",
       "0               5       2018                1          2161          6   \n",
       "1              13       2018                5           671          2   \n",
       "2              13       2018                5          2132          6   \n",
       "3              27       2018                5          1311          4   \n",
       "4              49       2018               13          1217          4   \n",
       "\n",
       "   map_fuel  bin_model_key  engine_power_bin  \n",
       "0         4              1                 2  \n",
       "1         3              6                 4  \n",
       "2         4              2                 2  \n",
       "3         4              4                 2  \n",
       "4         4              5                 3  "
      ]
     },
     "execution_count": 51,
     "metadata": {},
     "output_type": "execute_result"
    }
   ],
   "source": [
    "df.head()"
   ]
  },
  {
   "cell_type": "code",
   "execution_count": 52,
   "metadata": {},
   "outputs": [
    {
     "data": {
      "text/plain": [
       "<matplotlib.axes._subplots.AxesSubplot at 0x1a03772eb80>"
      ]
     },
     "execution_count": 52,
     "metadata": {},
     "output_type": "execute_result"
    },
    {
     "data": {
      "image/png": "[encoded data removed]",
      "text/plain": [
       "<Figure size 432x288 with 1 Axes>"
      ]
     },
     "metadata": {
      "needs_background": "light"
     },
     "output_type": "display_data"
    }
   ],
   "source": [
    "sns.distplot(df.mileage[df.mileage<0])"
   ]
  },
  {
   "cell_type": "markdown",
   "metadata": {},
   "source": [
    "# as mileage can't be negetive, replacing negetive values to zero"
   ]
  },
  {
   "cell_type": "code",
   "execution_count": 53,
   "metadata": {},
   "outputs": [],
   "source": [
    "df.mileage = df.mileage.apply(lambda x : 0 if x <0 else x)"
   ]
  },
  {
   "cell_type": "code",
   "execution_count": 54,
   "metadata": {},
   "outputs": [
    {
     "data": {
      "text/plain": [
       "Series([], Name: mileage, dtype: int64)"
      ]
     },
     "execution_count": 54,
     "metadata": {},
     "output_type": "execute_result"
    }
   ],
   "source": [
    "df.mileage[df.mileage<0]"
   ]
  },
  {
   "cell_type": "code",
   "execution_count": 55,
   "metadata": {},
   "outputs": [
    {
     "data": {
      "text/plain": [
       "16"
      ]
     },
     "execution_count": 55,
     "metadata": {},
     "output_type": "execute_result"
    }
   ],
   "source": [
    "df.engine_power[df.engine_power <75].count()"
   ]
  },
  {
   "cell_type": "code",
   "execution_count": 56,
   "metadata": {},
   "outputs": [],
   "source": [
    "# it seems less than 75 HP engine power is not sufficient to move a car. since there are 16 rowa,removing them.\n",
    "\n",
    "df = df[df.engine_power>75]"
   ]
  },
  {
   "cell_type": "code",
   "execution_count": 57,
   "metadata": {},
   "outputs": [
    {
     "data": {
      "text/plain": [
       "maker_key            7\n",
       "model_key            7\n",
       "mileage              7\n",
       "engine_power         7\n",
       "registration_date    7\n",
       "fuel                 7\n",
       "paint_color          7\n",
       "car_type             7\n",
       "feature_1            7\n",
       "feature_2            7\n",
       "feature_3            7\n",
       "feature_4            7\n",
       "feature_5            7\n",
       "feature_6            7\n",
       "feature_7            7\n",
       "feature_8            7\n",
       "price                7\n",
       "sold_at              7\n",
       "reg_year             7\n",
       "reg_weekday_yr       7\n",
       "sold_year            7\n",
       "sold_weekday_yr      7\n",
       "diff_reg_sold        7\n",
       "year_diff            7\n",
       "map_fuel             7\n",
       "bin_model_key        7\n",
       "engine_power_bin     7\n",
       "dtype: int64"
      ]
     },
     "execution_count": 57,
     "metadata": {},
     "output_type": "execute_result"
    }
   ],
   "source": [
    "df[df.price <200].count()"
   ]
  },
  {
   "cell_type": "code",
   "execution_count": 58,
   "metadata": {},
   "outputs": [],
   "source": [
    "df = df[df.price >200]"
   ]
  },
  {
   "cell_type": "code",
   "execution_count": 59,
   "metadata": {},
   "outputs": [
    {
     "data": {
      "text/html": [
       "<div>\n",
       "<style scoped>\n",
       "    .dataframe tbody tr th:only-of-type {\n",
       "        vertical-align: middle;\n",
       "    }\n",
       "\n",
       "    .dataframe tbody tr th {\n",
       "        vertical-align: top;\n",
       "    }\n",
       "\n",
       "    .dataframe thead th {\n",
       "        text-align: right;\n",
       "    }\n",
       "</style>\n",
       "<table border=\"1\" class=\"dataframe\">\n",
       "  <thead>\n",
       "    <tr style=\"text-align: right;\">\n",
       "      <th></th>\n",
       "      <th>maker_key</th>\n",
       "      <th>model_key</th>\n",
       "      <th>mileage</th>\n",
       "      <th>engine_power</th>\n",
       "      <th>registration_date</th>\n",
       "      <th>fuel</th>\n",
       "      <th>paint_color</th>\n",
       "      <th>car_type</th>\n",
       "      <th>feature_1</th>\n",
       "      <th>feature_2</th>\n",
       "      <th>feature_3</th>\n",
       "      <th>feature_4</th>\n",
       "      <th>feature_5</th>\n",
       "      <th>feature_6</th>\n",
       "      <th>feature_7</th>\n",
       "      <th>feature_8</th>\n",
       "      <th>price</th>\n",
       "      <th>sold_at</th>\n",
       "      <th>reg_year</th>\n",
       "      <th>reg_weekday_yr</th>\n",
       "      <th>sold_year</th>\n",
       "      <th>sold_weekday_yr</th>\n",
       "      <th>diff_reg_sold</th>\n",
       "      <th>year_diff</th>\n",
       "      <th>map_fuel</th>\n",
       "      <th>bin_model_key</th>\n",
       "      <th>engine_power_bin</th>\n",
       "    </tr>\n",
       "  </thead>\n",
       "  <tbody>\n",
       "    <tr>\n",
       "      <th>0</th>\n",
       "      <td>BMW</td>\n",
       "      <td>118</td>\n",
       "      <td>140411</td>\n",
       "      <td>100</td>\n",
       "      <td>2012-02-01</td>\n",
       "      <td>diesel</td>\n",
       "      <td>7</td>\n",
       "      <td>6</td>\n",
       "      <td>1</td>\n",
       "      <td>1</td>\n",
       "      <td>0</td>\n",
       "      <td>0</td>\n",
       "      <td>1</td>\n",
       "      <td>1</td>\n",
       "      <td>1</td>\n",
       "      <td>0</td>\n",
       "      <td>11300</td>\n",
       "      <td>2018-01-01</td>\n",
       "      <td>2012</td>\n",
       "      <td>5</td>\n",
       "      <td>2018</td>\n",
       "      <td>1</td>\n",
       "      <td>2161</td>\n",
       "      <td>6</td>\n",
       "      <td>4</td>\n",
       "      <td>1</td>\n",
       "      <td>2</td>\n",
       "    </tr>\n",
       "    <tr>\n",
       "      <th>1</th>\n",
       "      <td>BMW</td>\n",
       "      <td>M4</td>\n",
       "      <td>13929</td>\n",
       "      <td>317</td>\n",
       "      <td>2016-04-01</td>\n",
       "      <td>petrol</td>\n",
       "      <td>5</td>\n",
       "      <td>6</td>\n",
       "      <td>1</td>\n",
       "      <td>1</td>\n",
       "      <td>0</td>\n",
       "      <td>0</td>\n",
       "      <td>0</td>\n",
       "      <td>1</td>\n",
       "      <td>1</td>\n",
       "      <td>1</td>\n",
       "      <td>69700</td>\n",
       "      <td>2018-02-01</td>\n",
       "      <td>2016</td>\n",
       "      <td>13</td>\n",
       "      <td>2018</td>\n",
       "      <td>5</td>\n",
       "      <td>671</td>\n",
       "      <td>2</td>\n",
       "      <td>3</td>\n",
       "      <td>6</td>\n",
       "      <td>4</td>\n",
       "    </tr>\n",
       "    <tr>\n",
       "      <th>2</th>\n",
       "      <td>BMW</td>\n",
       "      <td>320</td>\n",
       "      <td>183297</td>\n",
       "      <td>120</td>\n",
       "      <td>2012-04-01</td>\n",
       "      <td>diesel</td>\n",
       "      <td>9</td>\n",
       "      <td>6</td>\n",
       "      <td>0</td>\n",
       "      <td>0</td>\n",
       "      <td>0</td>\n",
       "      <td>0</td>\n",
       "      <td>1</td>\n",
       "      <td>0</td>\n",
       "      <td>1</td>\n",
       "      <td>0</td>\n",
       "      <td>10200</td>\n",
       "      <td>2018-02-01</td>\n",
       "      <td>2012</td>\n",
       "      <td>13</td>\n",
       "      <td>2018</td>\n",
       "      <td>5</td>\n",
       "      <td>2132</td>\n",
       "      <td>6</td>\n",
       "      <td>4</td>\n",
       "      <td>2</td>\n",
       "      <td>2</td>\n",
       "    </tr>\n",
       "    <tr>\n",
       "      <th>3</th>\n",
       "      <td>BMW</td>\n",
       "      <td>420</td>\n",
       "      <td>128035</td>\n",
       "      <td>135</td>\n",
       "      <td>2014-07-01</td>\n",
       "      <td>diesel</td>\n",
       "      <td>8</td>\n",
       "      <td>6</td>\n",
       "      <td>1</td>\n",
       "      <td>1</td>\n",
       "      <td>0</td>\n",
       "      <td>0</td>\n",
       "      <td>1</td>\n",
       "      <td>1</td>\n",
       "      <td>1</td>\n",
       "      <td>1</td>\n",
       "      <td>25100</td>\n",
       "      <td>2018-02-01</td>\n",
       "      <td>2014</td>\n",
       "      <td>27</td>\n",
       "      <td>2018</td>\n",
       "      <td>5</td>\n",
       "      <td>1311</td>\n",
       "      <td>4</td>\n",
       "      <td>4</td>\n",
       "      <td>4</td>\n",
       "      <td>2</td>\n",
       "    </tr>\n",
       "    <tr>\n",
       "      <th>4</th>\n",
       "      <td>BMW</td>\n",
       "      <td>425</td>\n",
       "      <td>97097</td>\n",
       "      <td>160</td>\n",
       "      <td>2014-12-01</td>\n",
       "      <td>diesel</td>\n",
       "      <td>2</td>\n",
       "      <td>6</td>\n",
       "      <td>1</td>\n",
       "      <td>1</td>\n",
       "      <td>0</td>\n",
       "      <td>0</td>\n",
       "      <td>0</td>\n",
       "      <td>1</td>\n",
       "      <td>1</td>\n",
       "      <td>1</td>\n",
       "      <td>33400</td>\n",
       "      <td>2018-04-01</td>\n",
       "      <td>2014</td>\n",
       "      <td>49</td>\n",
       "      <td>2018</td>\n",
       "      <td>13</td>\n",
       "      <td>1217</td>\n",
       "      <td>4</td>\n",
       "      <td>4</td>\n",
       "      <td>5</td>\n",
       "      <td>3</td>\n",
       "    </tr>\n",
       "  </tbody>\n",
       "</table>\n",
       "</div>"
      ],
      "text/plain": [
       "  maker_key model_key  mileage  engine_power registration_date    fuel  \\\n",
       "0       BMW       118   140411           100        2012-02-01  diesel   \n",
       "1       BMW        M4    13929           317        2016-04-01  petrol   \n",
       "2       BMW       320   183297           120        2012-04-01  diesel   \n",
       "3       BMW       420   128035           135        2014-07-01  diesel   \n",
       "4       BMW       425    97097           160        2014-12-01  diesel   \n",
       "\n",
       "   paint_color  car_type  feature_1  feature_2  feature_3  feature_4  \\\n",
       "0            7         6          1          1          0          0   \n",
       "1            5         6          1          1          0          0   \n",
       "2            9         6          0          0          0          0   \n",
       "3            8         6          1          1          0          0   \n",
       "4            2         6          1          1          0          0   \n",
       "\n",
       "   feature_5  feature_6  feature_7  feature_8  price    sold_at  reg_year  \\\n",
       "0          1          1          1          0  11300 2018-01-01      2012   \n",
       "1          0          1          1          1  69700 2018-02-01      2016   \n",
       "2          1          0          1          0  10200 2018-02-01      2012   \n",
       "3          1          1          1          1  25100 2018-02-01      2014   \n",
       "4          0          1          1          1  33400 2018-04-01      2014   \n",
       "\n",
       "   reg_weekday_yr  sold_year  sold_weekday_yr diff_reg_sold  year_diff  \\\n",
       "0               5       2018                1          2161          6   \n",
       "1              13       2018                5           671          2   \n",
       "2              13       2018                5          2132          6   \n",
       "3              27       2018                5          1311          4   \n",
       "4              49       2018               13          1217          4   \n",
       "\n",
       "   map_fuel  bin_model_key  engine_power_bin  \n",
       "0         4              1                 2  \n",
       "1         3              6                 4  \n",
       "2         4              2                 2  \n",
       "3         4              4                 2  \n",
       "4         4              5                 3  "
      ]
     },
     "execution_count": 59,
     "metadata": {},
     "output_type": "execute_result"
    }
   ],
   "source": [
    "df.head()"
   ]
  },
  {
   "cell_type": "code",
   "execution_count": 60,
   "metadata": {},
   "outputs": [],
   "source": [
    "df_clean = df.drop(['maker_key','fuel','model_key','sold_at','registration_date','reg_year',\n",
    "                    'reg_weekday_yr','sold_year','sold_weekday_yr','engine_power_bin','year_diff'], axis =1)"
   ]
  },
  {
   "cell_type": "code",
   "execution_count": 61,
   "metadata": {},
   "outputs": [
    {
     "data": {
      "text/plain": [
       "mileage          4808\n",
       "engine_power     4808\n",
       "paint_color      4808\n",
       "car_type         4808\n",
       "feature_1        4808\n",
       "feature_2        4808\n",
       "feature_3        4808\n",
       "feature_4        4808\n",
       "feature_5        4808\n",
       "feature_6        4808\n",
       "feature_7        4808\n",
       "feature_8        4808\n",
       "price            4808\n",
       "diff_reg_sold    4808\n",
       "map_fuel         4808\n",
       "bin_model_key    4808\n",
       "dtype: int64"
      ]
     },
     "execution_count": 61,
     "metadata": {},
     "output_type": "execute_result"
    }
   ],
   "source": [
    "df_clean.count()"
   ]
  },
  {
   "cell_type": "code",
   "execution_count": 62,
   "metadata": {},
   "outputs": [
    {
     "data": {
      "text/html": [
       "<div>\n",
       "<style scoped>\n",
       "    .dataframe tbody tr th:only-of-type {\n",
       "        vertical-align: middle;\n",
       "    }\n",
       "\n",
       "    .dataframe tbody tr th {\n",
       "        vertical-align: top;\n",
       "    }\n",
       "\n",
       "    .dataframe thead th {\n",
       "        text-align: right;\n",
       "    }\n",
       "</style>\n",
       "<table border=\"1\" class=\"dataframe\">\n",
       "  <thead>\n",
       "    <tr style=\"text-align: right;\">\n",
       "      <th></th>\n",
       "      <th>mileage</th>\n",
       "      <th>engine_power</th>\n",
       "      <th>paint_color</th>\n",
       "      <th>car_type</th>\n",
       "      <th>feature_1</th>\n",
       "      <th>feature_2</th>\n",
       "      <th>feature_3</th>\n",
       "      <th>feature_4</th>\n",
       "      <th>feature_5</th>\n",
       "      <th>feature_6</th>\n",
       "      <th>feature_7</th>\n",
       "      <th>feature_8</th>\n",
       "      <th>price</th>\n",
       "      <th>diff_reg_sold</th>\n",
       "      <th>map_fuel</th>\n",
       "      <th>bin_model_key</th>\n",
       "    </tr>\n",
       "  </thead>\n",
       "  <tbody>\n",
       "    <tr>\n",
       "      <th>0</th>\n",
       "      <td>140411</td>\n",
       "      <td>100</td>\n",
       "      <td>7</td>\n",
       "      <td>6</td>\n",
       "      <td>1</td>\n",
       "      <td>1</td>\n",
       "      <td>0</td>\n",
       "      <td>0</td>\n",
       "      <td>1</td>\n",
       "      <td>1</td>\n",
       "      <td>1</td>\n",
       "      <td>0</td>\n",
       "      <td>11300</td>\n",
       "      <td>2161</td>\n",
       "      <td>4</td>\n",
       "      <td>1</td>\n",
       "    </tr>\n",
       "    <tr>\n",
       "      <th>1</th>\n",
       "      <td>13929</td>\n",
       "      <td>317</td>\n",
       "      <td>5</td>\n",
       "      <td>6</td>\n",
       "      <td>1</td>\n",
       "      <td>1</td>\n",
       "      <td>0</td>\n",
       "      <td>0</td>\n",
       "      <td>0</td>\n",
       "      <td>1</td>\n",
       "      <td>1</td>\n",
       "      <td>1</td>\n",
       "      <td>69700</td>\n",
       "      <td>671</td>\n",
       "      <td>3</td>\n",
       "      <td>6</td>\n",
       "    </tr>\n",
       "    <tr>\n",
       "      <th>2</th>\n",
       "      <td>183297</td>\n",
       "      <td>120</td>\n",
       "      <td>9</td>\n",
       "      <td>6</td>\n",
       "      <td>0</td>\n",
       "      <td>0</td>\n",
       "      <td>0</td>\n",
       "      <td>0</td>\n",
       "      <td>1</td>\n",
       "      <td>0</td>\n",
       "      <td>1</td>\n",
       "      <td>0</td>\n",
       "      <td>10200</td>\n",
       "      <td>2132</td>\n",
       "      <td>4</td>\n",
       "      <td>2</td>\n",
       "    </tr>\n",
       "    <tr>\n",
       "      <th>3</th>\n",
       "      <td>128035</td>\n",
       "      <td>135</td>\n",
       "      <td>8</td>\n",
       "      <td>6</td>\n",
       "      <td>1</td>\n",
       "      <td>1</td>\n",
       "      <td>0</td>\n",
       "      <td>0</td>\n",
       "      <td>1</td>\n",
       "      <td>1</td>\n",
       "      <td>1</td>\n",
       "      <td>1</td>\n",
       "      <td>25100</td>\n",
       "      <td>1311</td>\n",
       "      <td>4</td>\n",
       "      <td>4</td>\n",
       "    </tr>\n",
       "    <tr>\n",
       "      <th>4</th>\n",
       "      <td>97097</td>\n",
       "      <td>160</td>\n",
       "      <td>2</td>\n",
       "      <td>6</td>\n",
       "      <td>1</td>\n",
       "      <td>1</td>\n",
       "      <td>0</td>\n",
       "      <td>0</td>\n",
       "      <td>0</td>\n",
       "      <td>1</td>\n",
       "      <td>1</td>\n",
       "      <td>1</td>\n",
       "      <td>33400</td>\n",
       "      <td>1217</td>\n",
       "      <td>4</td>\n",
       "      <td>5</td>\n",
       "    </tr>\n",
       "  </tbody>\n",
       "</table>\n",
       "</div>"
      ],
      "text/plain": [
       "   mileage  engine_power  paint_color  car_type  feature_1  feature_2  \\\n",
       "0   140411           100            7         6          1          1   \n",
       "1    13929           317            5         6          1          1   \n",
       "2   183297           120            9         6          0          0   \n",
       "3   128035           135            8         6          1          1   \n",
       "4    97097           160            2         6          1          1   \n",
       "\n",
       "   feature_3  feature_4  feature_5  feature_6  feature_7  feature_8  price  \\\n",
       "0          0          0          1          1          1          0  11300   \n",
       "1          0          0          0          1          1          1  69700   \n",
       "2          0          0          1          0          1          0  10200   \n",
       "3          0          0          1          1          1          1  25100   \n",
       "4          0          0          0          1          1          1  33400   \n",
       "\n",
       "  diff_reg_sold  map_fuel  bin_model_key  \n",
       "0          2161         4              1  \n",
       "1           671         3              6  \n",
       "2          2132         4              2  \n",
       "3          1311         4              4  \n",
       "4          1217         4              5  "
      ]
     },
     "execution_count": 62,
     "metadata": {},
     "output_type": "execute_result"
    }
   ],
   "source": [
    "df_clean.head()"
   ]
  },
  {
   "cell_type": "code",
   "execution_count": 63,
   "metadata": {},
   "outputs": [],
   "source": [
    "#Target and Feature Split\n",
    "\n",
    "x = df_clean.drop(['price'],axis =1)\n",
    "y = df_clean['price']"
   ]
  },
  {
   "cell_type": "code",
   "execution_count": 64,
   "metadata": {},
   "outputs": [
    {
     "data": {
      "text/plain": [
       "Index(['diff_reg_sold'], dtype='object')"
      ]
     },
     "execution_count": 64,
     "metadata": {},
     "output_type": "execute_result"
    }
   ],
   "source": [
    "x.select_dtypes('object').columns"
   ]
  },
  {
   "cell_type": "code",
   "execution_count": 65,
   "metadata": {},
   "outputs": [],
   "source": [
    "x['diff_reg_sold'] = pd.to_numeric(x['diff_reg_sold'])"
   ]
  },
  {
   "cell_type": "code",
   "execution_count": 66,
   "metadata": {},
   "outputs": [
    {
     "data": {
      "text/plain": [
       "4808"
      ]
     },
     "execution_count": 66,
     "metadata": {},
     "output_type": "execute_result"
    }
   ],
   "source": [
    "x.shape[0]"
   ]
  },
  {
   "cell_type": "code",
   "execution_count": 67,
   "metadata": {},
   "outputs": [
    {
     "data": {
      "text/plain": [
       "4808"
      ]
     },
     "execution_count": 67,
     "metadata": {},
     "output_type": "execute_result"
    }
   ],
   "source": [
    "y.count()"
   ]
  },
  {
   "cell_type": "code",
   "execution_count": 68,
   "metadata": {},
   "outputs": [
    {
     "data": {
      "text/plain": [
       "<matplotlib.axes._subplots.AxesSubplot at 0x1a03777a610>"
      ]
     },
     "execution_count": 68,
     "metadata": {},
     "output_type": "execute_result"
    },
    {
     "data": {
      "image/png": "[encoded data removed]",
      "text/plain": [
       "<Figure size 432x288 with 1 Axes>"
      ]
     },
     "metadata": {
      "needs_background": "light"
     },
     "output_type": "display_data"
    }
   ],
   "source": [
    "sns.distplot(df_clean.price)"
   ]
  },
  {
   "cell_type": "code",
   "execution_count": 69,
   "metadata": {},
   "outputs": [
    {
     "data": {
      "text/plain": [
       "<matplotlib.axes._subplots.AxesSubplot at 0x1a0390ca670>"
      ]
     },
     "execution_count": 69,
     "metadata": {},
     "output_type": "execute_result"
    },
    {
     "data": {
      "image/png": "[encoded data removed]",
      "text/plain": [
       "<Figure size 432x288 with 1 Axes>"
      ]
     },
     "metadata": {
      "needs_background": "light"
     },
     "output_type": "display_data"
    }
   ],
   "source": [
    "sns.distplot(np.log(df_clean.price))"
   ]
  },
  {
   "cell_type": "code",
   "execution_count": 70,
   "metadata": {},
   "outputs": [
    {
     "data": {
      "text/plain": [
       "<matplotlib.axes._subplots.AxesSubplot at 0x1a03919c0a0>"
      ]
     },
     "execution_count": 70,
     "metadata": {},
     "output_type": "execute_result"
    },
    {
     "data": {
      "image/png": "[encoded data removed]",
      "text/plain": [
       "<Figure size 432x288 with 1 Axes>"
      ]
     },
     "metadata": {
      "needs_background": "light"
     },
     "output_type": "display_data"
    }
   ],
   "source": [
    "sns.distplot(x.mileage)\n",
    "\n"
   ]
  },
  {
   "cell_type": "code",
   "execution_count": 71,
   "metadata": {
    "scrolled": true
   },
   "outputs": [
    {
     "data": {
      "text/plain": [
       "<matplotlib.axes._subplots.AxesSubplot at 0x1a0390b8d00>"
      ]
     },
     "execution_count": 71,
     "metadata": {},
     "output_type": "execute_result"
    },
    {
     "data": {
      "image/png": "[encoded data removed]",
      "text/plain": [
       "<Figure size 432x288 with 1 Axes>"
      ]
     },
     "metadata": {
      "needs_background": "light"
     },
     "output_type": "display_data"
    }
   ],
   "source": [
    "# x['mileage']=np.log(x.mileage)\n",
    "sns.distplot(x.mileage)"
   ]
  },
  {
   "cell_type": "code",
   "execution_count": 72,
   "metadata": {},
   "outputs": [
    {
     "data": {
      "text/html": [
       "<div>\n",
       "<style scoped>\n",
       "    .dataframe tbody tr th:only-of-type {\n",
       "        vertical-align: middle;\n",
       "    }\n",
       "\n",
       "    .dataframe tbody tr th {\n",
       "        vertical-align: top;\n",
       "    }\n",
       "\n",
       "    .dataframe thead th {\n",
       "        text-align: right;\n",
       "    }\n",
       "</style>\n",
       "<table border=\"1\" class=\"dataframe\">\n",
       "  <thead>\n",
       "    <tr style=\"text-align: right;\">\n",
       "      <th></th>\n",
       "      <th>mileage</th>\n",
       "      <th>engine_power</th>\n",
       "      <th>paint_color</th>\n",
       "      <th>car_type</th>\n",
       "      <th>feature_1</th>\n",
       "      <th>feature_2</th>\n",
       "      <th>feature_3</th>\n",
       "      <th>feature_4</th>\n",
       "      <th>feature_5</th>\n",
       "      <th>feature_6</th>\n",
       "      <th>feature_7</th>\n",
       "      <th>feature_8</th>\n",
       "      <th>diff_reg_sold</th>\n",
       "      <th>map_fuel</th>\n",
       "      <th>bin_model_key</th>\n",
       "    </tr>\n",
       "  </thead>\n",
       "  <tbody>\n",
       "    <tr>\n",
       "      <th>0</th>\n",
       "      <td>140411</td>\n",
       "      <td>100</td>\n",
       "      <td>7</td>\n",
       "      <td>6</td>\n",
       "      <td>1</td>\n",
       "      <td>1</td>\n",
       "      <td>0</td>\n",
       "      <td>0</td>\n",
       "      <td>1</td>\n",
       "      <td>1</td>\n",
       "      <td>1</td>\n",
       "      <td>0</td>\n",
       "      <td>2161</td>\n",
       "      <td>4</td>\n",
       "      <td>1</td>\n",
       "    </tr>\n",
       "    <tr>\n",
       "      <th>1</th>\n",
       "      <td>13929</td>\n",
       "      <td>317</td>\n",
       "      <td>5</td>\n",
       "      <td>6</td>\n",
       "      <td>1</td>\n",
       "      <td>1</td>\n",
       "      <td>0</td>\n",
       "      <td>0</td>\n",
       "      <td>0</td>\n",
       "      <td>1</td>\n",
       "      <td>1</td>\n",
       "      <td>1</td>\n",
       "      <td>671</td>\n",
       "      <td>3</td>\n",
       "      <td>6</td>\n",
       "    </tr>\n",
       "    <tr>\n",
       "      <th>2</th>\n",
       "      <td>183297</td>\n",
       "      <td>120</td>\n",
       "      <td>9</td>\n",
       "      <td>6</td>\n",
       "      <td>0</td>\n",
       "      <td>0</td>\n",
       "      <td>0</td>\n",
       "      <td>0</td>\n",
       "      <td>1</td>\n",
       "      <td>0</td>\n",
       "      <td>1</td>\n",
       "      <td>0</td>\n",
       "      <td>2132</td>\n",
       "      <td>4</td>\n",
       "      <td>2</td>\n",
       "    </tr>\n",
       "    <tr>\n",
       "      <th>3</th>\n",
       "      <td>128035</td>\n",
       "      <td>135</td>\n",
       "      <td>8</td>\n",
       "      <td>6</td>\n",
       "      <td>1</td>\n",
       "      <td>1</td>\n",
       "      <td>0</td>\n",
       "      <td>0</td>\n",
       "      <td>1</td>\n",
       "      <td>1</td>\n",
       "      <td>1</td>\n",
       "      <td>1</td>\n",
       "      <td>1311</td>\n",
       "      <td>4</td>\n",
       "      <td>4</td>\n",
       "    </tr>\n",
       "    <tr>\n",
       "      <th>4</th>\n",
       "      <td>97097</td>\n",
       "      <td>160</td>\n",
       "      <td>2</td>\n",
       "      <td>6</td>\n",
       "      <td>1</td>\n",
       "      <td>1</td>\n",
       "      <td>0</td>\n",
       "      <td>0</td>\n",
       "      <td>0</td>\n",
       "      <td>1</td>\n",
       "      <td>1</td>\n",
       "      <td>1</td>\n",
       "      <td>1217</td>\n",
       "      <td>4</td>\n",
       "      <td>5</td>\n",
       "    </tr>\n",
       "  </tbody>\n",
       "</table>\n",
       "</div>"
      ],
      "text/plain": [
       "   mileage  engine_power  paint_color  car_type  feature_1  feature_2  \\\n",
       "0   140411           100            7         6          1          1   \n",
       "1    13929           317            5         6          1          1   \n",
       "2   183297           120            9         6          0          0   \n",
       "3   128035           135            8         6          1          1   \n",
       "4    97097           160            2         6          1          1   \n",
       "\n",
       "   feature_3  feature_4  feature_5  feature_6  feature_7  feature_8  \\\n",
       "0          0          0          1          1          1          0   \n",
       "1          0          0          0          1          1          1   \n",
       "2          0          0          1          0          1          0   \n",
       "3          0          0          1          1          1          1   \n",
       "4          0          0          0          1          1          1   \n",
       "\n",
       "   diff_reg_sold  map_fuel  bin_model_key  \n",
       "0           2161         4              1  \n",
       "1            671         3              6  \n",
       "2           2132         4              2  \n",
       "3           1311         4              4  \n",
       "4           1217         4              5  "
      ]
     },
     "execution_count": 72,
     "metadata": {},
     "output_type": "execute_result"
    }
   ],
   "source": [
    "x.head()"
   ]
  },
  {
   "cell_type": "code",
   "execution_count": 73,
   "metadata": {},
   "outputs": [
    {
     "data": {
      "text/plain": [
       "4808"
      ]
     },
     "execution_count": 73,
     "metadata": {},
     "output_type": "execute_result"
    }
   ],
   "source": [
    "# x.count() --4843\n",
    "y.count() #--4843"
   ]
  },
  {
   "cell_type": "code",
   "execution_count": 74,
   "metadata": {},
   "outputs": [],
   "source": [
    "# standardize the variable \n",
    "\n",
    "from sklearn.preprocessing import StandardScaler\n",
    "# x_scaled =StandardScaler().fit_transform(x) #read\n",
    "\n"
   ]
  },
  {
   "cell_type": "code",
   "execution_count": 75,
   "metadata": {},
   "outputs": [],
   "source": [
    "from sklearn.model_selection import train_test_split,GridSearchCV,KFold\n",
    "train_x,test_x,train_y,test_y=train_test_split(x,y,test_size=0.30,random_state=0)"
   ]
  },
  {
   "cell_type": "code",
   "execution_count": 76,
   "metadata": {},
   "outputs": [],
   "source": [
    "scaler1 = StandardScaler().fit(train_x)"
   ]
  },
  {
   "cell_type": "code",
   "execution_count": 77,
   "metadata": {},
   "outputs": [],
   "source": [
    "train_x = scaler1.transform(train_x)\n",
    "test_x = scaler1.transform(test_x)"
   ]
  },
  {
   "cell_type": "code",
   "execution_count": 78,
   "metadata": {},
   "outputs": [],
   "source": [
    "from sklearn.ensemble import RandomForestRegressor\n",
    "RFModel = RandomForestRegressor()"
   ]
  },
  {
   "cell_type": "code",
   "execution_count": 79,
   "metadata": {},
   "outputs": [],
   "source": [
    "param = {'n_estimators':range(70,80,1),\n",
    "        'max_depth': (10,15,1),\n",
    "       'min_samples_split':(6,10,1),\n",
    "        'min_samples_leaf':(8,12,1)}\n",
    "\n",
    "grid = GridSearchCV(estimator = RFModel, param_grid=param, cv=3, scoring = 'r2', n_jobs = -1)\n",
    "grid = grid.fit(train_x,train_y)"
   ]
  },
  {
   "cell_type": "code",
   "execution_count": 80,
   "metadata": {},
   "outputs": [
    {
     "data": {
      "text/plain": [
       "<bound method BaseEstimator.get_params of GridSearchCV(cv=3, estimator=RandomForestRegressor(), n_jobs=-1,\n",
       "             param_grid={'max_depth': (10, 15, 1),\n",
       "                         'min_samples_leaf': (8, 12, 1),\n",
       "                         'min_samples_split': (6, 10, 1),\n",
       "                         'n_estimators': range(70, 80)},\n",
       "             scoring='r2')>"
      ]
     },
     "execution_count": 80,
     "metadata": {},
     "output_type": "execute_result"
    }
   ],
   "source": [
    "grid.get_params"
   ]
  },
  {
   "cell_type": "code",
   "execution_count": 81,
   "metadata": {},
   "outputs": [
    {
     "data": {
      "text/plain": [
       "RandomForestRegressor(max_depth=15, min_samples_leaf=8, min_samples_split=10,\n",
       "                      n_estimators=71)"
      ]
     },
     "execution_count": 81,
     "metadata": {},
     "output_type": "execute_result"
    }
   ],
   "source": [
    "grid.best_estimator_\n",
    "\n",
    "# RandomForestRegressor(max_depth=7, min_samples_leaf=6, n_estimators=50)  --first estimation\n",
    "# RandomForestRegressor(max_depth=10, min_samples_leaf=8, min_samples_split=6,n_estimators=70)  --2nd estimation            \n"
   ]
  },
  {
   "cell_type": "code",
   "execution_count": 82,
   "metadata": {},
   "outputs": [
    {
     "data": {
      "text/plain": [
       "0.7497158334168704"
      ]
     },
     "execution_count": 82,
     "metadata": {},
     "output_type": "execute_result"
    }
   ],
   "source": [
    "grid.best_score_"
   ]
  },
  {
   "cell_type": "code",
   "execution_count": 83,
   "metadata": {},
   "outputs": [],
   "source": [
    "# RFModel=grid.best_estimator_\n",
    "RFModel=RandomForestRegressor(max_depth=15, n_estimators=150)"
   ]
  },
  {
   "cell_type": "code",
   "execution_count": 84,
   "metadata": {},
   "outputs": [
    {
     "data": {
      "text/plain": [
       "RandomForestRegressor(max_depth=15, n_estimators=150)"
      ]
     },
     "execution_count": 84,
     "metadata": {},
     "output_type": "execute_result"
    }
   ],
   "source": [
    "RFModel.fit(train_x, train_y)"
   ]
  },
  {
   "cell_type": "code",
   "execution_count": 85,
   "metadata": {},
   "outputs": [],
   "source": [
    "train_pred = RFModel.predict(train_x)\n",
    "test_pred = RFModel.predict(test_x)"
   ]
  },
  {
   "cell_type": "code",
   "execution_count": 86,
   "metadata": {},
   "outputs": [
    {
     "name": "stdout",
     "output_type": "stream",
     "text": [
      "0.9635382614732566\n",
      "0.8499007812822925\n"
     ]
    }
   ],
   "source": [
    "print(metrics.r2_score(train_y,train_pred))\n",
    "print(metrics.r2_score(test_y,test_pred))\n",
    "\n",
    "#No tuning\n",
    "\n",
    "# 0.9612895297508015\n",
    "# 0.832568211303768\n",
    "\n",
    "#2nd tuning\n",
    "\n",
    "# 0.8087202100445796\n",
    "# 0.8651879867839978"
   ]
  },
  {
   "cell_type": "code",
   "execution_count": 87,
   "metadata": {},
   "outputs": [
    {
     "name": "stdout",
     "output_type": "stream",
     "text": [
      "11251893.986337991\n",
      "3354.3842931807903\n",
      "0.274974420659094\n"
     ]
    }
   ],
   "source": [
    "\n",
    "print(metrics.mean_squared_error(test_y,test_pred))\n",
    "print(np.sqrt(metrics.mean_squared_error(test_y,test_pred)))\n",
    "print(np.sqrt(metrics.mean_squared_log_error( test_y,test_pred)))\n",
    "\n",
    "#No Tuning\n",
    "# 12551196.151767151\n",
    "# 3542.7667368551306\n",
    "# 0.2799859380553033\n",
    "\n",
    "#2nd Tuning\n",
    "# 10105918.563400906\n",
    "# 3178.9807428483905\n",
    "# 0.29421851450734043\n",
    "\n"
   ]
  },
  {
   "cell_type": "code",
   "execution_count": 88,
   "metadata": {},
   "outputs": [],
   "source": [
    "for each in test_pred:\n",
    "    if each<0:\n",
    "        print(each)"
   ]
  },
  {
   "cell_type": "code",
   "execution_count": 89,
   "metadata": {},
   "outputs": [
    {
     "data": {
      "text/plain": [
       "[<matplotlib.lines.Line2D at 0x1a03a6ff3d0>]"
      ]
     },
     "execution_count": 89,
     "metadata": {},
     "output_type": "execute_result"
    },
    {
     "data": {
      "image/png": "[encoded data removed]",
      "text/plain": [
       "<Figure size 864x576 with 1 Axes>"
      ]
     },
     "metadata": {
      "needs_background": "light"
     },
     "output_type": "display_data"
    }
   ],
   "source": [
    "plt.figure(figsize=(12,8))\n",
    "plt.scatter(test_y,test_pred)\n",
    "plt.plot(test_y,test_y,'r')"
   ]
  },
  {
   "cell_type": "code",
   "execution_count": 90,
   "metadata": {},
   "outputs": [
    {
     "name": "stdout",
     "output_type": "stream",
     "text": [
      "0.7991436075840502\n",
      "0.7418279937908627\n",
      "0.7770502905173283\n",
      "0.7746641744977439\n",
      "0.8073451248487267\n",
      "0.758019869319362\n",
      "0.7428414813741981\n",
      "0.890386388329043\n",
      "0.8503603285367335\n",
      "0.8946120889836242\n",
      "0.9058892260118978\n",
      "0.8465997199392846\n",
      "0.8461821413432215\n",
      "0.9051740418708148\n",
      "0.47880348153462227\n",
      "Average scores are:  0.801259997232101\n"
     ]
    }
   ],
   "source": [
    "from sklearn.model_selection import KFold, cross_val_score,StratifiedKFold\n",
    "l=[]\n",
    "setused=x\n",
    "target=y\n",
    "\n",
    "kfold, scores = KFold(n_splits=15,random_state=True), list()\n",
    "for train, test in kfold.split(setused,target):\n",
    "    x_train, x_test = setused.values[train], setused.values[test]\n",
    "    y_train, y_test = target.values[train], target.values[test] \n",
    "    scaler2 = StandardScaler().fit(x_train)\n",
    "    x_train = scaler2.transform(x_train)\n",
    "    x_test = scaler2.transform(x_test)\n",
    "    \n",
    "    model = RFModel\n",
    "    model.fit(x_train, y_train)\n",
    "    preds = model.predict(x_test)\n",
    "    feature_importances = pd.DataFrame(model.feature_importances_,\n",
    "                                       index = setused.columns,\n",
    "                                        columns=['importance'])\n",
    "    sum=feature_importances.values\n",
    "    l.append(sum)\n",
    "    score = metrics.r2_score(y_test, preds)\n",
    "#     score = np.sqrt(metrics.mean_squared_log_error(y_test, preds))\n",
    "    scores.append(score)\n",
    "    print(score)\n",
    "print(\"Average scores are: \", np.sum(scores)/len(scores))\n",
    "\n",
    "# 0.7919718652925798\n",
    "# 0.796680218174041\n",
    "# 0.7936670153201992"
   ]
  },
  {
   "cell_type": "code",
   "execution_count": 91,
   "metadata": {},
   "outputs": [
    {
     "data": {
      "text/plain": [
       "15"
      ]
     },
     "execution_count": 91,
     "metadata": {},
     "output_type": "execute_result"
    },
    {
     "data": {
      "image/png": "[encoded data removed]",
      "text/plain": [
       "<Figure size 360x360 with 1 Axes>"
      ]
     },
     "metadata": {
      "needs_background": "light"
     },
     "output_type": "display_data"
    }
   ],
   "source": [
    "train_set=setused\n",
    "labels=target\n",
    "threshold=0.0005\n",
    "add=0\n",
    "for item in l:\n",
    "  add+=item\n",
    "df_cv=pd.DataFrame(add/len(l),index=train_set.columns,columns=[\"importance\"]).sort_values('importance', ascending=False)\n",
    "imp_columns=df_cv[df_cv['importance']>threshold].index.tolist()\n",
    "df_cv=df_cv.reset_index()\n",
    "feat_imp = pd.Series(df_cv.importance.values, index=df_cv.drop([\"importance\"], axis=1)).sort_values(axis='index',ascending=False)\n",
    "X2=setused[imp_columns]\n",
    "feat_imp.nlargest(25).plot(kind='barh', figsize=(5,5))\n",
    "len(imp_columns)"
   ]
  }
 ],
 "metadata": {
  "kernelspec": {
   "display_name": "Python 3",
   "language": "python",
   "name": "python3"
  },
  "language_info": {
   "codemirror_mode": {
    "name": "ipython",
    "version": 3
   },
   "file_extension": ".py",
   "mimetype": "text/x-python",
   "name": "python",
   "nbconvert_exporter": "python",
   "pygments_lexer": "ipython3",
   "version": "3.8.3"
  }
 },
 "nbformat": 4,
 "nbformat_minor": 4
}
