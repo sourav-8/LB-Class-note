{
 "cells": [
  {
   "cell_type": "markdown",
   "metadata": {},
   "source": [
    "Case Study 2:\n",
    "Load practice.csv file as a data-frame and perform following operations on the data-frame\n",
    "1.\tDisplay all columns\n",
    "2.\tcreate numerical and categorical columns list\n",
    "3.\tdisplay size of the data-frame\n",
    "4.\trename column MSSubClass -> SubClass, MSZoning -> Zones\n",
    "5.\tdisplay distinct values for Zoning, LotShape, LotConfig\n",
    "6.\tdisplay count of distinct values for Zoning, LotShape, LotConfig\n",
    "7.\tmax, min of column YearBuilt\n",
    "8.\tcreate a new column “year_diff’. This will be holding difference of current year and YearBuilt\n",
    "9.\tdisplay distinct MSZoning for each OverallQual\n",
    "10.\tWhat is the maximum LotArea where  BsmtExposure = Mn?\n",
    "11.\tSort dataframe based on following columns and orders: MSSubClass; ascending, YearBuilt; descending\n",
    "12.\tWhat is average OverallQual.\n",
    "13.\tconvert column ‘YearBuilt’ into date type.\n",
    "14.\tGroup by YearBuilt and find maximum OverallQal\n",
    "15.\tLoad the practice.csv again with MSSubClass as new index\n",
    "16.\tConvert LotArea as numpy array\n",
    "17.\tIn column MasVnrArea replace 0 with -1\n",
    "18.\tCheck if there is/are any Null values (NaN) in the data given\n",
    "19.\tDisplay percentage of missing values in each column if any\n",
    "20.\tSelect records where LotConfig is Inside\n",
    "21.\tMake a new dataframe with only numeric columns\n",
    "22.\tMake a new dataframe with only factorial/string columns\n",
    "23.\tDrop column ExterQual\n",
    "24.\tGroup data on LotShape and find average LotArea\n",
    "25.\tWrite code to get a pivot table as shown (average of MSSubClass)\n"
   ]
  },
  {
   "cell_type": "code",
   "execution_count": 1,
   "metadata": {},
   "outputs": [],
   "source": [
    "import pandas as pd\n",
    "import numpy as np"
   ]
  },
  {
   "cell_type": "code",
   "execution_count": 3,
   "metadata": {},
   "outputs": [],
   "source": [
    "df = pd.read_csv(\"top50 - top50.csv\")"
   ]
  },
  {
   "cell_type": "code",
   "execution_count": 6,
   "metadata": {},
   "outputs": [
    {
     "data": {
      "text/html": [
       "<div>\n",
       "<style scoped>\n",
       "    .dataframe tbody tr th:only-of-type {\n",
       "        vertical-align: middle;\n",
       "    }\n",
       "\n",
       "    .dataframe tbody tr th {\n",
       "        vertical-align: top;\n",
       "    }\n",
       "\n",
       "    .dataframe thead th {\n",
       "        text-align: right;\n",
       "    }\n",
       "</style>\n",
       "<table border=\"1\" class=\"dataframe\">\n",
       "  <thead>\n",
       "    <tr style=\"text-align: right;\">\n",
       "      <th></th>\n",
       "      <th>Unnamed: 0</th>\n",
       "      <th>Beats.Per.Minute</th>\n",
       "      <th>Energy</th>\n",
       "      <th>Danceability</th>\n",
       "      <th>Loudness..dB..</th>\n",
       "      <th>Liveness</th>\n",
       "      <th>Valence.</th>\n",
       "      <th>Length.</th>\n",
       "      <th>Acousticness..</th>\n",
       "      <th>Speechiness.</th>\n",
       "      <th>Popularity</th>\n",
       "    </tr>\n",
       "  </thead>\n",
       "  <tbody>\n",
       "    <tr>\n",
       "      <th>count</th>\n",
       "      <td>50.00000</td>\n",
       "      <td>50.000000</td>\n",
       "      <td>50.000000</td>\n",
       "      <td>50.00000</td>\n",
       "      <td>50.000000</td>\n",
       "      <td>50.000000</td>\n",
       "      <td>50.000000</td>\n",
       "      <td>50.000000</td>\n",
       "      <td>50.000000</td>\n",
       "      <td>50.000000</td>\n",
       "      <td>50.000000</td>\n",
       "    </tr>\n",
       "    <tr>\n",
       "      <th>mean</th>\n",
       "      <td>25.50000</td>\n",
       "      <td>120.060000</td>\n",
       "      <td>64.060000</td>\n",
       "      <td>71.38000</td>\n",
       "      <td>-5.660000</td>\n",
       "      <td>14.660000</td>\n",
       "      <td>54.600000</td>\n",
       "      <td>200.960000</td>\n",
       "      <td>22.160000</td>\n",
       "      <td>12.480000</td>\n",
       "      <td>87.500000</td>\n",
       "    </tr>\n",
       "    <tr>\n",
       "      <th>std</th>\n",
       "      <td>14.57738</td>\n",
       "      <td>30.898392</td>\n",
       "      <td>14.231913</td>\n",
       "      <td>11.92988</td>\n",
       "      <td>2.056448</td>\n",
       "      <td>11.118306</td>\n",
       "      <td>22.336024</td>\n",
       "      <td>39.143879</td>\n",
       "      <td>18.995553</td>\n",
       "      <td>11.161596</td>\n",
       "      <td>4.491489</td>\n",
       "    </tr>\n",
       "    <tr>\n",
       "      <th>min</th>\n",
       "      <td>1.00000</td>\n",
       "      <td>85.000000</td>\n",
       "      <td>32.000000</td>\n",
       "      <td>29.00000</td>\n",
       "      <td>-11.000000</td>\n",
       "      <td>5.000000</td>\n",
       "      <td>10.000000</td>\n",
       "      <td>115.000000</td>\n",
       "      <td>1.000000</td>\n",
       "      <td>3.000000</td>\n",
       "      <td>70.000000</td>\n",
       "    </tr>\n",
       "    <tr>\n",
       "      <th>25%</th>\n",
       "      <td>13.25000</td>\n",
       "      <td>96.000000</td>\n",
       "      <td>55.250000</td>\n",
       "      <td>67.00000</td>\n",
       "      <td>-6.750000</td>\n",
       "      <td>8.000000</td>\n",
       "      <td>38.250000</td>\n",
       "      <td>176.750000</td>\n",
       "      <td>8.250000</td>\n",
       "      <td>5.000000</td>\n",
       "      <td>86.000000</td>\n",
       "    </tr>\n",
       "    <tr>\n",
       "      <th>50%</th>\n",
       "      <td>25.50000</td>\n",
       "      <td>104.500000</td>\n",
       "      <td>66.500000</td>\n",
       "      <td>73.50000</td>\n",
       "      <td>-6.000000</td>\n",
       "      <td>11.000000</td>\n",
       "      <td>55.500000</td>\n",
       "      <td>198.000000</td>\n",
       "      <td>15.000000</td>\n",
       "      <td>7.000000</td>\n",
       "      <td>88.000000</td>\n",
       "    </tr>\n",
       "    <tr>\n",
       "      <th>75%</th>\n",
       "      <td>37.75000</td>\n",
       "      <td>137.500000</td>\n",
       "      <td>74.750000</td>\n",
       "      <td>79.75000</td>\n",
       "      <td>-4.000000</td>\n",
       "      <td>15.750000</td>\n",
       "      <td>69.500000</td>\n",
       "      <td>217.500000</td>\n",
       "      <td>33.750000</td>\n",
       "      <td>15.000000</td>\n",
       "      <td>90.750000</td>\n",
       "    </tr>\n",
       "    <tr>\n",
       "      <th>max</th>\n",
       "      <td>50.00000</td>\n",
       "      <td>190.000000</td>\n",
       "      <td>88.000000</td>\n",
       "      <td>90.00000</td>\n",
       "      <td>-2.000000</td>\n",
       "      <td>58.000000</td>\n",
       "      <td>95.000000</td>\n",
       "      <td>309.000000</td>\n",
       "      <td>75.000000</td>\n",
       "      <td>46.000000</td>\n",
       "      <td>95.000000</td>\n",
       "    </tr>\n",
       "  </tbody>\n",
       "</table>\n",
       "</div>"
      ],
      "text/plain": [
       "       Unnamed: 0  Beats.Per.Minute     Energy  Danceability  Loudness..dB..  \\\n",
       "count    50.00000         50.000000  50.000000      50.00000       50.000000   \n",
       "mean     25.50000        120.060000  64.060000      71.38000       -5.660000   \n",
       "std      14.57738         30.898392  14.231913      11.92988        2.056448   \n",
       "min       1.00000         85.000000  32.000000      29.00000      -11.000000   \n",
       "25%      13.25000         96.000000  55.250000      67.00000       -6.750000   \n",
       "50%      25.50000        104.500000  66.500000      73.50000       -6.000000   \n",
       "75%      37.75000        137.500000  74.750000      79.75000       -4.000000   \n",
       "max      50.00000        190.000000  88.000000      90.00000       -2.000000   \n",
       "\n",
       "        Liveness   Valence.     Length.  Acousticness..  Speechiness.  \\\n",
       "count  50.000000  50.000000   50.000000       50.000000     50.000000   \n",
       "mean   14.660000  54.600000  200.960000       22.160000     12.480000   \n",
       "std    11.118306  22.336024   39.143879       18.995553     11.161596   \n",
       "min     5.000000  10.000000  115.000000        1.000000      3.000000   \n",
       "25%     8.000000  38.250000  176.750000        8.250000      5.000000   \n",
       "50%    11.000000  55.500000  198.000000       15.000000      7.000000   \n",
       "75%    15.750000  69.500000  217.500000       33.750000     15.000000   \n",
       "max    58.000000  95.000000  309.000000       75.000000     46.000000   \n",
       "\n",
       "       Popularity  \n",
       "count   50.000000  \n",
       "mean    87.500000  \n",
       "std      4.491489  \n",
       "min     70.000000  \n",
       "25%     86.000000  \n",
       "50%     88.000000  \n",
       "75%     90.750000  \n",
       "max     95.000000  "
      ]
     },
     "execution_count": 6,
     "metadata": {},
     "output_type": "execute_result"
    }
   ],
   "source": [
    "\n",
    "df.head()\n",
    "df.describe()"
   ]
  },
  {
   "cell_type": "code",
   "execution_count": 5,
   "metadata": {},
   "outputs": [
    {
     "data": {
      "text/plain": [
       "Index(['Unnamed: 0', 'Track.Name', 'Artist.Name', 'Genre', 'Beats.Per.Minute',\n",
       "       'Energy', 'Danceability', 'Loudness..dB..', 'Liveness', 'Valence.',\n",
       "       'Length.', 'Acousticness..', 'Speechiness.', 'Popularity'],\n",
       "      dtype='object')"
      ]
     },
     "execution_count": 5,
     "metadata": {},
     "output_type": "execute_result"
    }
   ],
   "source": [
    "#1.\tDisplay all columns\n",
    "df.columns"
   ]
  },
  {
   "cell_type": "code",
   "execution_count": 11,
   "metadata": {},
   "outputs": [
    {
     "data": {
      "text/plain": [
       "Index(['Track.Name', 'Artist.Name', 'Genre'], dtype='object')"
      ]
     },
     "execution_count": 11,
     "metadata": {},
     "output_type": "execute_result"
    }
   ],
   "source": [
    "# 2.\tcreate numerical and categorical columns list\n",
    "df.select_dtypes(include = 'object').columns"
   ]
  },
  {
   "cell_type": "code",
   "execution_count": 17,
   "metadata": {},
   "outputs": [
    {
     "data": {
      "text/plain": [
       "50"
      ]
     },
     "execution_count": 17,
     "metadata": {},
     "output_type": "execute_result"
    }
   ],
   "source": [
    "# 3.\tdisplay size of the data-frame\n",
    "df.shape[0]\n",
    "# help(df.rename)"
   ]
  },
  {
   "cell_type": "code",
   "execution_count": 16,
   "metadata": {},
   "outputs": [
    {
     "data": {
      "text/plain": [
       "Index(['Unnamed: 0', 'Track.Name', 'Artist.Name', 'Genre', 'Beats.Per.Minute',\n",
       "       'Energy', 'Danceability', 'Loudness..dB..', 'Liveness', 'Valence.',\n",
       "       'Length.', 'Acousticness..', 'Speechiness.', 'Popularity'],\n",
       "      dtype='object')"
      ]
     },
     "execution_count": 16,
     "metadata": {},
     "output_type": "execute_result"
    }
   ],
   "source": [
    "# 4.\trename column MSSubClass -> SubClass, MSZoning -> Zones\n",
    "df.rename(columns={\"MSSubClass\" : \"SubClass\", \"MSZoning\": \"Zones\"})\n",
    "df.columns"
   ]
  },
  {
   "cell_type": "code",
   "execution_count": null,
   "metadata": {},
   "outputs": [],
   "source": [
    "# 5.\tdisplay distinct values for Zoning, LotShape, LotConfig\n",
    "# 6.\tdisplay count of distinct values for Zoning, LotShape, LotConfig\n",
    "# 7.\tmax, min of column YearBuilt\n",
    "# 8.\tcreate a new column “year_diff’. This will be holding difference of current year and YearBuilt\n",
    "# 9.\tdisplay distinct MSZoning for each OverallQual\n",
    "# 10.\tWhat is the maximum LotArea where  BsmtExposure = Mn?\n",
    "# 11.\tSort dataframe based on following columns and orders: MSSubClass; ascending, YearBuilt; descending\n",
    "# 12.\tWhat is average OverallQual.\n",
    "# 13.\tconvert column ‘YearBuilt’ into date type.\n",
    "# 14.\tGroup by YearBuilt and find maximum OverallQal\n",
    "# 15.\tLoad the practice.csv again with MSSubClass as new index\n",
    "# 16.\tConvert LotArea as numpy array\n",
    "# 17.\tIn column MasVnrArea replace 0 with -1\n",
    "# 18.\tCheck if there is/are any Null values (NaN) in the data given\n",
    "# 19.\tDisplay percentage of missing values in each column if any\n",
    "# 20.\tSelect records where LotConfig is Inside\n",
    "# 21.\tMake a new dataframe with only numeric columns\n",
    "# 22.\tMake a new dataframe with only factorial/string columns\n",
    "# 23.\tDrop column ExterQual\n",
    "# 24.\tGroup data on LotShape and find average LotArea\n",
    "# 25.\tWrite code to get a pivot table as shown ( average of MSSubClass)\n"
   ]
  },
  {
   "cell_type": "code",
   "execution_count": null,
   "metadata": {},
   "outputs": [],
   "source": []
  },
  {
   "cell_type": "code",
   "execution_count": null,
   "metadata": {},
   "outputs": [],
   "source": []
  },
  {
   "cell_type": "code",
   "execution_count": null,
   "metadata": {},
   "outputs": [],
   "source": []
  },
  {
   "cell_type": "code",
   "execution_count": null,
   "metadata": {},
   "outputs": [],
   "source": []
  },
  {
   "cell_type": "code",
   "execution_count": null,
   "metadata": {},
   "outputs": [],
   "source": []
  },
  {
   "cell_type": "code",
   "execution_count": null,
   "metadata": {},
   "outputs": [],
   "source": []
  },
  {
   "cell_type": "code",
   "execution_count": null,
   "metadata": {},
   "outputs": [],
   "source": []
  },
  {
   "cell_type": "code",
   "execution_count": null,
   "metadata": {},
   "outputs": [],
   "source": []
  },
  {
   "cell_type": "code",
   "execution_count": null,
   "metadata": {},
   "outputs": [],
   "source": []
  },
  {
   "cell_type": "code",
   "execution_count": null,
   "metadata": {},
   "outputs": [],
   "source": []
  },
  {
   "cell_type": "code",
   "execution_count": null,
   "metadata": {},
   "outputs": [],
   "source": []
  },
  {
   "cell_type": "code",
   "execution_count": null,
   "metadata": {},
   "outputs": [],
   "source": []
  },
  {
   "cell_type": "code",
   "execution_count": null,
   "metadata": {},
   "outputs": [],
   "source": []
  },
  {
   "cell_type": "code",
   "execution_count": null,
   "metadata": {},
   "outputs": [],
   "source": []
  },
  {
   "cell_type": "code",
   "execution_count": null,
   "metadata": {},
   "outputs": [],
   "source": []
  },
  {
   "cell_type": "code",
   "execution_count": null,
   "metadata": {},
   "outputs": [],
   "source": []
  },
  {
   "cell_type": "code",
   "execution_count": null,
   "metadata": {},
   "outputs": [],
   "source": []
  },
  {
   "cell_type": "code",
   "execution_count": null,
   "metadata": {},
   "outputs": [],
   "source": []
  },
  {
   "cell_type": "code",
   "execution_count": null,
   "metadata": {},
   "outputs": [],
   "source": []
  },
  {
   "cell_type": "code",
   "execution_count": null,
   "metadata": {},
   "outputs": [],
   "source": []
  },
  {
   "cell_type": "code",
   "execution_count": null,
   "metadata": {},
   "outputs": [],
   "source": []
  },
  {
   "cell_type": "code",
   "execution_count": null,
   "metadata": {},
   "outputs": [],
   "source": []
  }
 ],
 "metadata": {
  "kernelspec": {
   "display_name": "Python 3",
   "language": "python",
   "name": "python3"
  },
  "language_info": {
   "codemirror_mode": {
    "name": "ipython",
    "version": 3
   },
   "file_extension": ".py",
   "mimetype": "text/x-python",
   "name": "python",
   "nbconvert_exporter": "python",
   "pygments_lexer": "ipython3",
   "version": "3.7.6"
  }
 },
 "nbformat": 4,
 "nbformat_minor": 4
}
